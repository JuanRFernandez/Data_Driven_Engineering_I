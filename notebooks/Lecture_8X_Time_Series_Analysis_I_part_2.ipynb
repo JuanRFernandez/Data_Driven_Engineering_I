{
  "cells": [
    {
      "cell_type": "markdown",
      "metadata": {
        "id": "cQxGOeC7ZmUj"
      },
      "source": [
        "#Active Session 6: Time Series Analysis for Dynamical Systems I"
      ]
    },
    {
      "cell_type": "markdown",
      "metadata": {
        "id": "VpF0Ype1X_L7"
      },
      "source": [
        "#Important Note\n",
        "\n",
        "Lecture notes and notebooks must not be copied and/or distributed without the express permission of ITS.\n",
        "\n",
        "\n",
        "\n"
      ]
    },
    {
      "cell_type": "markdown",
      "metadata": {
        "id": "rA_3sqmEls1m"
      },
      "source": [
        "#1. Problem Definition: Short Term Load Forecasting\n",
        "\n",
        "Energy landscape is changing with the increase in the share of renewables and change in user behaviour. There are important challenges waiting to be solved within the energy sector and the demand forecasting can help solving critical business problems. Feel free to explore the additional content at the end from GE.\n",
        "\n",
        "In this dataset, we will perform load forecasting within the context of energy demand. It is an open-access data published as the appendix Hong et al. (2016). The data consists of three years of hourly electricity load and temperatures. The temperature data will serve as a typical additional feature for load forecasting -- depending on how you formulate your solution, you may need to predict the temperature as well!"
      ]
    },
    {
      "cell_type": "markdown",
      "metadata": {
        "id": "C9yyayGmmaKy"
      },
      "source": [
        "\n",
        "# 2. Preparing the environment\n",
        "\n",
        "Import the Python libraries that we will need to (i) load the data, (ii) analyze it, (iii) create our model, (iv) process the results."
      ]
    },
    {
      "cell_type": "code",
      "execution_count": 1,
      "metadata": {
        "colab": {
          "base_uri": "https://localhost:8080/"
        },
        "id": "yWFatBGPPinR",
        "outputId": "eb3a67d2-40ae-4644-aae9-ea1f878c3b9a"
      },
      "outputs": [
        {
          "name": "stdout",
          "output_type": "stream",
          "text": [
            "Requirement already satisfied: ipython-autotime in c:\\users\\rofer\\anaconda3\\envs\\thesis\\lib\\site-packages (0.3.1)\n",
            "Requirement already satisfied: ipython in c:\\users\\rofer\\anaconda3\\envs\\thesis\\lib\\site-packages (from ipython-autotime) (8.8.0)\n",
            "Requirement already satisfied: decorator in c:\\users\\rofer\\anaconda3\\envs\\thesis\\lib\\site-packages (from ipython->ipython-autotime) (5.1.1)\n",
            "Requirement already satisfied: pickleshare in c:\\users\\rofer\\anaconda3\\envs\\thesis\\lib\\site-packages (from ipython->ipython-autotime) (0.7.5)\n",
            "Requirement already satisfied: stack-data in c:\\users\\rofer\\anaconda3\\envs\\thesis\\lib\\site-packages (from ipython->ipython-autotime) (0.6.2)\n",
            "Requirement already satisfied: backcall in c:\\users\\rofer\\anaconda3\\envs\\thesis\\lib\\site-packages (from ipython->ipython-autotime) (0.2.0)\n",
            "Requirement already satisfied: jedi>=0.16 in c:\\users\\rofer\\anaconda3\\envs\\thesis\\lib\\site-packages (from ipython->ipython-autotime) (0.18.2)\n",
            "Requirement already satisfied: traitlets>=5 in c:\\users\\rofer\\anaconda3\\envs\\thesis\\lib\\site-packages (from ipython->ipython-autotime) (5.8.1)\n",
            "Requirement already satisfied: prompt-toolkit<3.1.0,>=3.0.11 in c:\\users\\rofer\\anaconda3\\envs\\thesis\\lib\\site-packages (from ipython->ipython-autotime) (3.0.36)\n",
            "Requirement already satisfied: matplotlib-inline in c:\\users\\rofer\\anaconda3\\envs\\thesis\\lib\\site-packages (from ipython->ipython-autotime) (0.1.6)\n",
            "Requirement already satisfied: pygments>=2.4.0 in c:\\users\\rofer\\anaconda3\\envs\\thesis\\lib\\site-packages (from ipython->ipython-autotime) (2.14.0)\n",
            "Requirement already satisfied: colorama in c:\\users\\rofer\\anaconda3\\envs\\thesis\\lib\\site-packages (from ipython->ipython-autotime) (0.4.6)\n",
            "Requirement already satisfied: parso<0.9.0,>=0.8.0 in c:\\users\\rofer\\anaconda3\\envs\\thesis\\lib\\site-packages (from jedi>=0.16->ipython->ipython-autotime) (0.8.3)\n",
            "Requirement already satisfied: wcwidth in c:\\users\\rofer\\anaconda3\\envs\\thesis\\lib\\site-packages (from prompt-toolkit<3.1.0,>=3.0.11->ipython->ipython-autotime) (0.2.6)\n",
            "Requirement already satisfied: executing>=1.2.0 in c:\\users\\rofer\\anaconda3\\envs\\thesis\\lib\\site-packages (from stack-data->ipython->ipython-autotime) (1.2.0)\n",
            "Requirement already satisfied: asttokens>=2.1.0 in c:\\users\\rofer\\anaconda3\\envs\\thesis\\lib\\site-packages (from stack-data->ipython->ipython-autotime) (2.2.1)\n",
            "Requirement already satisfied: pure-eval in c:\\users\\rofer\\anaconda3\\envs\\thesis\\lib\\site-packages (from stack-data->ipython->ipython-autotime) (0.2.2)\n",
            "Requirement already satisfied: six in c:\\users\\rofer\\anaconda3\\envs\\thesis\\lib\\site-packages (from asttokens>=2.1.0->stack-data->ipython->ipython-autotime) (1.16.0)\n",
            "time: 0 ns (started: 2023-05-04 12:08:49 +02:00)\n"
          ]
        },
        {
          "name": "stderr",
          "output_type": "stream",
          "text": [
            "WARNING: Ignoring invalid distribution -cipy (c:\\users\\rofer\\anaconda3\\envs\\thesis\\lib\\site-packages)\n",
            "WARNING: Ignoring invalid distribution -cipy (c:\\users\\rofer\\anaconda3\\envs\\thesis\\lib\\site-packages)\n",
            "WARNING: Ignoring invalid distribution -cipy (c:\\users\\rofer\\anaconda3\\envs\\thesis\\lib\\site-packages)\n",
            "WARNING: Ignoring invalid distribution -cipy (c:\\users\\rofer\\anaconda3\\envs\\thesis\\lib\\site-packages)\n",
            "WARNING: Ignoring invalid distribution -cipy (c:\\users\\rofer\\anaconda3\\envs\\thesis\\lib\\site-packages)\n",
            "WARNING: Ignoring invalid distribution -cipy (c:\\users\\rofer\\anaconda3\\envs\\thesis\\lib\\site-packages)\n"
          ]
        }
      ],
      "source": [
        "!pip install ipython-autotime\n",
        "%load_ext autotime"
      ]
    },
    {
      "cell_type": "markdown",
      "metadata": {
        "id": "OYJUVWg9-HxL"
      },
      "source": [
        "## Libraries"
      ]
    },
    {
      "cell_type": "code",
      "execution_count": 2,
      "metadata": {
        "colab": {
          "base_uri": "https://localhost:8080/"
        },
        "id": "8i9z1Kao-kQT",
        "outputId": "d936f98d-719f-408f-82c5-a2839a219ce4"
      },
      "outputs": [
        {
          "name": "stdout",
          "output_type": "stream",
          "text": [
            "Requirement already satisfied: statsmodels in c:\\users\\rofer\\anaconda3\\envs\\thesis\\lib\\site-packages (0.13.5)\n",
            "Requirement already satisfied: packaging>=21.3 in c:\\users\\rofer\\anaconda3\\envs\\thesis\\lib\\site-packages (from statsmodels) (22.0)\n",
            "Requirement already satisfied: patsy>=0.5.2 in c:\\users\\rofer\\anaconda3\\envs\\thesis\\lib\\site-packages (from statsmodels) (0.5.3)\n",
            "Requirement already satisfied: pandas>=0.25 in c:\\users\\rofer\\appdata\\roaming\\python\\python310\\site-packages (from statsmodels) (2.0.0)\n",
            "Requirement already satisfied: scipy>=1.3 in c:\\users\\rofer\\anaconda3\\envs\\thesis\\lib\\site-packages (from statsmodels) (1.10.1)\n",
            "Requirement already satisfied: numpy>=1.22.3 in c:\\users\\rofer\\anaconda3\\envs\\thesis\\lib\\site-packages (from statsmodels) (1.24.2)\n",
            "Requirement already satisfied: pytz>=2020.1 in c:\\users\\rofer\\anaconda3\\envs\\thesis\\lib\\site-packages (from pandas>=0.25->statsmodels) (2022.7)\n",
            "Requirement already satisfied: tzdata>=2022.1 in c:\\users\\rofer\\anaconda3\\envs\\thesis\\lib\\site-packages (from pandas>=0.25->statsmodels) (2023.3)\n",
            "Requirement already satisfied: python-dateutil>=2.8.2 in c:\\users\\rofer\\anaconda3\\envs\\thesis\\lib\\site-packages (from pandas>=0.25->statsmodels) (2.8.2)\n",
            "Requirement already satisfied: six in c:\\users\\rofer\\anaconda3\\envs\\thesis\\lib\\site-packages (from patsy>=0.5.2->statsmodels) (1.16.0)\n",
            "time: 4.19 s (started: 2023-05-04 12:08:49 +02:00)\n"
          ]
        },
        {
          "name": "stderr",
          "output_type": "stream",
          "text": [
            "WARNING: Ignoring invalid distribution -cipy (c:\\users\\rofer\\anaconda3\\envs\\thesis\\lib\\site-packages)\n",
            "WARNING: Ignoring invalid distribution -cipy (c:\\users\\rofer\\anaconda3\\envs\\thesis\\lib\\site-packages)\n",
            "WARNING: Ignoring invalid distribution -cipy (c:\\users\\rofer\\anaconda3\\envs\\thesis\\lib\\site-packages)\n",
            "WARNING: Ignoring invalid distribution -cipy (c:\\users\\rofer\\anaconda3\\envs\\thesis\\lib\\site-packages)\n",
            "WARNING: Ignoring invalid distribution -cipy (c:\\users\\rofer\\anaconda3\\envs\\thesis\\lib\\site-packages)\n",
            "WARNING: Ignoring invalid distribution -cipy (c:\\users\\rofer\\anaconda3\\envs\\thesis\\lib\\site-packages)\n"
          ]
        }
      ],
      "source": [
        "#Local Installations\n",
        "!pip install statsmodels"
      ]
    },
    {
      "cell_type": "code",
      "execution_count": 3,
      "metadata": {
        "colab": {
          "base_uri": "https://localhost:8080/"
        },
        "id": "qQAx5I7N-GQ0",
        "outputId": "f69d8cb0-f09a-446a-c350-5b5255baa80d"
      },
      "outputs": [
        {
          "name": "stdout",
          "output_type": "stream",
          "text": [
            "time: 3.19 s (started: 2023-05-04 12:08:53 +02:00)\n"
          ]
        }
      ],
      "source": [
        "#Importing the necessary libraries\n",
        "import math\n",
        "import numpy as np\n",
        "import pandas as pd\n",
        "import datetime as dt\n",
        "import os\n",
        "import itertools\n",
        "import matplotlib.pyplot as plt\n",
        "import seaborn as sns\n",
        "color = sns.color_palette()\n",
        "import matplotlib as mpl\n",
        "from matplotlib import colors as mcolors\n",
        "colors = dict(mcolors.BASE_COLORS, **mcolors.CSS4_COLORS)\n",
        "import statsmodels.api as sm\n",
        "import warnings\n",
        "import matplotlib.dates as mdates\n",
        "from pandas.plotting import lag_plot, autocorrelation_plot\n",
        "from statsmodels.graphics.tsaplots import plot_acf, plot_pacf "
      ]
    },
    {
      "cell_type": "code",
      "execution_count": 4,
      "metadata": {
        "colab": {
          "base_uri": "https://localhost:8080/"
        },
        "id": "Bde603-P-KSz",
        "outputId": "0843bf0e-ae45-456c-c875-c671b3ec31ac"
      },
      "outputs": [
        {
          "name": "stdout",
          "output_type": "stream",
          "text": [
            "time: 125 ms (started: 2023-05-04 12:08:57 +02:00)\n"
          ]
        }
      ],
      "source": [
        "# Data Preparation and Scoring\n",
        "from sklearn import preprocessing as pp\n",
        "from scipy import stats\n",
        "from sklearn.model_selection import train_test_split\n",
        "from sklearn.model_selection import KFold\n",
        "from sklearn.model_selection import GridSearchCV\n",
        "from scipy.stats import reciprocal\n",
        "from sklearn.model_selection import RandomizedSearchCV\n",
        "from sklearn.metrics import make_scorer\n",
        "from sklearn.metrics import accuracy_score\n",
        "from sklearn.metrics import mean_absolute_error\n",
        "from sklearn.metrics import r2_score\n",
        "from sklearn.metrics import mean_squared_error\n",
        "from matplotlib.colors import LogNorm"
      ]
    },
    {
      "cell_type": "code",
      "execution_count": 5,
      "metadata": {
        "colab": {
          "base_uri": "https://localhost:8080/"
        },
        "id": "Pdh6vaiE-PVi",
        "outputId": "e014ddc3-2120-48bf-fd4d-8e7a3ba2f6f1"
      },
      "outputs": [
        {
          "name": "stdout",
          "output_type": "stream",
          "text": [
            "time: 63 ms (started: 2023-05-04 12:08:57 +02:00)\n"
          ]
        }
      ],
      "source": [
        "# ML Algorithms to be used\n",
        "from statsmodels.tsa.statespace.sarimax import SARIMAX\n",
        "from sklearn.svm import SVR"
      ]
    },
    {
      "cell_type": "markdown",
      "metadata": {
        "id": "_4cDs8HWmfhF"
      },
      "source": [
        "# 3. Pre-processing\n"
      ]
    },
    {
      "cell_type": "markdown",
      "metadata": {
        "id": "R2p8AIqRvakC"
      },
      "source": [
        "## Loading the Data\n",
        "\n",
        "We need to upload the dataset to Colab environment. Pandas library is a practical way to load and read the data from an url. \n",
        "\n",
        "The data is on ILIAS so this week you need to upload the data from your local pc / by using Google Drive link. "
      ]
    },
    {
      "cell_type": "code",
      "execution_count": 6,
      "metadata": {
        "colab": {
          "base_uri": "https://localhost:8080/"
        },
        "id": "PblFr19N6MYw",
        "outputId": "85631732-531c-4817-8091-b8807a66cc3e"
      },
      "outputs": [
        {
          "name": "stdout",
          "output_type": "stream",
          "text": [
            "time: 0 ns (started: 2023-05-04 12:08:57 +02:00)\n"
          ]
        }
      ],
      "source": [
        "# # Loading the data\n",
        "# !pip install -U -q PyDrive\n",
        "# from pydrive.auth import GoogleAuth\n",
        "# from pydrive.drive import GoogleDrive\n",
        "# from google.colab import auth\n",
        "# from oauth2client.client import GoogleCredentials# Authenticate and create the PyDrive client.\n",
        "# auth.authenticate_user()\n",
        "# gauth = GoogleAuth()\n",
        "# gauth.credentials = GoogleCredentials.get_application_default()\n",
        "# drive = GoogleDrive(gauth)"
      ]
    },
    {
      "cell_type": "code",
      "execution_count": 7,
      "metadata": {
        "colab": {
          "base_uri": "https://localhost:8080/",
          "height": 224
        },
        "id": "lP0FCEaz6qJC",
        "outputId": "72b12397-6d2d-45a9-c390-a4a96a3b3460"
      },
      "outputs": [
        {
          "data": {
            "text/html": [
              "<div>\n",
              "<style scoped>\n",
              "    .dataframe tbody tr th:only-of-type {\n",
              "        vertical-align: middle;\n",
              "    }\n",
              "\n",
              "    .dataframe tbody tr th {\n",
              "        vertical-align: top;\n",
              "    }\n",
              "\n",
              "    .dataframe thead th {\n",
              "        text-align: right;\n",
              "    }\n",
              "</style>\n",
              "<table border=\"1\" class=\"dataframe\">\n",
              "  <thead>\n",
              "    <tr style=\"text-align: right;\">\n",
              "      <th></th>\n",
              "      <th>Date</th>\n",
              "      <th>Hour</th>\n",
              "      <th>load</th>\n",
              "      <th>T</th>\n",
              "    </tr>\n",
              "  </thead>\n",
              "  <tbody>\n",
              "    <tr>\n",
              "      <th>0</th>\n",
              "      <td>01/01/2004</td>\n",
              "      <td>1</td>\n",
              "      <td>NaN</td>\n",
              "      <td>37.33</td>\n",
              "    </tr>\n",
              "    <tr>\n",
              "      <th>1</th>\n",
              "      <td>01/01/2004</td>\n",
              "      <td>2</td>\n",
              "      <td>NaN</td>\n",
              "      <td>37.67</td>\n",
              "    </tr>\n",
              "    <tr>\n",
              "      <th>2</th>\n",
              "      <td>01/01/2004</td>\n",
              "      <td>3</td>\n",
              "      <td>NaN</td>\n",
              "      <td>37.00</td>\n",
              "    </tr>\n",
              "    <tr>\n",
              "      <th>3</th>\n",
              "      <td>01/01/2004</td>\n",
              "      <td>4</td>\n",
              "      <td>NaN</td>\n",
              "      <td>36.33</td>\n",
              "    </tr>\n",
              "    <tr>\n",
              "      <th>4</th>\n",
              "      <td>01/01/2004</td>\n",
              "      <td>5</td>\n",
              "      <td>NaN</td>\n",
              "      <td>36.00</td>\n",
              "    </tr>\n",
              "  </tbody>\n",
              "</table>\n",
              "</div>"
            ],
            "text/plain": [
              "         Date  Hour  load      T\n",
              "0  01/01/2004     1   NaN  37.33\n",
              "1  01/01/2004     2   NaN  37.67\n",
              "2  01/01/2004     3   NaN  37.00\n",
              "3  01/01/2004     4   NaN  36.33\n",
              "4  01/01/2004     5   NaN  36.00"
            ]
          },
          "execution_count": 7,
          "metadata": {},
          "output_type": "execute_result"
        },
        {
          "name": "stdout",
          "output_type": "stream",
          "text": [
            "time: 109 ms (started: 2023-05-04 12:08:58 +02:00)\n"
          ]
        }
      ],
      "source": [
        "# downloaded = drive.CreateFile({'id':'1cqX7sRtu_J0Q8nMRuwb0YbMjb6jN7lyb'}) \n",
        "# downloaded.GetContentFile('energy.csv')\n",
        "# data = pd.read_csv('energy.csv')  #,parse_dates=[['Date', 'Hour']]) if date and hour to be merged here.\n",
        "# data.head()\n",
        "\n",
        "cwd = os.getcwd()\n",
        "DATA_PATH = os.path.join(cwd, '..', 'data')\n",
        "RAW_DATA_PATH = os.path.join(DATA_PATH, 'raw')\n",
        "def read_Data():\n",
        "    data_path = os.path.join(RAW_DATA_PATH, \"energy_time_series.csv\") #,parse_dates=[['Date', 'Hour']]) if date and hour to be merged here.\n",
        "    data_eu_raw = pd.read_csv(data_path)\n",
        "    return data_eu_raw\n",
        "data = read_Data()\n",
        "data.head()"
      ]
    },
    {
      "cell_type": "code",
      "execution_count": 8,
      "metadata": {
        "colab": {
          "base_uri": "https://localhost:8080/"
        },
        "id": "qiEpXuuru_yg",
        "outputId": "34299a43-3012-4e92-dc7c-1a17e4b45f71"
      },
      "outputs": [
        {
          "name": "stdout",
          "output_type": "stream",
          "text": [
            "<class 'pandas.core.frame.DataFrame'>\n",
            "RangeIndex: 96432 entries, 0 to 96431\n",
            "Data columns (total 4 columns):\n",
            " #   Column  Non-Null Count  Dtype  \n",
            "---  ------  --------------  -----  \n",
            " 0   Date    96432 non-null  object \n",
            " 1   Hour    96432 non-null  int64  \n",
            " 2   load    78888 non-null  float64\n",
            " 3   T       96432 non-null  float64\n",
            "dtypes: float64(2), int64(1), object(1)\n",
            "memory usage: 2.9+ MB\n",
            "time: 31 ms (started: 2023-05-04 12:08:58 +02:00)\n"
          ]
        }
      ],
      "source": [
        "data.info()"
      ]
    },
    {
      "cell_type": "code",
      "execution_count": 9,
      "metadata": {
        "colab": {
          "base_uri": "https://localhost:8080/"
        },
        "id": "cDuCWV7kVKC_",
        "outputId": "3d5e7408-3577-4a1e-fe16-e0c1563decfd"
      },
      "outputs": [
        {
          "name": "stdout",
          "output_type": "stream",
          "text": [
            "time: 0 ns (started: 2023-05-04 12:08:58 +02:00)\n"
          ]
        }
      ],
      "source": [
        "#If you look at the the data, you will see that we do not have any load data for the first two years.\n",
        "#We need to drop the NaN values to remove these rows:\n",
        "data = data.dropna() "
      ]
    },
    {
      "cell_type": "code",
      "execution_count": 10,
      "metadata": {
        "colab": {
          "base_uri": "https://localhost:8080/"
        },
        "id": "jeb19nhdVj0W",
        "outputId": "0b45cf75-3c50-482d-eeb0-2f84bcc07a37"
      },
      "outputs": [
        {
          "name": "stdout",
          "output_type": "stream",
          "text": [
            "<class 'pandas.core.frame.DataFrame'>\n",
            "Index: 78888 entries, 17544 to 96431\n",
            "Data columns (total 4 columns):\n",
            " #   Column  Non-Null Count  Dtype  \n",
            "---  ------  --------------  -----  \n",
            " 0   Date    78888 non-null  object \n",
            " 1   Hour    78888 non-null  int64  \n",
            " 2   load    78888 non-null  float64\n",
            " 3   T       78888 non-null  float64\n",
            "dtypes: float64(2), int64(1), object(1)\n",
            "memory usage: 3.0+ MB\n",
            "time: 16 ms (started: 2023-05-04 12:08:59 +02:00)\n"
          ]
        }
      ],
      "source": [
        "#Lets see:\n",
        "data.info()"
      ]
    },
    {
      "cell_type": "code",
      "execution_count": 11,
      "metadata": {
        "colab": {
          "base_uri": "https://localhost:8080/",
          "height": 193
        },
        "id": "m9g8sTbyV_z3",
        "outputId": "25c5e17d-93df-4dbd-d3d5-ab59bc570218"
      },
      "outputs": [
        {
          "data": {
            "text/html": [
              "<div>\n",
              "<style scoped>\n",
              "    .dataframe tbody tr th:only-of-type {\n",
              "        vertical-align: middle;\n",
              "    }\n",
              "\n",
              "    .dataframe tbody tr th {\n",
              "        vertical-align: top;\n",
              "    }\n",
              "\n",
              "    .dataframe thead th {\n",
              "        text-align: right;\n",
              "    }\n",
              "</style>\n",
              "<table border=\"1\" class=\"dataframe\">\n",
              "  <thead>\n",
              "    <tr style=\"text-align: right;\">\n",
              "      <th></th>\n",
              "      <th>Date</th>\n",
              "      <th>Hour</th>\n",
              "      <th>load</th>\n",
              "      <th>T</th>\n",
              "    </tr>\n",
              "  </thead>\n",
              "  <tbody>\n",
              "    <tr>\n",
              "      <th>23464</th>\n",
              "      <td>04/09/2006</td>\n",
              "      <td>17</td>\n",
              "      <td>3331.0</td>\n",
              "      <td>69.00</td>\n",
              "    </tr>\n",
              "    <tr>\n",
              "      <th>31081</th>\n",
              "      <td>19/07/2007</td>\n",
              "      <td>2</td>\n",
              "      <td>2681.0</td>\n",
              "      <td>64.00</td>\n",
              "    </tr>\n",
              "    <tr>\n",
              "      <th>40058</th>\n",
              "      <td>27/07/2008</td>\n",
              "      <td>3</td>\n",
              "      <td>2590.0</td>\n",
              "      <td>66.33</td>\n",
              "    </tr>\n",
              "    <tr>\n",
              "      <th>92577</th>\n",
              "      <td>24/07/2014</td>\n",
              "      <td>10</td>\n",
              "      <td>3973.0</td>\n",
              "      <td>66.33</td>\n",
              "    </tr>\n",
              "  </tbody>\n",
              "</table>\n",
              "</div>"
            ],
            "text/plain": [
              "             Date  Hour    load      T\n",
              "23464  04/09/2006    17  3331.0  69.00\n",
              "31081  19/07/2007     2  2681.0  64.00\n",
              "40058  27/07/2008     3  2590.0  66.33\n",
              "92577  24/07/2014    10  3973.0  66.33"
            ]
          },
          "execution_count": 11,
          "metadata": {},
          "output_type": "execute_result"
        },
        {
          "name": "stdout",
          "output_type": "stream",
          "text": [
            "time: 15 ms (started: 2023-05-04 12:08:59 +02:00)\n"
          ]
        }
      ],
      "source": [
        "#But the time information is currently a string (see also above). We need to change it.\n",
        "#Lets see what pandas offers for that purpose!\n",
        "data.sample(4)"
      ]
    },
    {
      "cell_type": "markdown",
      "metadata": {
        "id": "IVHW_XpQB3EN"
      },
      "source": [
        "## Handling the Time Series with Pandas\n",
        "The pandas library includes built-in support for time series data. Let’s first look at the concept of **time stamped data**, which is the most essential type of time series data and helps you combine values with specific points in time.\n",
        "\n"
      ]
    },
    {
      "cell_type": "markdown",
      "metadata": {
        "id": "SRpiXQNdIclO"
      },
      "source": [
        "### Basics of Managing Time Data"
      ]
    },
    {
      "cell_type": "code",
      "execution_count": 12,
      "metadata": {
        "colab": {
          "base_uri": "https://localhost:8080/"
        },
        "id": "Y-hpM0wBCWb9",
        "outputId": "4db43744-dc94-4c46-ae47-30c47127813d"
      },
      "outputs": [
        {
          "data": {
            "text/plain": [
              "Timestamp('2020-12-26 00:00:00')"
            ]
          },
          "execution_count": 12,
          "metadata": {},
          "output_type": "execute_result"
        },
        {
          "name": "stdout",
          "output_type": "stream",
          "text": [
            "time: 0 ns (started: 2023-05-04 12:09:02 +02:00)\n"
          ]
        }
      ],
      "source": [
        "# How to define time stamps:\n",
        "pd.Timestamp(dt.datetime(2020, 12, 26))"
      ]
    },
    {
      "cell_type": "code",
      "execution_count": 13,
      "metadata": {
        "colab": {
          "base_uri": "https://localhost:8080/"
        },
        "id": "gtSfCWQPDDsU",
        "outputId": "eacbaed7-3343-41c3-8e97-100c65737988"
      },
      "outputs": [
        {
          "data": {
            "text/plain": [
              "Timestamp('2020-12-26 00:00:00')"
            ]
          },
          "execution_count": 13,
          "metadata": {},
          "output_type": "execute_result"
        },
        {
          "name": "stdout",
          "output_type": "stream",
          "text": [
            "time: 0 ns (started: 2023-05-04 12:09:04 +02:00)\n"
          ]
        }
      ],
      "source": [
        "# Alternatively:\n",
        "pd.Timestamp('2020-12-26')"
      ]
    },
    {
      "cell_type": "code",
      "execution_count": 14,
      "metadata": {
        "colab": {
          "base_uri": "https://localhost:8080/"
        },
        "id": "0KyWCGv2DDa0",
        "outputId": "b4c3a481-590b-4c80-ceb1-7844471f598f"
      },
      "outputs": [
        {
          "data": {
            "text/plain": [
              "Timestamp('2020-12-26 00:00:00')"
            ]
          },
          "execution_count": 14,
          "metadata": {},
          "output_type": "execute_result"
        },
        {
          "name": "stdout",
          "output_type": "stream",
          "text": [
            "time: 0 ns (started: 2023-05-04 12:09:05 +02:00)\n"
          ]
        }
      ],
      "source": [
        "# Alternatively:\n",
        "pd.Timestamp(2020, 12, 26)"
      ]
    },
    {
      "cell_type": "markdown",
      "metadata": {
        "id": "UakPj9C0C4ob"
      },
      "source": [
        " it is also useful to define the data points in your\n",
        "data set with a time interval. The time interval represented by `Period` is inferred from datetime string format:"
      ]
    },
    {
      "cell_type": "code",
      "execution_count": 15,
      "metadata": {
        "colab": {
          "base_uri": "https://localhost:8080/"
        },
        "id": "8MYF44S1DNKT",
        "outputId": "6ae062a8-28ff-41cb-98f0-c985ea9b689b"
      },
      "outputs": [
        {
          "data": {
            "text/plain": [
              "Period('2020-12', 'M')"
            ]
          },
          "execution_count": 15,
          "metadata": {},
          "output_type": "execute_result"
        },
        {
          "name": "stdout",
          "output_type": "stream",
          "text": [
            "time: 0 ns (started: 2023-05-04 12:09:07 +02:00)\n"
          ]
        }
      ],
      "source": [
        "pd.Period('2020-12')"
      ]
    },
    {
      "cell_type": "code",
      "execution_count": 16,
      "metadata": {
        "colab": {
          "base_uri": "https://localhost:8080/"
        },
        "id": "AxQuunSMDT9M",
        "outputId": "7db97946-3745-4492-bff4-beb3d615611e"
      },
      "outputs": [
        {
          "data": {
            "text/plain": [
              "Period('2020-12-01', 'D')"
            ]
          },
          "execution_count": 16,
          "metadata": {},
          "output_type": "execute_result"
        },
        {
          "name": "stdout",
          "output_type": "stream",
          "text": [
            "time: 0 ns (started: 2023-05-04 12:09:08 +02:00)\n"
          ]
        }
      ],
      "source": [
        "# or you can define the period explicitly (D is used for day):\n",
        "pd.Period('2020-12', freq='D')"
      ]
    },
    {
      "cell_type": "markdown",
      "metadata": {
        "id": "Fipwh94nDx0U"
      },
      "source": [
        "`Timestamp` and `Period` can also be used as an index: in\n",
        "this case, lists of `Timestamp` and `Period` are automatically coerced to `DatetimeIndex`\n",
        "and `PeriodIndex`, respectively. This is very useful when you manage your data as Series or DataFrames. Let's look at a simple example here:"
      ]
    },
    {
      "cell_type": "code",
      "execution_count": 17,
      "metadata": {
        "colab": {
          "base_uri": "https://localhost:8080/"
        },
        "id": "pQqF1MkfEFt8",
        "outputId": "beb36a0c-af69-40d9-cd2a-2873f224f45b"
      },
      "outputs": [
        {
          "data": {
            "text/plain": [
              "2020-12-01   -1.753648\n",
              "2020-12-02   -2.929189\n",
              "2020-12-03    0.556553\n",
              "dtype: float64"
            ]
          },
          "execution_count": 17,
          "metadata": {},
          "output_type": "execute_result"
        },
        {
          "name": "stdout",
          "output_type": "stream",
          "text": [
            "time: 16 ms (started: 2023-05-04 12:09:10 +02:00)\n"
          ]
        }
      ],
      "source": [
        "dates = [pd.Timestamp('2020-12-01'),pd.Timestamp('2020-12-02'),pd.Timestamp('2020-12-03')]\n",
        "data_series = pd.Series(np.random.randn(3), dates)\n",
        "data_series"
      ]
    },
    {
      "cell_type": "code",
      "execution_count": 18,
      "metadata": {
        "colab": {
          "base_uri": "https://localhost:8080/"
        },
        "id": "aNe6ri_dEj8k",
        "outputId": "463a934d-6fec-4192-ca85-5424594287a8"
      },
      "outputs": [
        {
          "data": {
            "text/plain": [
              "2020-12-01   -0.453651\n",
              "2020-12-02   -0.731014\n",
              "2020-12-03    0.223311\n",
              "Freq: D, dtype: float64"
            ]
          },
          "execution_count": 18,
          "metadata": {},
          "output_type": "execute_result"
        },
        {
          "name": "stdout",
          "output_type": "stream",
          "text": [
            "time: 15 ms (started: 2023-05-04 12:09:12 +02:00)\n"
          ]
        }
      ],
      "source": [
        "# Let's see how it looks like if you use period:\n",
        "dates = [pd.Period('2020-12-01'),pd.Period('2020-12-02'),pd.Period('2020-12-03')]\n",
        "data_series = pd.Series(np.random.randn(3), dates)\n",
        "data_series"
      ]
    },
    {
      "cell_type": "markdown",
      "metadata": {
        "id": "FqxLVD05FUJ2"
      },
      "source": [
        "As you can see above, it infers the period automatically.\n",
        "\n",
        "It is a good practice to represent the time component or the columns with dates in the data sets as the index of a Series or DataFrame. You can achieve that with `to_datetime` method:"
      ]
    },
    {
      "cell_type": "code",
      "execution_count": 19,
      "metadata": {
        "colab": {
          "base_uri": "https://localhost:8080/"
        },
        "id": "z1SfGnXNFjkc",
        "outputId": "626d6aea-a6df-4e9d-ef27-aa457571cf9b"
      },
      "outputs": [
        {
          "data": {
            "text/plain": [
              "0    Dec 1, 2020\n",
              "1     2020-12-02\n",
              "2           None\n",
              "dtype: object"
            ]
          },
          "execution_count": 19,
          "metadata": {},
          "output_type": "execute_result"
        },
        {
          "name": "stdout",
          "output_type": "stream",
          "text": [
            "time: 15 ms (started: 2023-05-04 12:09:14 +02:00)\n"
          ]
        }
      ],
      "source": [
        "example_series = pd.Series(['Dec 1, 2020', '2020-12-02', None])\n",
        "example_series"
      ]
    },
    {
      "cell_type": "code",
      "execution_count": 22,
      "metadata": {
        "colab": {
          "base_uri": "https://localhost:8080/"
        },
        "id": "U7KNXhs2GQ2F",
        "outputId": "fda32cfd-7c55-4554-f165-2ddaf4d49635"
      },
      "outputs": [
        {
          "name": "stdout",
          "output_type": "stream",
          "text": [
            "0   2020-12-01\n",
            "1   2020-12-02\n",
            "2          NaT\n",
            "dtype: datetime64[ns]\n",
            "time: 16 ms (started: 2023-05-04 12:10:11 +02:00)\n"
          ]
        }
      ],
      "source": [
        "# It returns a Series when passed a Series with the same index (compare above and below):\n",
        "converted_series = pd.to_datetime(example_series, format='mixed', dayfirst=False)\n",
        "print(converted_series)"
      ]
    },
    {
      "cell_type": "code",
      "execution_count": 23,
      "metadata": {
        "colab": {
          "base_uri": "https://localhost:8080/"
        },
        "id": "NRON71jIGj9k",
        "outputId": "a52e8549-d639-412b-8660-37ef3169ba22"
      },
      "outputs": [
        {
          "data": {
            "text/plain": [
              "DatetimeIndex(['2020-12-23', '2020-12-24'], dtype='datetime64[ns]', freq=None)"
            ]
          },
          "execution_count": 23,
          "metadata": {},
          "output_type": "execute_result"
        },
        {
          "name": "stdout",
          "output_type": "stream",
          "text": [
            "time: 15 ms (started: 2023-05-04 12:10:32 +02:00)\n"
          ]
        }
      ],
      "source": [
        "#when you passed the data a list-like, then it is converted to a DatetimeIndex:\n",
        "pd.to_datetime(['2020/12/23', '2020.12.24'], format='mixed', dayfirst=False)"
      ]
    },
    {
      "cell_type": "code",
      "execution_count": 24,
      "metadata": {
        "colab": {
          "base_uri": "https://localhost:8080/"
        },
        "id": "OlGQ3iLOG-aT",
        "outputId": "13676a33-3298-4443-beff-536daa3dd259"
      },
      "outputs": [
        {
          "data": {
            "text/plain": [
              "Timestamp('2020-12-01 01:23:00')"
            ]
          },
          "execution_count": 24,
          "metadata": {},
          "output_type": "execute_result"
        },
        {
          "name": "stdout",
          "output_type": "stream",
          "text": [
            "time: 0 ns (started: 2023-05-04 12:10:50 +02:00)\n"
          ]
        }
      ],
      "source": [
        "# You may also format the time data:\n",
        "pd.to_datetime('1-12-2020 01:23',format='%d-%m-%Y %H:%M')"
      ]
    },
    {
      "cell_type": "markdown",
      "metadata": {
        "id": "qpveNzeXIknN"
      },
      "source": [
        "### Modifying the time information in our data\n",
        "\n",
        "Here we will use the string column Data and Hour to create timestamp indices. "
      ]
    },
    {
      "cell_type": "code",
      "execution_count": 25,
      "metadata": {
        "colab": {
          "base_uri": "https://localhost:8080/"
        },
        "id": "Ojtoe1cEKwks",
        "outputId": "a6836952-fbdc-4381-b12a-97a0858cb6d6"
      },
      "outputs": [
        {
          "data": {
            "text/plain": [
              "Date    01/01/2006\n",
              "Hour            24\n",
              "load        2985.0\n",
              "T            24.33\n",
              "Name: 17567, dtype: object"
            ]
          },
          "execution_count": 25,
          "metadata": {},
          "output_type": "execute_result"
        },
        {
          "name": "stdout",
          "output_type": "stream",
          "text": [
            "time: 0 ns (started: 2023-05-04 12:10:53 +02:00)\n"
          ]
        }
      ],
      "source": [
        "#Let's see the data indices:\n",
        "data.iloc[23]"
      ]
    },
    {
      "cell_type": "code",
      "execution_count": 24,
      "metadata": {
        "colab": {
          "base_uri": "https://localhost:8080/"
        },
        "id": "pIISiJPGZbg7",
        "outputId": "f4ec64fd-f817-4e04-a029-38e3be1b63af"
      },
      "outputs": [
        {
          "name": "stdout",
          "output_type": "stream",
          "text": [
            "time: 1.98 ms (started: 2021-12-20 15:35:13 +00:00)\n"
          ]
        }
      ],
      "source": [
        "#Here we have a problem! The hours are written as 24 instead of 00, which is the format\n",
        "#used in python:\n",
        "# https://docs.python.org/3/library/datetime.html#strftime-and-strptime-behavior\n",
        "#Therefore we need to convert the hours!"
      ]
    },
    {
      "cell_type": "code",
      "execution_count": 26,
      "metadata": {
        "colab": {
          "base_uri": "https://localhost:8080/"
        },
        "id": "4H-lLwqdaFXH",
        "outputId": "5bef37ef-0338-4796-91eb-701a237b707e"
      },
      "outputs": [
        {
          "data": {
            "text/plain": [
              "Date    01/01/2006\n",
              "Hour             0\n",
              "load        2985.0\n",
              "T            24.33\n",
              "Name: 17567, dtype: object"
            ]
          },
          "execution_count": 26,
          "metadata": {},
          "output_type": "execute_result"
        },
        {
          "name": "stdout",
          "output_type": "stream",
          "text": [
            "time: 0 ns (started: 2023-05-04 12:10:57 +02:00)\n"
          ]
        }
      ],
      "source": [
        "data.loc[data.Hour == 24, \"Hour\"] = 0\n",
        "data.iloc[23]"
      ]
    },
    {
      "cell_type": "code",
      "execution_count": 27,
      "metadata": {
        "colab": {
          "base_uri": "https://localhost:8080/"
        },
        "id": "JRi55MQGbkl5",
        "outputId": "33288d7e-76eb-432b-c664-0765496e37ee"
      },
      "outputs": [
        {
          "name": "stdout",
          "output_type": "stream",
          "text": [
            "<class 'pandas.core.frame.DataFrame'>\n",
            "Index: 78888 entries, 17544 to 96431\n",
            "Data columns (total 4 columns):\n",
            " #   Column  Non-Null Count  Dtype  \n",
            "---  ------  --------------  -----  \n",
            " 0   Date    78888 non-null  object \n",
            " 1   Hour    78888 non-null  object \n",
            " 2   load    78888 non-null  float64\n",
            " 3   T       78888 non-null  float64\n",
            "dtypes: float64(2), object(2)\n",
            "memory usage: 3.0+ MB\n",
            "time: 47 ms (started: 2023-05-04 12:11:00 +02:00)\n"
          ]
        }
      ],
      "source": [
        "#Converting time hour into string:\n",
        "data['Hour']= data['Hour'].apply(str)\n",
        "data.info()"
      ]
    },
    {
      "cell_type": "code",
      "execution_count": 28,
      "metadata": {
        "colab": {
          "base_uri": "https://localhost:8080/",
          "height": 224
        },
        "id": "gjRBEtuDfQ-3",
        "outputId": "d7d60b9c-ac54-4493-fab5-7dd9fc0fd4ed"
      },
      "outputs": [
        {
          "data": {
            "text/html": [
              "<div>\n",
              "<style scoped>\n",
              "    .dataframe tbody tr th:only-of-type {\n",
              "        vertical-align: middle;\n",
              "    }\n",
              "\n",
              "    .dataframe tbody tr th {\n",
              "        vertical-align: top;\n",
              "    }\n",
              "\n",
              "    .dataframe thead th {\n",
              "        text-align: right;\n",
              "    }\n",
              "</style>\n",
              "<table border=\"1\" class=\"dataframe\">\n",
              "  <thead>\n",
              "    <tr style=\"text-align: right;\">\n",
              "      <th></th>\n",
              "      <th>Date</th>\n",
              "      <th>Hour</th>\n",
              "      <th>load</th>\n",
              "      <th>T</th>\n",
              "    </tr>\n",
              "  </thead>\n",
              "  <tbody>\n",
              "    <tr>\n",
              "      <th>17544</th>\n",
              "      <td>01/01/2006</td>\n",
              "      <td>1</td>\n",
              "      <td>3010.0</td>\n",
              "      <td>22.67</td>\n",
              "    </tr>\n",
              "    <tr>\n",
              "      <th>17545</th>\n",
              "      <td>01/01/2006</td>\n",
              "      <td>2</td>\n",
              "      <td>2853.0</td>\n",
              "      <td>20.67</td>\n",
              "    </tr>\n",
              "    <tr>\n",
              "      <th>17546</th>\n",
              "      <td>01/01/2006</td>\n",
              "      <td>3</td>\n",
              "      <td>2758.0</td>\n",
              "      <td>21.33</td>\n",
              "    </tr>\n",
              "    <tr>\n",
              "      <th>17547</th>\n",
              "      <td>01/01/2006</td>\n",
              "      <td>4</td>\n",
              "      <td>2705.0</td>\n",
              "      <td>19.00</td>\n",
              "    </tr>\n",
              "    <tr>\n",
              "      <th>17548</th>\n",
              "      <td>01/01/2006</td>\n",
              "      <td>5</td>\n",
              "      <td>2709.0</td>\n",
              "      <td>19.33</td>\n",
              "    </tr>\n",
              "  </tbody>\n",
              "</table>\n",
              "</div>"
            ],
            "text/plain": [
              "             Date Hour    load      T\n",
              "17544  01/01/2006    1  3010.0  22.67\n",
              "17545  01/01/2006    2  2853.0  20.67\n",
              "17546  01/01/2006    3  2758.0  21.33\n",
              "17547  01/01/2006    4  2705.0  19.00\n",
              "17548  01/01/2006    5  2709.0  19.33"
            ]
          },
          "execution_count": 28,
          "metadata": {},
          "output_type": "execute_result"
        },
        {
          "name": "stdout",
          "output_type": "stream",
          "text": [
            "time: 16 ms (started: 2023-05-04 12:11:04 +02:00)\n"
          ]
        }
      ],
      "source": [
        "data.head()"
      ]
    },
    {
      "cell_type": "code",
      "execution_count": 29,
      "metadata": {
        "colab": {
          "base_uri": "https://localhost:8080/",
          "height": 130
        },
        "id": "GCZqadELeOln",
        "outputId": "b56af4cb-5309-4bbd-da2b-9de26f4bb8bf"
      },
      "outputs": [
        {
          "data": {
            "text/html": [
              "<div>\n",
              "<style scoped>\n",
              "    .dataframe tbody tr th:only-of-type {\n",
              "        vertical-align: middle;\n",
              "    }\n",
              "\n",
              "    .dataframe tbody tr th {\n",
              "        vertical-align: top;\n",
              "    }\n",
              "\n",
              "    .dataframe thead th {\n",
              "        text-align: right;\n",
              "    }\n",
              "</style>\n",
              "<table border=\"1\" class=\"dataframe\">\n",
              "  <thead>\n",
              "    <tr style=\"text-align: right;\">\n",
              "      <th></th>\n",
              "      <th>Date</th>\n",
              "      <th>load</th>\n",
              "      <th>T</th>\n",
              "    </tr>\n",
              "  </thead>\n",
              "  <tbody>\n",
              "    <tr>\n",
              "      <th>17544</th>\n",
              "      <td>01/01/2006 1</td>\n",
              "      <td>3010.0</td>\n",
              "      <td>22.67</td>\n",
              "    </tr>\n",
              "    <tr>\n",
              "      <th>17545</th>\n",
              "      <td>01/01/2006 2</td>\n",
              "      <td>2853.0</td>\n",
              "      <td>20.67</td>\n",
              "    </tr>\n",
              "  </tbody>\n",
              "</table>\n",
              "</div>"
            ],
            "text/plain": [
              "               Date    load      T\n",
              "17544  01/01/2006 1  3010.0  22.67\n",
              "17545  01/01/2006 2  2853.0  20.67"
            ]
          },
          "execution_count": 29,
          "metadata": {},
          "output_type": "execute_result"
        },
        {
          "name": "stdout",
          "output_type": "stream",
          "text": [
            "time: 63 ms (started: 2023-05-04 12:11:06 +02:00)\n"
          ]
        }
      ],
      "source": [
        "#Merging Columns:\n",
        "data['Date']= data['Date']+' '+ data['Hour']\n",
        "data = data.drop(['Hour'],axis=1)\n",
        "data.head(2)"
      ]
    },
    {
      "cell_type": "code",
      "execution_count": 30,
      "metadata": {
        "colab": {
          "base_uri": "https://localhost:8080/"
        },
        "id": "J2kanfmSWqoG",
        "outputId": "297219db-0230-447d-88a8-84cf865f42eb"
      },
      "outputs": [
        {
          "data": {
            "text/plain": [
              "17544   2006-01-01 01:00:00\n",
              "17545   2006-01-01 02:00:00\n",
              "17546   2006-01-01 03:00:00\n",
              "17547   2006-01-01 04:00:00\n",
              "17548   2006-01-01 05:00:00\n",
              "Name: Date, dtype: datetime64[ns]"
            ]
          },
          "execution_count": 30,
          "metadata": {},
          "output_type": "execute_result"
        },
        {
          "name": "stdout",
          "output_type": "stream",
          "text": [
            "time: 421 ms (started: 2023-05-04 12:11:08 +02:00)\n"
          ]
        }
      ],
      "source": [
        "# convert the column to datetime type:\n",
        "datetime_series = pd.to_datetime(data['Date'],format='%d/%m/%Y %H')\n",
        "datetime_series.head()"
      ]
    },
    {
      "cell_type": "code",
      "execution_count": 31,
      "metadata": {
        "colab": {
          "base_uri": "https://localhost:8080/",
          "height": 162
        },
        "id": "SaqgYTuUgbcA",
        "outputId": "fb155a9a-6ba8-4f7d-8c26-9acaff2fff8c"
      },
      "outputs": [
        {
          "data": {
            "text/html": [
              "<div>\n",
              "<style scoped>\n",
              "    .dataframe tbody tr th:only-of-type {\n",
              "        vertical-align: middle;\n",
              "    }\n",
              "\n",
              "    .dataframe tbody tr th {\n",
              "        vertical-align: top;\n",
              "    }\n",
              "\n",
              "    .dataframe thead th {\n",
              "        text-align: right;\n",
              "    }\n",
              "</style>\n",
              "<table border=\"1\" class=\"dataframe\">\n",
              "  <thead>\n",
              "    <tr style=\"text-align: right;\">\n",
              "      <th></th>\n",
              "      <th>load</th>\n",
              "      <th>T</th>\n",
              "    </tr>\n",
              "  </thead>\n",
              "  <tbody>\n",
              "    <tr>\n",
              "      <th>2006-01-01 01:00:00</th>\n",
              "      <td>3010.0</td>\n",
              "      <td>22.67</td>\n",
              "    </tr>\n",
              "    <tr>\n",
              "      <th>2006-01-01 02:00:00</th>\n",
              "      <td>2853.0</td>\n",
              "      <td>20.67</td>\n",
              "    </tr>\n",
              "    <tr>\n",
              "      <th>2006-01-01 03:00:00</th>\n",
              "      <td>2758.0</td>\n",
              "      <td>21.33</td>\n",
              "    </tr>\n",
              "  </tbody>\n",
              "</table>\n",
              "</div>"
            ],
            "text/plain": [
              "                       load      T\n",
              "2006-01-01 01:00:00  3010.0  22.67\n",
              "2006-01-01 02:00:00  2853.0  20.67\n",
              "2006-01-01 03:00:00  2758.0  21.33"
            ]
          },
          "execution_count": 31,
          "metadata": {},
          "output_type": "execute_result"
        },
        {
          "name": "stdout",
          "output_type": "stream",
          "text": [
            "time: 16 ms (started: 2023-05-04 12:11:11 +02:00)\n"
          ]
        }
      ],
      "source": [
        "#Create datetime index and pass it:\n",
        "datetime_index = pd.DatetimeIndex(datetime_series.values)\n",
        "#Updating the indices:\n",
        "data=(data.set_index(datetime_index)).drop(['Date'],axis=1)\n",
        "data.head(3)"
      ]
    },
    {
      "cell_type": "markdown",
      "metadata": {
        "id": "k4WIUmcqicTx"
      },
      "source": [
        "But there is still an issue in the data, that is '00' comes after '23'. We need to sort indices. "
      ]
    },
    {
      "cell_type": "code",
      "execution_count": 32,
      "metadata": {
        "colab": {
          "base_uri": "https://localhost:8080/",
          "height": 852
        },
        "id": "Pr0OsH_Mi3dR",
        "outputId": "b59a17b9-e89c-4b71-97a9-fdb8897e1bfc"
      },
      "outputs": [
        {
          "data": {
            "text/html": [
              "<div>\n",
              "<style scoped>\n",
              "    .dataframe tbody tr th:only-of-type {\n",
              "        vertical-align: middle;\n",
              "    }\n",
              "\n",
              "    .dataframe tbody tr th {\n",
              "        vertical-align: top;\n",
              "    }\n",
              "\n",
              "    .dataframe thead th {\n",
              "        text-align: right;\n",
              "    }\n",
              "</style>\n",
              "<table border=\"1\" class=\"dataframe\">\n",
              "  <thead>\n",
              "    <tr style=\"text-align: right;\">\n",
              "      <th></th>\n",
              "      <th>load</th>\n",
              "      <th>T</th>\n",
              "    </tr>\n",
              "  </thead>\n",
              "  <tbody>\n",
              "    <tr>\n",
              "      <th>2006-01-01 00:00:00</th>\n",
              "      <td>2985.0</td>\n",
              "      <td>24.33</td>\n",
              "    </tr>\n",
              "    <tr>\n",
              "      <th>2006-01-01 01:00:00</th>\n",
              "      <td>3010.0</td>\n",
              "      <td>22.67</td>\n",
              "    </tr>\n",
              "    <tr>\n",
              "      <th>2006-01-01 02:00:00</th>\n",
              "      <td>2853.0</td>\n",
              "      <td>20.67</td>\n",
              "    </tr>\n",
              "    <tr>\n",
              "      <th>2006-01-01 03:00:00</th>\n",
              "      <td>2758.0</td>\n",
              "      <td>21.33</td>\n",
              "    </tr>\n",
              "    <tr>\n",
              "      <th>2006-01-01 04:00:00</th>\n",
              "      <td>2705.0</td>\n",
              "      <td>19.00</td>\n",
              "    </tr>\n",
              "    <tr>\n",
              "      <th>2006-01-01 05:00:00</th>\n",
              "      <td>2709.0</td>\n",
              "      <td>19.33</td>\n",
              "    </tr>\n",
              "    <tr>\n",
              "      <th>2006-01-01 06:00:00</th>\n",
              "      <td>2753.0</td>\n",
              "      <td>18.67</td>\n",
              "    </tr>\n",
              "    <tr>\n",
              "      <th>2006-01-01 07:00:00</th>\n",
              "      <td>2849.0</td>\n",
              "      <td>18.00</td>\n",
              "    </tr>\n",
              "    <tr>\n",
              "      <th>2006-01-01 08:00:00</th>\n",
              "      <td>3008.0</td>\n",
              "      <td>17.67</td>\n",
              "    </tr>\n",
              "    <tr>\n",
              "      <th>2006-01-01 09:00:00</th>\n",
              "      <td>3243.0</td>\n",
              "      <td>19.00</td>\n",
              "    </tr>\n",
              "    <tr>\n",
              "      <th>2006-01-01 10:00:00</th>\n",
              "      <td>3468.0</td>\n",
              "      <td>19.67</td>\n",
              "    </tr>\n",
              "    <tr>\n",
              "      <th>2006-01-01 11:00:00</th>\n",
              "      <td>3598.0</td>\n",
              "      <td>19.33</td>\n",
              "    </tr>\n",
              "    <tr>\n",
              "      <th>2006-01-01 12:00:00</th>\n",
              "      <td>3673.0</td>\n",
              "      <td>20.33</td>\n",
              "    </tr>\n",
              "    <tr>\n",
              "      <th>2006-01-01 13:00:00</th>\n",
              "      <td>3695.0</td>\n",
              "      <td>21.00</td>\n",
              "    </tr>\n",
              "    <tr>\n",
              "      <th>2006-01-01 14:00:00</th>\n",
              "      <td>3640.0</td>\n",
              "      <td>22.00</td>\n",
              "    </tr>\n",
              "    <tr>\n",
              "      <th>2006-01-01 15:00:00</th>\n",
              "      <td>3592.0</td>\n",
              "      <td>22.67</td>\n",
              "    </tr>\n",
              "    <tr>\n",
              "      <th>2006-01-01 16:00:00</th>\n",
              "      <td>3626.0</td>\n",
              "      <td>23.00</td>\n",
              "    </tr>\n",
              "    <tr>\n",
              "      <th>2006-01-01 17:00:00</th>\n",
              "      <td>3924.0</td>\n",
              "      <td>23.33</td>\n",
              "    </tr>\n",
              "    <tr>\n",
              "      <th>2006-01-01 18:00:00</th>\n",
              "      <td>4159.0</td>\n",
              "      <td>23.67</td>\n",
              "    </tr>\n",
              "    <tr>\n",
              "      <th>2006-01-01 19:00:00</th>\n",
              "      <td>4095.0</td>\n",
              "      <td>23.67</td>\n",
              "    </tr>\n",
              "    <tr>\n",
              "      <th>2006-01-01 20:00:00</th>\n",
              "      <td>3967.0</td>\n",
              "      <td>23.67</td>\n",
              "    </tr>\n",
              "    <tr>\n",
              "      <th>2006-01-01 21:00:00</th>\n",
              "      <td>3817.0</td>\n",
              "      <td>23.33</td>\n",
              "    </tr>\n",
              "    <tr>\n",
              "      <th>2006-01-01 22:00:00</th>\n",
              "      <td>3556.0</td>\n",
              "      <td>24.00</td>\n",
              "    </tr>\n",
              "    <tr>\n",
              "      <th>2006-01-01 23:00:00</th>\n",
              "      <td>3255.0</td>\n",
              "      <td>24.33</td>\n",
              "    </tr>\n",
              "    <tr>\n",
              "      <th>2006-01-02 00:00:00</th>\n",
              "      <td>2913.0</td>\n",
              "      <td>29.00</td>\n",
              "    </tr>\n",
              "  </tbody>\n",
              "</table>\n",
              "</div>"
            ],
            "text/plain": [
              "                       load      T\n",
              "2006-01-01 00:00:00  2985.0  24.33\n",
              "2006-01-01 01:00:00  3010.0  22.67\n",
              "2006-01-01 02:00:00  2853.0  20.67\n",
              "2006-01-01 03:00:00  2758.0  21.33\n",
              "2006-01-01 04:00:00  2705.0  19.00\n",
              "2006-01-01 05:00:00  2709.0  19.33\n",
              "2006-01-01 06:00:00  2753.0  18.67\n",
              "2006-01-01 07:00:00  2849.0  18.00\n",
              "2006-01-01 08:00:00  3008.0  17.67\n",
              "2006-01-01 09:00:00  3243.0  19.00\n",
              "2006-01-01 10:00:00  3468.0  19.67\n",
              "2006-01-01 11:00:00  3598.0  19.33\n",
              "2006-01-01 12:00:00  3673.0  20.33\n",
              "2006-01-01 13:00:00  3695.0  21.00\n",
              "2006-01-01 14:00:00  3640.0  22.00\n",
              "2006-01-01 15:00:00  3592.0  22.67\n",
              "2006-01-01 16:00:00  3626.0  23.00\n",
              "2006-01-01 17:00:00  3924.0  23.33\n",
              "2006-01-01 18:00:00  4159.0  23.67\n",
              "2006-01-01 19:00:00  4095.0  23.67\n",
              "2006-01-01 20:00:00  3967.0  23.67\n",
              "2006-01-01 21:00:00  3817.0  23.33\n",
              "2006-01-01 22:00:00  3556.0  24.00\n",
              "2006-01-01 23:00:00  3255.0  24.33\n",
              "2006-01-02 00:00:00  2913.0  29.00"
            ]
          },
          "execution_count": 32,
          "metadata": {},
          "output_type": "execute_result"
        },
        {
          "name": "stdout",
          "output_type": "stream",
          "text": [
            "time: 32 ms (started: 2023-05-04 12:11:13 +02:00)\n"
          ]
        }
      ],
      "source": [
        "data = data.sort_index()\n",
        "data.head(25)"
      ]
    },
    {
      "cell_type": "markdown",
      "metadata": {
        "id": "ugSfscfEg-iZ"
      },
      "source": [
        "Now we are ready! You can do these steps with fewer lines in your own work. Here I wanted to show you how the dataframe changes with each action."
      ]
    },
    {
      "cell_type": "markdown",
      "metadata": {
        "id": "Jb0bFiyphSAq"
      },
      "source": [
        "## Exploring the Data\n",
        "\n",
        "Now we have the time as indices, we can filter the time zones of interest and analyze the data as we wish. "
      ]
    },
    {
      "cell_type": "code",
      "execution_count": 34,
      "metadata": {
        "colab": {
          "base_uri": "https://localhost:8080/",
          "height": 820
        },
        "id": "QyKK1570hjra",
        "outputId": "80d693d9-3a8f-4c79-a61c-ac94eac69765"
      },
      "outputs": [
        {
          "name": "stdout",
          "output_type": "stream",
          "text": [
            "                       load      T\n",
            "2012-01-05 00:00:00  3167.0  19.00\n",
            "2012-01-05 01:00:00  3014.0  22.33\n",
            "2012-01-05 02:00:00  2921.0  22.33\n",
            "2012-01-05 03:00:00  2874.0  22.00\n",
            "2012-01-05 04:00:00  2876.0  21.67\n",
            "2012-01-05 05:00:00  2962.0  21.33\n",
            "2012-01-05 06:00:00  3239.0  21.33\n",
            "2012-01-05 07:00:00  3719.0  21.67\n",
            "2012-01-05 08:00:00  3940.0  22.67\n",
            "2012-01-05 09:00:00  3933.0  23.00\n",
            "2012-01-05 10:00:00  3948.0  24.00\n",
            "2012-01-05 11:00:00  3945.0  25.67\n",
            "2012-01-05 12:00:00  3933.0  28.00\n",
            "2012-01-05 13:00:00  3894.0  29.33\n",
            "2012-01-05 14:00:00  3873.0  30.67\n",
            "2012-01-05 15:00:00  3838.0  32.00\n",
            "2012-01-05 16:00:00  3855.0  32.00\n",
            "2012-01-05 17:00:00  4112.0  30.67\n",
            "2012-01-05 18:00:00  4326.0  29.00\n",
            "2012-01-05 19:00:00  4317.0  27.00\n",
            "2012-01-05 20:00:00  4213.0  25.00\n",
            "2012-01-05 21:00:00  4031.0  24.00\n",
            "2012-01-05 22:00:00  3749.0  22.33\n",
            "2012-01-05 23:00:00  3417.0  20.00\n",
            "time: 15 ms (started: 2023-05-04 12:11:36 +02:00)\n"
          ]
        }
      ],
      "source": [
        "# Filter data by a specific date:\n",
        "filtered_data = data.loc['2012-1-5']\n",
        "print(filtered_data)"
      ]
    },
    {
      "cell_type": "markdown",
      "metadata": {
        "id": "8oXTJhfqiH3I"
      },
      "source": [
        "There is also another function that you can use with time series data sets called `truncate()`."
      ]
    },
    {
      "cell_type": "code",
      "execution_count": 35,
      "metadata": {
        "colab": {
          "base_uri": "https://localhost:8080/",
          "height": 852
        },
        "id": "CCTlEw1OiPO4",
        "outputId": "293ad1c8-6062-44b3-fff7-9e76f2a68e3e"
      },
      "outputs": [
        {
          "data": {
            "text/html": [
              "<div>\n",
              "<style scoped>\n",
              "    .dataframe tbody tr th:only-of-type {\n",
              "        vertical-align: middle;\n",
              "    }\n",
              "\n",
              "    .dataframe tbody tr th {\n",
              "        vertical-align: top;\n",
              "    }\n",
              "\n",
              "    .dataframe thead th {\n",
              "        text-align: right;\n",
              "    }\n",
              "</style>\n",
              "<table border=\"1\" class=\"dataframe\">\n",
              "  <thead>\n",
              "    <tr style=\"text-align: right;\">\n",
              "      <th></th>\n",
              "      <th>load</th>\n",
              "      <th>T</th>\n",
              "    </tr>\n",
              "  </thead>\n",
              "  <tbody>\n",
              "    <tr>\n",
              "      <th>2012-11-01 00:00:00</th>\n",
              "      <td>2607.0</td>\n",
              "      <td>46.00</td>\n",
              "    </tr>\n",
              "    <tr>\n",
              "      <th>2012-11-01 01:00:00</th>\n",
              "      <td>2386.0</td>\n",
              "      <td>48.00</td>\n",
              "    </tr>\n",
              "    <tr>\n",
              "      <th>2012-11-01 02:00:00</th>\n",
              "      <td>2311.0</td>\n",
              "      <td>47.67</td>\n",
              "    </tr>\n",
              "    <tr>\n",
              "      <th>2012-11-01 03:00:00</th>\n",
              "      <td>2264.0</td>\n",
              "      <td>47.00</td>\n",
              "    </tr>\n",
              "    <tr>\n",
              "      <th>2012-11-01 04:00:00</th>\n",
              "      <td>2267.0</td>\n",
              "      <td>46.00</td>\n",
              "    </tr>\n",
              "    <tr>\n",
              "      <th>2012-11-01 05:00:00</th>\n",
              "      <td>2352.0</td>\n",
              "      <td>45.67</td>\n",
              "    </tr>\n",
              "    <tr>\n",
              "      <th>2012-11-01 06:00:00</th>\n",
              "      <td>2622.0</td>\n",
              "      <td>45.33</td>\n",
              "    </tr>\n",
              "    <tr>\n",
              "      <th>2012-11-01 07:00:00</th>\n",
              "      <td>3108.0</td>\n",
              "      <td>44.67</td>\n",
              "    </tr>\n",
              "    <tr>\n",
              "      <th>2012-11-01 08:00:00</th>\n",
              "      <td>3371.0</td>\n",
              "      <td>45.67</td>\n",
              "    </tr>\n",
              "    <tr>\n",
              "      <th>2012-11-01 09:00:00</th>\n",
              "      <td>3405.0</td>\n",
              "      <td>46.00</td>\n",
              "    </tr>\n",
              "    <tr>\n",
              "      <th>2012-11-01 10:00:00</th>\n",
              "      <td>3426.0</td>\n",
              "      <td>46.33</td>\n",
              "    </tr>\n",
              "    <tr>\n",
              "      <th>2012-11-01 11:00:00</th>\n",
              "      <td>3436.0</td>\n",
              "      <td>47.00</td>\n",
              "    </tr>\n",
              "    <tr>\n",
              "      <th>2012-11-01 12:00:00</th>\n",
              "      <td>3417.0</td>\n",
              "      <td>48.67</td>\n",
              "    </tr>\n",
              "    <tr>\n",
              "      <th>2012-11-01 13:00:00</th>\n",
              "      <td>3391.0</td>\n",
              "      <td>49.67</td>\n",
              "    </tr>\n",
              "    <tr>\n",
              "      <th>2012-11-01 14:00:00</th>\n",
              "      <td>3355.0</td>\n",
              "      <td>49.67</td>\n",
              "    </tr>\n",
              "    <tr>\n",
              "      <th>2012-11-01 15:00:00</th>\n",
              "      <td>3291.0</td>\n",
              "      <td>50.67</td>\n",
              "    </tr>\n",
              "    <tr>\n",
              "      <th>2012-11-01 16:00:00</th>\n",
              "      <td>3274.0</td>\n",
              "      <td>50.00</td>\n",
              "    </tr>\n",
              "    <tr>\n",
              "      <th>2012-11-01 17:00:00</th>\n",
              "      <td>3334.0</td>\n",
              "      <td>50.00</td>\n",
              "    </tr>\n",
              "    <tr>\n",
              "      <th>2012-11-01 18:00:00</th>\n",
              "      <td>3568.0</td>\n",
              "      <td>49.33</td>\n",
              "    </tr>\n",
              "    <tr>\n",
              "      <th>2012-11-01 19:00:00</th>\n",
              "      <td>3724.0</td>\n",
              "      <td>48.67</td>\n",
              "    </tr>\n",
              "    <tr>\n",
              "      <th>2012-11-01 20:00:00</th>\n",
              "      <td>3634.0</td>\n",
              "      <td>47.00</td>\n",
              "    </tr>\n",
              "    <tr>\n",
              "      <th>2012-11-01 21:00:00</th>\n",
              "      <td>3477.0</td>\n",
              "      <td>46.33</td>\n",
              "    </tr>\n",
              "    <tr>\n",
              "      <th>2012-11-01 22:00:00</th>\n",
              "      <td>3214.0</td>\n",
              "      <td>45.67</td>\n",
              "    </tr>\n",
              "    <tr>\n",
              "      <th>2012-11-01 23:00:00</th>\n",
              "      <td>2878.0</td>\n",
              "      <td>46.00</td>\n",
              "    </tr>\n",
              "    <tr>\n",
              "      <th>2012-11-02 00:00:00</th>\n",
              "      <td>2606.0</td>\n",
              "      <td>44.00</td>\n",
              "    </tr>\n",
              "  </tbody>\n",
              "</table>\n",
              "</div>"
            ],
            "text/plain": [
              "                       load      T\n",
              "2012-11-01 00:00:00  2607.0  46.00\n",
              "2012-11-01 01:00:00  2386.0  48.00\n",
              "2012-11-01 02:00:00  2311.0  47.67\n",
              "2012-11-01 03:00:00  2264.0  47.00\n",
              "2012-11-01 04:00:00  2267.0  46.00\n",
              "2012-11-01 05:00:00  2352.0  45.67\n",
              "2012-11-01 06:00:00  2622.0  45.33\n",
              "2012-11-01 07:00:00  3108.0  44.67\n",
              "2012-11-01 08:00:00  3371.0  45.67\n",
              "2012-11-01 09:00:00  3405.0  46.00\n",
              "2012-11-01 10:00:00  3426.0  46.33\n",
              "2012-11-01 11:00:00  3436.0  47.00\n",
              "2012-11-01 12:00:00  3417.0  48.67\n",
              "2012-11-01 13:00:00  3391.0  49.67\n",
              "2012-11-01 14:00:00  3355.0  49.67\n",
              "2012-11-01 15:00:00  3291.0  50.67\n",
              "2012-11-01 16:00:00  3274.0  50.00\n",
              "2012-11-01 17:00:00  3334.0  50.00\n",
              "2012-11-01 18:00:00  3568.0  49.33\n",
              "2012-11-01 19:00:00  3724.0  48.67\n",
              "2012-11-01 20:00:00  3634.0  47.00\n",
              "2012-11-01 21:00:00  3477.0  46.33\n",
              "2012-11-01 22:00:00  3214.0  45.67\n",
              "2012-11-01 23:00:00  2878.0  46.00\n",
              "2012-11-02 00:00:00  2606.0  44.00"
            ]
          },
          "execution_count": 35,
          "metadata": {},
          "output_type": "execute_result"
        },
        {
          "name": "stdout",
          "output_type": "stream",
          "text": [
            "time: 31 ms (started: 2023-05-04 12:11:39 +02:00)\n"
          ]
        }
      ],
      "source": [
        "data.truncate(before='2012-11-01', after='2012-11-02')"
      ]
    },
    {
      "cell_type": "markdown",
      "metadata": {
        "id": "KFCzbO9MlP-B"
      },
      "source": [
        "You can also access information given in `timeStamp` or `DatetimeIndex`. See below for details:\n",
        "\n",
        "https://pandas.pydata.org/docs/reference/api/pandas.DatetimeIndex.html\n",
        "\n",
        "https://pandas.pydata.org/pandas-docs/stable/user_guide/timeseries.html\n",
        "\n"
      ]
    },
    {
      "cell_type": "markdown",
      "metadata": {
        "id": "diXFz7WZmQ4J"
      },
      "source": [
        "### Checking for NaN values and Types\n",
        "\n",
        "You should check for NaN values after playing with data:"
      ]
    },
    {
      "cell_type": "code",
      "execution_count": 36,
      "metadata": {
        "colab": {
          "base_uri": "https://localhost:8080/"
        },
        "id": "MIwwd3_DmT6B",
        "outputId": "664b63b6-8964-47ce-bdf9-7919b8d31348"
      },
      "outputs": [
        {
          "data": {
            "text/plain": [
              "load    0\n",
              "T       0\n",
              "dtype: int64"
            ]
          },
          "execution_count": 36,
          "metadata": {},
          "output_type": "execute_result"
        },
        {
          "name": "stdout",
          "output_type": "stream",
          "text": [
            "time: 0 ns (started: 2023-05-04 12:11:43 +02:00)\n"
          ]
        }
      ],
      "source": [
        "data.isna().sum()"
      ]
    },
    {
      "cell_type": "code",
      "execution_count": 37,
      "metadata": {
        "colab": {
          "base_uri": "https://localhost:8080/"
        },
        "id": "tI0H2ifNmfxB",
        "outputId": "14766010-601b-4ac2-b848-e953bebf0521"
      },
      "outputs": [
        {
          "data": {
            "text/plain": [
              "load    float64\n",
              "T       float64\n",
              "dtype: object"
            ]
          },
          "execution_count": 37,
          "metadata": {},
          "output_type": "execute_result"
        },
        {
          "name": "stdout",
          "output_type": "stream",
          "text": [
            "time: 0 ns (started: 2023-05-04 12:11:45 +02:00)\n"
          ]
        }
      ],
      "source": [
        "data.dtypes"
      ]
    },
    {
      "cell_type": "markdown",
      "metadata": {
        "id": "49RVdrJtmkt6"
      },
      "source": [
        "### Statistics\n",
        "Let's look at some simple statistics:"
      ]
    },
    {
      "cell_type": "code",
      "execution_count": 38,
      "metadata": {
        "colab": {
          "base_uri": "https://localhost:8080/",
          "height": 318
        },
        "id": "NV6YG-XVmqox",
        "outputId": "409e64c7-e6c0-40cc-eda4-cd5d8424633d"
      },
      "outputs": [
        {
          "data": {
            "text/html": [
              "<div>\n",
              "<style scoped>\n",
              "    .dataframe tbody tr th:only-of-type {\n",
              "        vertical-align: middle;\n",
              "    }\n",
              "\n",
              "    .dataframe tbody tr th {\n",
              "        vertical-align: top;\n",
              "    }\n",
              "\n",
              "    .dataframe thead th {\n",
              "        text-align: right;\n",
              "    }\n",
              "</style>\n",
              "<table border=\"1\" class=\"dataframe\">\n",
              "  <thead>\n",
              "    <tr style=\"text-align: right;\">\n",
              "      <th></th>\n",
              "      <th>load</th>\n",
              "      <th>T</th>\n",
              "    </tr>\n",
              "  </thead>\n",
              "  <tbody>\n",
              "    <tr>\n",
              "      <th>count</th>\n",
              "      <td>78888.000000</td>\n",
              "      <td>78888.000000</td>\n",
              "    </tr>\n",
              "    <tr>\n",
              "      <th>mean</th>\n",
              "      <td>3308.000837</td>\n",
              "      <td>47.573934</td>\n",
              "    </tr>\n",
              "    <tr>\n",
              "      <th>std</th>\n",
              "      <td>579.803021</td>\n",
              "      <td>19.201314</td>\n",
              "    </tr>\n",
              "    <tr>\n",
              "      <th>min</th>\n",
              "      <td>1811.000000</td>\n",
              "      <td>-18.000000</td>\n",
              "    </tr>\n",
              "    <tr>\n",
              "      <th>25%</th>\n",
              "      <td>2845.000000</td>\n",
              "      <td>32.670000</td>\n",
              "    </tr>\n",
              "    <tr>\n",
              "      <th>50%</th>\n",
              "      <td>3382.000000</td>\n",
              "      <td>48.670000</td>\n",
              "    </tr>\n",
              "    <tr>\n",
              "      <th>75%</th>\n",
              "      <td>3709.000000</td>\n",
              "      <td>63.000000</td>\n",
              "    </tr>\n",
              "    <tr>\n",
              "      <th>max</th>\n",
              "      <td>5506.000000</td>\n",
              "      <td>97.000000</td>\n",
              "    </tr>\n",
              "  </tbody>\n",
              "</table>\n",
              "</div>"
            ],
            "text/plain": [
              "               load             T\n",
              "count  78888.000000  78888.000000\n",
              "mean    3308.000837     47.573934\n",
              "std      579.803021     19.201314\n",
              "min     1811.000000    -18.000000\n",
              "25%     2845.000000     32.670000\n",
              "50%     3382.000000     48.670000\n",
              "75%     3709.000000     63.000000\n",
              "max     5506.000000     97.000000"
            ]
          },
          "execution_count": 38,
          "metadata": {},
          "output_type": "execute_result"
        },
        {
          "name": "stdout",
          "output_type": "stream",
          "text": [
            "time: 31 ms (started: 2023-05-04 12:11:46 +02:00)\n"
          ]
        }
      ],
      "source": [
        "data.describe()"
      ]
    },
    {
      "cell_type": "markdown",
      "metadata": {
        "id": "yej0eIRSpgPU"
      },
      "source": [
        "### Data Analysis with Custom Frequency\n",
        "\n",
        "In some cases, you may want to sample from the entire data at a given frequency, for instance you may be interested in only business days. It is easy to generate such data in python.\n",
        "\n",
        "`asfreq()` method converts a time series to specified frequency and optionally provides a filling method for the missing values. "
      ]
    },
    {
      "cell_type": "code",
      "execution_count": 39,
      "metadata": {
        "colab": {
          "base_uri": "https://localhost:8080/",
          "height": 287
        },
        "id": "Q28nMBFap0qS",
        "outputId": "d26b67c5-e60b-430d-aebf-5f5ddd107b9c"
      },
      "outputs": [
        {
          "data": {
            "text/html": [
              "<div>\n",
              "<style scoped>\n",
              "    .dataframe tbody tr th:only-of-type {\n",
              "        vertical-align: middle;\n",
              "    }\n",
              "\n",
              "    .dataframe tbody tr th {\n",
              "        vertical-align: top;\n",
              "    }\n",
              "\n",
              "    .dataframe thead th {\n",
              "        text-align: right;\n",
              "    }\n",
              "</style>\n",
              "<table border=\"1\" class=\"dataframe\">\n",
              "  <thead>\n",
              "    <tr style=\"text-align: right;\">\n",
              "      <th></th>\n",
              "      <th>load</th>\n",
              "      <th>T</th>\n",
              "    </tr>\n",
              "  </thead>\n",
              "  <tbody>\n",
              "    <tr>\n",
              "      <th>2006-01-02</th>\n",
              "      <td>2913.0</td>\n",
              "      <td>29.00</td>\n",
              "    </tr>\n",
              "    <tr>\n",
              "      <th>2006-01-03</th>\n",
              "      <td>3121.0</td>\n",
              "      <td>17.67</td>\n",
              "    </tr>\n",
              "    <tr>\n",
              "      <th>2006-01-04</th>\n",
              "      <td>3053.0</td>\n",
              "      <td>27.33</td>\n",
              "    </tr>\n",
              "    <tr>\n",
              "      <th>2006-01-05</th>\n",
              "      <td>3012.0</td>\n",
              "      <td>29.00</td>\n",
              "    </tr>\n",
              "    <tr>\n",
              "      <th>2006-01-06</th>\n",
              "      <td>3098.0</td>\n",
              "      <td>23.33</td>\n",
              "    </tr>\n",
              "    <tr>\n",
              "      <th>2006-01-09</th>\n",
              "      <td>2964.0</td>\n",
              "      <td>33.00</td>\n",
              "    </tr>\n",
              "    <tr>\n",
              "      <th>2006-01-10</th>\n",
              "      <td>2986.0</td>\n",
              "      <td>27.00</td>\n",
              "    </tr>\n",
              "  </tbody>\n",
              "</table>\n",
              "</div>"
            ],
            "text/plain": [
              "              load      T\n",
              "2006-01-02  2913.0  29.00\n",
              "2006-01-03  3121.0  17.67\n",
              "2006-01-04  3053.0  27.33\n",
              "2006-01-05  3012.0  29.00\n",
              "2006-01-06  3098.0  23.33\n",
              "2006-01-09  2964.0  33.00\n",
              "2006-01-10  2986.0  27.00"
            ]
          },
          "execution_count": 39,
          "metadata": {},
          "output_type": "execute_result"
        },
        {
          "name": "stdout",
          "output_type": "stream",
          "text": [
            "time: 47 ms (started: 2023-05-04 12:11:50 +02:00)\n"
          ]
        }
      ],
      "source": [
        "#https://pandas.pydata.org/pandas-docs/stable/reference/api/pandas.tseries.offsets.DateOffset.html\n",
        "#https://pandas.pydata.org/pandas-docs/stable/reference/api/pandas.DataFrame.asfreq.html\n",
        "# For business days only:\n",
        "data_custom = data.asfreq(pd.offsets.BDay(), method='pad') #Method to use for filling holes in reindexed Series \n",
        "data_custom.head(7)"
      ]
    },
    {
      "cell_type": "markdown",
      "metadata": {
        "id": "pTHwu_9orY0h"
      },
      "source": [
        "### Exploring time-related information\n",
        "\n",
        "We can look at the trend, seasonality and the noise in the data by using the `statsmodels` Python module, which has a `tsa` (time series analysis) package as well as the `seasonal _ decompose()` function. \n",
        "\n",
        "The `statsmodels.tsa` package also contains descriptive statistics for time series, such as, autocorrelation, partial autocorrelation function, and periodogram:\n",
        "https://www.statsmodels.org/devel/tsa.html\n",
        "\n",
        "Here, we will look at only the `statsmodels` and `seasonal _ decompose()` functions for the load variable."
      ]
    },
    {
      "cell_type": "code",
      "execution_count": 40,
      "metadata": {
        "colab": {
          "base_uri": "https://localhost:8080/",
          "height": 315
        },
        "id": "aO9xGtaJsClV",
        "outputId": "49b8b77b-8b85-4ccb-ab43-96695ebf1fa3"
      },
      "outputs": [
        {
          "data": {
            "image/png": "[encoded data removed]",
            "text/plain": [
              "<Figure size 640x480 with 4 Axes>"
            ]
          },
          "metadata": {},
          "output_type": "display_data"
        },
        {
          "name": "stdout",
          "output_type": "stream",
          "text": [
            "time: 1.06 s (started: 2023-05-04 12:11:54 +02:00)\n"
          ]
        }
      ],
      "source": [
        "#taking load column:\n",
        "data_load = data['load']\n",
        "#Calling our function:\n",
        "decomposition = sm.tsa.seasonal_decompose(data_load['2014-06-01':'2014-12-31'], model = 'additive')\n",
        "#Plotting:\n",
        "fig = decomposition.plot()\n",
        "mpl.rcParams['figure.figsize'] = [8.0, 8.0]"
      ]
    },
    {
      "cell_type": "markdown",
      "metadata": {
        "id": "3tk6LSv0tYr8"
      },
      "source": [
        "we can see that the seasonality is following a consistent pattern while the trend is following an irregular\n",
        "behaviour for the second half of year 2014. \n",
        "\n",
        "We can also plot the trend alongside the observed load variations together:"
      ]
    },
    {
      "cell_type": "code",
      "execution_count": 41,
      "metadata": {
        "colab": {
          "base_uri": "https://localhost:8080/",
          "height": 501
        },
        "id": "9caHcP1rtqs6",
        "outputId": "e9c8f41d-2805-44e2-fff9-909fb0b36511"
      },
      "outputs": [
        {
          "data": {
            "image/png": "[encoded data removed]",
            "text/plain": [
              "<Figure size 800x800 with 1 Axes>"
            ]
          },
          "metadata": {},
          "output_type": "display_data"
        },
        {
          "name": "stdout",
          "output_type": "stream",
          "text": [
            "time: 1.86 s (started: 2023-05-04 12:11:58 +02:00)\n"
          ]
        }
      ],
      "source": [
        "#Calling function:\n",
        "decomposition = sm.tsa.seasonal_decompose(data_load, model = 'additive')\n",
        "#Plotting:\n",
        "fig, ax = plt.subplots()\n",
        "ax.grid(True)\n",
        "#Matplotlib’s YearLocator() makes ticks on a given day of each year that is a multiple of base:\n",
        "year = mdates.YearLocator(month=1)\n",
        "month = mdates.MonthLocator(interval=1)\n",
        "year_format = mdates.DateFormatter('%Y')\n",
        "month_format = mdates.DateFormatter('%m')\n",
        "ax.xaxis.set_minor_locator(month)\n",
        "ax.xaxis.grid(True, which = 'minor')\n",
        "ax.xaxis.set_major_locator(year)\n",
        "ax.xaxis.set_major_formatter(year_format)\n",
        "plt.plot(data_load.index, data_load, c=colors['lightskyblue'])\n",
        "plt.plot(decomposition.trend.index, decomposition.trend, c=colors['midnightblue'])\n",
        "mpl.rcParams['figure.figsize'] = [18.0, 6.0]"
      ]
    },
    {
      "cell_type": "markdown",
      "metadata": {
        "id": "CnC0LoIanb4x"
      },
      "source": [
        "### Handling Missing Data\n",
        "\n",
        "We have checked that the data has no missing elements, in neither load nor temperature. \n",
        "\n",
        "In general, missing values are represented in the time series by a sequence gap in the time stamp variable or in other values. If you have such a problem in your data, you\n",
        "can fill missing values by interpolating between the two closest non-missing values via `dataframe.interpolate()`. However, you should note that only `method = 'linear'` is supported for DataFrames and series with a MultiIndex:\n",
        "\n",
        "```\n",
        "#you can interpolate linearly as follows:\n",
        "data.interpolate(limit = 8, method ='linear', limit_direction ='both')\n",
        "```\n",
        "\n",
        "Note that if there is more than 8 missing data in both direction in time consecutively, the missing\n",
        "values are not interpolated and they remain missing. This is set via `limit`. This is a precaution to limit the spurious interpolation.\n",
        "\n",
        "You can also use `scipy.stats` package for more advanced options:\n",
        "\n",
        "https://docs.scipy.org/doc/scipy/reference/tutorial/stats.html"
      ]
    },
    {
      "cell_type": "markdown",
      "metadata": {
        "id": "-HCR-et-3yOM"
      },
      "source": [
        "### Normalization / Standardization in Time Series\n",
        "\n",
        "Normalization rescales the data such that all values are within the range of 0 and 1. Standardization, on the other hand, rerescales the distribution of values so that\n",
        "the mean values are 0 with a SD of 1. Similar to the previous exercises, we can use scikit learn for that purpose."
      ]
    },
    {
      "cell_type": "code",
      "execution_count": 42,
      "metadata": {
        "colab": {
          "base_uri": "https://localhost:8080/",
          "height": 318
        },
        "id": "8GCXSc-wPcXC",
        "outputId": "bc7306db-efea-4204-d96d-2aca3e068858"
      },
      "outputs": [
        {
          "data": {
            "text/html": [
              "<div>\n",
              "<style scoped>\n",
              "    .dataframe tbody tr th:only-of-type {\n",
              "        vertical-align: middle;\n",
              "    }\n",
              "\n",
              "    .dataframe tbody tr th {\n",
              "        vertical-align: top;\n",
              "    }\n",
              "\n",
              "    .dataframe thead th {\n",
              "        text-align: right;\n",
              "    }\n",
              "</style>\n",
              "<table border=\"1\" class=\"dataframe\">\n",
              "  <thead>\n",
              "    <tr style=\"text-align: right;\">\n",
              "      <th></th>\n",
              "      <th>load</th>\n",
              "      <th>T</th>\n",
              "    </tr>\n",
              "  </thead>\n",
              "  <tbody>\n",
              "    <tr>\n",
              "      <th>count</th>\n",
              "      <td>78888.000000</td>\n",
              "      <td>78888.000000</td>\n",
              "    </tr>\n",
              "    <tr>\n",
              "      <th>mean</th>\n",
              "      <td>3308.000837</td>\n",
              "      <td>47.573934</td>\n",
              "    </tr>\n",
              "    <tr>\n",
              "      <th>std</th>\n",
              "      <td>579.803021</td>\n",
              "      <td>19.201314</td>\n",
              "    </tr>\n",
              "    <tr>\n",
              "      <th>min</th>\n",
              "      <td>1811.000000</td>\n",
              "      <td>-18.000000</td>\n",
              "    </tr>\n",
              "    <tr>\n",
              "      <th>25%</th>\n",
              "      <td>2845.000000</td>\n",
              "      <td>32.670000</td>\n",
              "    </tr>\n",
              "    <tr>\n",
              "      <th>50%</th>\n",
              "      <td>3382.000000</td>\n",
              "      <td>48.670000</td>\n",
              "    </tr>\n",
              "    <tr>\n",
              "      <th>75%</th>\n",
              "      <td>3709.000000</td>\n",
              "      <td>63.000000</td>\n",
              "    </tr>\n",
              "    <tr>\n",
              "      <th>max</th>\n",
              "      <td>5506.000000</td>\n",
              "      <td>97.000000</td>\n",
              "    </tr>\n",
              "  </tbody>\n",
              "</table>\n",
              "</div>"
            ],
            "text/plain": [
              "               load             T\n",
              "count  78888.000000  78888.000000\n",
              "mean    3308.000837     47.573934\n",
              "std      579.803021     19.201314\n",
              "min     1811.000000    -18.000000\n",
              "25%     2845.000000     32.670000\n",
              "50%     3382.000000     48.670000\n",
              "75%     3709.000000     63.000000\n",
              "max     5506.000000     97.000000"
            ]
          },
          "execution_count": 42,
          "metadata": {},
          "output_type": "execute_result"
        },
        {
          "name": "stdout",
          "output_type": "stream",
          "text": [
            "time: 16 ms (started: 2023-05-04 12:12:05 +02:00)\n"
          ]
        }
      ],
      "source": [
        "#Looking into the statistics:\n",
        "data.describe()"
      ]
    },
    {
      "cell_type": "code",
      "execution_count": 43,
      "metadata": {
        "colab": {
          "base_uri": "https://localhost:8080/",
          "height": 318
        },
        "id": "Ye5yeiCCNues",
        "outputId": "f86d1fab-8256-4cee-b6e5-959334469158"
      },
      "outputs": [
        {
          "data": {
            "text/html": [
              "<div>\n",
              "<style scoped>\n",
              "    .dataframe tbody tr th:only-of-type {\n",
              "        vertical-align: middle;\n",
              "    }\n",
              "\n",
              "    .dataframe tbody tr th {\n",
              "        vertical-align: top;\n",
              "    }\n",
              "\n",
              "    .dataframe thead th {\n",
              "        text-align: right;\n",
              "    }\n",
              "</style>\n",
              "<table border=\"1\" class=\"dataframe\">\n",
              "  <thead>\n",
              "    <tr style=\"text-align: right;\">\n",
              "      <th></th>\n",
              "      <th>load</th>\n",
              "      <th>T</th>\n",
              "    </tr>\n",
              "  </thead>\n",
              "  <tbody>\n",
              "    <tr>\n",
              "      <th>count</th>\n",
              "      <td>7.888800e+04</td>\n",
              "      <td>7.888800e+04</td>\n",
              "    </tr>\n",
              "    <tr>\n",
              "      <th>mean</th>\n",
              "      <td>3.127224e-16</td>\n",
              "      <td>8.646702e-17</td>\n",
              "    </tr>\n",
              "    <tr>\n",
              "      <th>std</th>\n",
              "      <td>1.000006e+00</td>\n",
              "      <td>1.000006e+00</td>\n",
              "    </tr>\n",
              "    <tr>\n",
              "      <th>min</th>\n",
              "      <td>-2.581929e+00</td>\n",
              "      <td>-3.415097e+00</td>\n",
              "    </tr>\n",
              "    <tr>\n",
              "      <th>25%</th>\n",
              "      <td>-7.985536e-01</td>\n",
              "      <td>-7.761984e-01</td>\n",
              "    </tr>\n",
              "    <tr>\n",
              "      <th>50%</th>\n",
              "      <td>1.276289e-01</td>\n",
              "      <td>5.708323e-02</td>\n",
              "    </tr>\n",
              "    <tr>\n",
              "      <th>75%</th>\n",
              "      <td>6.916171e-01</td>\n",
              "      <td>8.033911e-01</td>\n",
              "    </tr>\n",
              "    <tr>\n",
              "      <th>max</th>\n",
              "      <td>3.790965e+00</td>\n",
              "      <td>2.574114e+00</td>\n",
              "    </tr>\n",
              "  </tbody>\n",
              "</table>\n",
              "</div>"
            ],
            "text/plain": [
              "               load             T\n",
              "count  7.888800e+04  7.888800e+04\n",
              "mean   3.127224e-16  8.646702e-17\n",
              "std    1.000006e+00  1.000006e+00\n",
              "min   -2.581929e+00 -3.415097e+00\n",
              "25%   -7.985536e-01 -7.761984e-01\n",
              "50%    1.276289e-01  5.708323e-02\n",
              "75%    6.916171e-01  8.033911e-01\n",
              "max    3.790965e+00  2.574114e+00"
            ]
          },
          "execution_count": 43,
          "metadata": {},
          "output_type": "execute_result"
        },
        {
          "name": "stdout",
          "output_type": "stream",
          "text": [
            "time: 47 ms (started: 2023-05-04 12:12:07 +02:00)\n"
          ]
        }
      ],
      "source": [
        "#Rescaling the data\n",
        "featuresToScale = data.columns\n",
        "sX = pp.StandardScaler(copy=True)\n",
        "data.loc[:,featuresToScale] = sX.fit_transform(data[featuresToScale])\n",
        "#Looking into the statistics again:\n",
        "data.describe()"
      ]
    },
    {
      "cell_type": "code",
      "execution_count": 44,
      "metadata": {
        "colab": {
          "base_uri": "https://localhost:8080/",
          "height": 318
        },
        "id": "HFQTwyTDOke8",
        "outputId": "64a26983-e834-4f76-c1a9-8ddcd92c2216"
      },
      "outputs": [
        {
          "data": {
            "text/html": [
              "<div>\n",
              "<style scoped>\n",
              "    .dataframe tbody tr th:only-of-type {\n",
              "        vertical-align: middle;\n",
              "    }\n",
              "\n",
              "    .dataframe tbody tr th {\n",
              "        vertical-align: top;\n",
              "    }\n",
              "\n",
              "    .dataframe thead th {\n",
              "        text-align: right;\n",
              "    }\n",
              "</style>\n",
              "<table border=\"1\" class=\"dataframe\">\n",
              "  <thead>\n",
              "    <tr style=\"text-align: right;\">\n",
              "      <th></th>\n",
              "      <th>load</th>\n",
              "      <th>T</th>\n",
              "    </tr>\n",
              "  </thead>\n",
              "  <tbody>\n",
              "    <tr>\n",
              "      <th>count</th>\n",
              "      <td>78888.000000</td>\n",
              "      <td>78888.000000</td>\n",
              "    </tr>\n",
              "    <tr>\n",
              "      <th>mean</th>\n",
              "      <td>3308.000837</td>\n",
              "      <td>47.573934</td>\n",
              "    </tr>\n",
              "    <tr>\n",
              "      <th>std</th>\n",
              "      <td>579.803021</td>\n",
              "      <td>19.201314</td>\n",
              "    </tr>\n",
              "    <tr>\n",
              "      <th>min</th>\n",
              "      <td>1811.000000</td>\n",
              "      <td>-18.000000</td>\n",
              "    </tr>\n",
              "    <tr>\n",
              "      <th>25%</th>\n",
              "      <td>2845.000000</td>\n",
              "      <td>32.670000</td>\n",
              "    </tr>\n",
              "    <tr>\n",
              "      <th>50%</th>\n",
              "      <td>3382.000000</td>\n",
              "      <td>48.670000</td>\n",
              "    </tr>\n",
              "    <tr>\n",
              "      <th>75%</th>\n",
              "      <td>3709.000000</td>\n",
              "      <td>63.000000</td>\n",
              "    </tr>\n",
              "    <tr>\n",
              "      <th>max</th>\n",
              "      <td>5506.000000</td>\n",
              "      <td>97.000000</td>\n",
              "    </tr>\n",
              "  </tbody>\n",
              "</table>\n",
              "</div>"
            ],
            "text/plain": [
              "               load             T\n",
              "count  78888.000000  78888.000000\n",
              "mean    3308.000837     47.573934\n",
              "std      579.803021     19.201314\n",
              "min     1811.000000    -18.000000\n",
              "25%     2845.000000     32.670000\n",
              "50%     3382.000000     48.670000\n",
              "75%     3709.000000     63.000000\n",
              "max     5506.000000     97.000000"
            ]
          },
          "execution_count": 44,
          "metadata": {},
          "output_type": "execute_result"
        },
        {
          "name": "stdout",
          "output_type": "stream",
          "text": [
            "time: 31 ms (started: 2023-05-04 12:12:10 +02:00)\n"
          ]
        }
      ],
      "source": [
        "data.loc[:,featuresToScale] = sX.inverse_transform(data[featuresToScale])\n",
        "#Looking into the statistics again:\n",
        "data.describe()"
      ]
    },
    {
      "cell_type": "markdown",
      "metadata": {
        "id": "tV9j0xKp4N2d"
      },
      "source": [
        "## Feature Engineering in Time Series\n",
        "\n",
        "Feature engineering enables you to optimize the data fed into the ML algorithms so that the predictive accuracy of the model increases. In time series, there are some well-known tricks which help to improve the model outcomes. Below you will find some illustrative examples for you to explore."
      ]
    },
    {
      "cell_type": "markdown",
      "metadata": {
        "id": "hAdi_ftXQRqC"
      },
      "source": [
        "### Date - Time Features\n",
        "\n",
        "Depending on the problem, you might see some patterns on sub-time items present in the time stamps; such as the hour, day, month etc. Imagine that you would like to capture the rush hour effects on utility consumption. In this case, it would be better to add this time information as an additional feature (column in dataframe). For that purpose, you can use `pandas` to add new columns (hour, month, and day of week columns) to your original dataset. In the ML algorithm, this new column will be taken into account as a new factor. \n",
        "\n",
        "Other important features might be:\n",
        "+ Weekend or not\n",
        "+ Business day or not\n",
        "+ Public holiday or not\n",
        "+ Quarter of the year\n",
        "+ Before or after business hours\n",
        "+ Season of the year\n",
        "\n",
        "You can craft different filters according to your problem and your objective. "
      ]
    },
    {
      "cell_type": "code",
      "execution_count": 45,
      "metadata": {
        "colab": {
          "base_uri": "https://localhost:8080/",
          "height": 224
        },
        "id": "L0PgA_TfSLQY",
        "outputId": "cf1f3cba-e81c-43ca-cb0f-3f980d600da9"
      },
      "outputs": [
        {
          "data": {
            "text/html": [
              "<div>\n",
              "<style scoped>\n",
              "    .dataframe tbody tr th:only-of-type {\n",
              "        vertical-align: middle;\n",
              "    }\n",
              "\n",
              "    .dataframe tbody tr th {\n",
              "        vertical-align: top;\n",
              "    }\n",
              "\n",
              "    .dataframe thead th {\n",
              "        text-align: right;\n",
              "    }\n",
              "</style>\n",
              "<table border=\"1\" class=\"dataframe\">\n",
              "  <thead>\n",
              "    <tr style=\"text-align: right;\">\n",
              "      <th></th>\n",
              "      <th>load</th>\n",
              "      <th>T</th>\n",
              "    </tr>\n",
              "  </thead>\n",
              "  <tbody>\n",
              "    <tr>\n",
              "      <th>2006-01-01 00:00:00</th>\n",
              "      <td>2985.0</td>\n",
              "      <td>24.33</td>\n",
              "    </tr>\n",
              "    <tr>\n",
              "      <th>2006-01-01 01:00:00</th>\n",
              "      <td>3010.0</td>\n",
              "      <td>22.67</td>\n",
              "    </tr>\n",
              "    <tr>\n",
              "      <th>2006-01-01 02:00:00</th>\n",
              "      <td>2853.0</td>\n",
              "      <td>20.67</td>\n",
              "    </tr>\n",
              "    <tr>\n",
              "      <th>2006-01-01 03:00:00</th>\n",
              "      <td>2758.0</td>\n",
              "      <td>21.33</td>\n",
              "    </tr>\n",
              "    <tr>\n",
              "      <th>2006-01-01 04:00:00</th>\n",
              "      <td>2705.0</td>\n",
              "      <td>19.00</td>\n",
              "    </tr>\n",
              "  </tbody>\n",
              "</table>\n",
              "</div>"
            ],
            "text/plain": [
              "                       load      T\n",
              "2006-01-01 00:00:00  2985.0  24.33\n",
              "2006-01-01 01:00:00  3010.0  22.67\n",
              "2006-01-01 02:00:00  2853.0  20.67\n",
              "2006-01-01 03:00:00  2758.0  21.33\n",
              "2006-01-01 04:00:00  2705.0  19.00"
            ]
          },
          "execution_count": 45,
          "metadata": {},
          "output_type": "execute_result"
        },
        {
          "name": "stdout",
          "output_type": "stream",
          "text": [
            "time: 15 ms (started: 2023-05-04 12:12:14 +02:00)\n"
          ]
        }
      ],
      "source": [
        "data.head()"
      ]
    },
    {
      "cell_type": "code",
      "execution_count": 46,
      "metadata": {
        "colab": {
          "base_uri": "https://localhost:8080/"
        },
        "id": "r2UF-vAKROgS",
        "outputId": "0ef821ae-28ff-4d3e-8259-33ef14dc1b25"
      },
      "outputs": [
        {
          "name": "stdout",
          "output_type": "stream",
          "text": [
            "                       load      T  hour  month  dayofWeek\n",
            "2006-01-01 00:00:00  2985.0  24.33     0      1          1\n",
            "2006-01-01 01:00:00  3010.0  22.67     1      1          1\n",
            "2006-01-01 02:00:00  2853.0  20.67     2      1          1\n",
            "2006-01-01 03:00:00  2758.0  21.33     3      1          1\n",
            "2006-01-01 04:00:00  2705.0  19.00     4      1          1\n",
            "time: 1.62 s (started: 2023-05-04 12:12:15 +02:00)\n"
          ]
        }
      ],
      "source": [
        "#A simple example:\n",
        "data['hour'] = [data.index[i].hour for i in range(len(data))]\n",
        "data['month'] = [data.index[i].month for i in range(len(data))]\n",
        "data['dayofWeek'] = [data.index[i].day for i in range(len(data))]\n",
        "print(data.head(5))"
      ]
    },
    {
      "cell_type": "markdown",
      "metadata": {
        "id": "mSbQfKTrTWAi"
      },
      "source": [
        "### Window Statistics as Feature\n",
        "\n",
        "Another common trick is to introduce windows statistics as an additional feature. \n",
        "\n",
        "Sliding window method are a summary of values over a fixed window of prior timesteps. Here the basic idea is that you assume the past contain a sort of intrinsic information about the future that can be captured if you oberve the past in \"windows\".  A window of specified length is moved over the data, sample by sample, and the statistic of interest (mean, median etc) is computed over the data in these windows. For more, you may refer to:\n",
        "\n",
        "https://www.geeksforgeeks.org/window-sliding-technique/\n",
        "\n",
        "https://de.mathworks.com/help/dsp/ug/sliding-window-method-and-exponential-weighting-method.html\n",
        "\n",
        "Here I will show you how to add \"Rolling Window Statistics\" as an additional feature to your data. \n",
        "\n",
        "In this method, you first define a rolling window of observations. Then, you use observations falling under this window to compute statistics of interest. Next, you roll over the next time step and repeat the same computation. You may consider it as an integral action over a given time interval.\n",
        "\n",
        "`pandas` offers a `rolling()` function for that purpose, where it creates a new data structure with the window of values at each timestep:\n",
        "\n",
        "https://pandas.pydata.org/pandas-docs/stable/reference/api/pandas.DataFrame.rolling.html\n",
        "\n",
        "Here we will also a need the shifting in the time stamps. The shift method\n",
        "uses a freq argument which can be a DateOffset class or a timedelta-like object or also an offset alias. \n",
        "\n",
        "https://pandas.pydata.org/pandas-docs/stable/reference/api/pandas.DataFrame.shift.html\n",
        "\n",
        "String aliases that are useful for common time series frequencies are listed here:\n",
        "\n",
        "https://pandas.pydata.org/pandas-docs/stable/user_guide/timeseries.html#offset-aliases"
      ]
    },
    {
      "cell_type": "code",
      "execution_count": 47,
      "metadata": {
        "colab": {
          "base_uri": "https://localhost:8080/"
        },
        "id": "8O4fg_fHcBUR",
        "outputId": "ca25cd8a-715a-4a6a-de2f-242c40ed0493"
      },
      "outputs": [
        {
          "name": "stdout",
          "output_type": "stream",
          "text": [
            "                        min  median     max    load\n",
            "2006-01-01 00:00:00     NaN     NaN     NaN  2985.0\n",
            "2006-01-01 01:00:00     NaN     NaN     NaN  3010.0\n",
            "2006-01-01 02:00:00     NaN     NaN     NaN  2853.0\n",
            "2006-01-01 03:00:00  2758.0  2919.0  3010.0  2758.0\n",
            "2006-01-01 04:00:00  2705.0  2805.5  3010.0  2705.0\n",
            "2006-01-01 05:00:00  2705.0  2733.5  2853.0  2709.0\n",
            "2006-01-01 06:00:00  2705.0  2731.0  2758.0  2753.0\n",
            "2006-01-01 07:00:00  2705.0  2731.0  2849.0  2849.0\n",
            "2006-01-01 08:00:00  2709.0  2801.0  3008.0  3008.0\n",
            "2006-01-01 09:00:00  2753.0  2928.5  3243.0  3243.0\n",
            "time: 62 ms (started: 2023-05-04 12:12:21 +02:00)\n"
          ]
        }
      ],
      "source": [
        "#How to add statistics features in dataframes:\n",
        "#------------------------------------------------\n",
        "#Let's use only the load data;\n",
        "load_data = data[['load']]\n",
        "#Defining the window width:\n",
        "width = 4\n",
        "#Shifting:if needed, use shifted with .rolling.\n",
        "#shifted = load_data.shift(2)\n",
        "#Calling Rolling:\n",
        "window = load_data.rolling(window=width)\n",
        "#Lets save as a new DF. We will add min, mean and max to the load column:\n",
        "new_dataframe = pd.concat([window.min(),window.median(), window.max(), load_data], axis=1)\n",
        "new_dataframe.columns = ['min', 'median', 'max', 'load']\n",
        "print(new_dataframe.head(10))"
      ]
    },
    {
      "cell_type": "markdown",
      "metadata": {
        "id": "rvMDj9trefR3"
      },
      "source": [
        "It is also possible to use Expanding Window Statistics in `pandas`, where all past is taken into account. It is done via `expanding() `function. It's use is very similar to rolling:\n",
        "\n",
        "https://pandas.pydata.org/pandas-docs/stable/reference/api/pandas.DataFrame.expanding.html\n",
        "\n",
        "Feel free to test it by yourself!"
      ]
    },
    {
      "cell_type": "markdown",
      "metadata": {
        "id": "y4NSgbOlHDUG"
      },
      "source": [
        "# Some Basic Solutions for Time Series\n",
        "\n",
        "This section is for you to explore. It is always to be aware of simple solutions, before jumping into more complex models. Speaking of which, I recommend to watch the following lecture on model simplicity:\n",
        "[Winning with Simple, even Linear, Models](https://www.youtube.com/watch?v=68ABAU_V8qI). \n",
        "\n",
        "Linear statistical models (Autoregressive (AR) models, moving average (MA) models, and autoregressive integrated moving average (ARIMA) models) for time series have traditionally been the workhorses of time series forecasting, and they continue to be applied in a wide range of cases, from academic research to industry. This section will help you to have an idea on the subject. Note that these models are not built to handle nonlinear dynamics and will do a poor job describing data where nonlinear relationships are dominant."
      ]
    },
    {
      "cell_type": "markdown",
      "metadata": {
        "id": "hDu4JOY9jORS"
      },
      "source": [
        "## Autoregression\n",
        "\n",
        "This is the simplest method: you assume that future depends on past linearly. \n",
        "\n",
        "In this model, one parameter is the \"order\", which defines the the number of previous input values in the time series that are used to predict the next step. Therefore, this is a hyperparameter to figure out for your data. \n",
        "\n",
        "\n"
      ]
    },
    {
      "cell_type": "markdown",
      "metadata": {
        "id": "yjig5nPm6tDB"
      },
      "source": [
        "### Autocorrelation\n",
        "\n",
        "Because of this assumed linearity, autocorrelation becomes of significant importance here. It is a statistical property that occurs when a time series is linearly related to a previous time. \n",
        "\n",
        "In order to check whether there is a presence of autocorrelation in your data, you can use two different built-in plots of `pandas`: `lag_plot` and  `autocorrelation_plot`.  These functions can be imported from pandas.plotting:\n",
        "\n",
        "https://pandas.pydata.org/docs/reference/api/pandas.plotting.lag_plot.html\n",
        "\n",
        "https://pandas.pydata.org/docs/reference/api/pandas.plotting.autocorrelation_plot.html"
      ]
    },
    {
      "cell_type": "markdown",
      "metadata": {
        "id": "9067SFmooAgN"
      },
      "source": [
        "Lag plots are most commonly used to look for patterns in time series data. For example, random data should not exhibit any patterns in the lag plot. Lets see our load data:"
      ]
    },
    {
      "cell_type": "code",
      "execution_count": 48,
      "metadata": {
        "colab": {
          "base_uri": "https://localhost:8080/",
          "height": 224
        },
        "id": "b7bMHU6g3fOw",
        "outputId": "8938ce2d-6d39-4b5b-8b5e-edb1e3b8c1f4"
      },
      "outputs": [
        {
          "data": {
            "text/html": [
              "<div>\n",
              "<style scoped>\n",
              "    .dataframe tbody tr th:only-of-type {\n",
              "        vertical-align: middle;\n",
              "    }\n",
              "\n",
              "    .dataframe tbody tr th {\n",
              "        vertical-align: top;\n",
              "    }\n",
              "\n",
              "    .dataframe thead th {\n",
              "        text-align: right;\n",
              "    }\n",
              "</style>\n",
              "<table border=\"1\" class=\"dataframe\">\n",
              "  <thead>\n",
              "    <tr style=\"text-align: right;\">\n",
              "      <th></th>\n",
              "      <th>load</th>\n",
              "      <th>T</th>\n",
              "      <th>hour</th>\n",
              "      <th>month</th>\n",
              "      <th>dayofWeek</th>\n",
              "    </tr>\n",
              "  </thead>\n",
              "  <tbody>\n",
              "    <tr>\n",
              "      <th>2006-01-01 00:00:00</th>\n",
              "      <td>2985.0</td>\n",
              "      <td>24.33</td>\n",
              "      <td>0</td>\n",
              "      <td>1</td>\n",
              "      <td>1</td>\n",
              "    </tr>\n",
              "    <tr>\n",
              "      <th>2006-01-01 01:00:00</th>\n",
              "      <td>3010.0</td>\n",
              "      <td>22.67</td>\n",
              "      <td>1</td>\n",
              "      <td>1</td>\n",
              "      <td>1</td>\n",
              "    </tr>\n",
              "    <tr>\n",
              "      <th>2006-01-01 02:00:00</th>\n",
              "      <td>2853.0</td>\n",
              "      <td>20.67</td>\n",
              "      <td>2</td>\n",
              "      <td>1</td>\n",
              "      <td>1</td>\n",
              "    </tr>\n",
              "    <tr>\n",
              "      <th>2006-01-01 03:00:00</th>\n",
              "      <td>2758.0</td>\n",
              "      <td>21.33</td>\n",
              "      <td>3</td>\n",
              "      <td>1</td>\n",
              "      <td>1</td>\n",
              "    </tr>\n",
              "    <tr>\n",
              "      <th>2006-01-01 04:00:00</th>\n",
              "      <td>2705.0</td>\n",
              "      <td>19.00</td>\n",
              "      <td>4</td>\n",
              "      <td>1</td>\n",
              "      <td>1</td>\n",
              "    </tr>\n",
              "  </tbody>\n",
              "</table>\n",
              "</div>"
            ],
            "text/plain": [
              "                       load      T  hour  month  dayofWeek\n",
              "2006-01-01 00:00:00  2985.0  24.33     0      1          1\n",
              "2006-01-01 01:00:00  3010.0  22.67     1      1          1\n",
              "2006-01-01 02:00:00  2853.0  20.67     2      1          1\n",
              "2006-01-01 03:00:00  2758.0  21.33     3      1          1\n",
              "2006-01-01 04:00:00  2705.0  19.00     4      1          1"
            ]
          },
          "execution_count": 48,
          "metadata": {},
          "output_type": "execute_result"
        },
        {
          "name": "stdout",
          "output_type": "stream",
          "text": [
            "time: 16 ms (started: 2023-05-04 12:12:26 +02:00)\n"
          ]
        }
      ],
      "source": [
        "data.head()"
      ]
    },
    {
      "cell_type": "code",
      "execution_count": 49,
      "metadata": {
        "colab": {
          "base_uri": "https://localhost:8080/"
        },
        "id": "rYnYw8Xkmk0p",
        "outputId": "64595531-7cb8-48d0-dbdd-6e9c52f72e52"
      },
      "outputs": [
        {
          "name": "stdout",
          "output_type": "stream",
          "text": [
            "<class 'pandas.core.frame.DataFrame'>\n",
            "DatetimeIndex: 78888 entries, 2006-01-01 00:00:00 to 2014-12-31 23:00:00\n",
            "Data columns (total 2 columns):\n",
            " #   Column  Non-Null Count  Dtype  \n",
            "---  ------  --------------  -----  \n",
            " 0   load    78888 non-null  float64\n",
            " 1   T       78888 non-null  float64\n",
            "dtypes: float64(2)\n",
            "memory usage: 3.8 MB\n",
            "time: 16 ms (started: 2023-05-04 12:12:28 +02:00)\n"
          ]
        }
      ],
      "source": [
        "# Returning back to the original DF:\n",
        "data = data.drop(['hour','month','dayofWeek'],axis=1)\n",
        "data.info()"
      ]
    },
    {
      "cell_type": "code",
      "execution_count": 50,
      "metadata": {
        "colab": {
          "base_uri": "https://localhost:8080/",
          "height": 406
        },
        "id": "nd3p1zJXnlH5",
        "outputId": "035fba8a-3b17-4b2d-f87c-869e4c710626"
      },
      "outputs": [
        {
          "data": {
            "image/png": "[encoded data removed]",
            "text/plain": [
              "<Figure size 1800x600 with 1 Axes>"
            ]
          },
          "metadata": {},
          "output_type": "display_data"
        },
        {
          "name": "stdout",
          "output_type": "stream",
          "text": [
            "time: 781 ms (started: 2023-05-04 12:12:30 +02:00)\n"
          ]
        }
      ],
      "source": [
        "# Plotting the figure:\n",
        "plt.figure()\n",
        "lag_plot(data['load'])\n",
        "mpl.rcParams['figure.figsize'] = [8.0, 8.0]"
      ]
    },
    {
      "cell_type": "markdown",
      "metadata": {
        "id": "EEzR4-jNoJaz"
      },
      "source": [
        "Here we see a clear relationship between the time steps t and t+1. \n",
        "\n",
        "Autocorrelation plots are also useful to check the randomness in time series. If time series is random, autocorrelation values should be near zero all the time. Otherwise, the autocorrelations will be significantly non-zero. "
      ]
    },
    {
      "cell_type": "code",
      "execution_count": 51,
      "metadata": {
        "colab": {
          "base_uri": "https://localhost:8080/",
          "height": 519
        },
        "id": "ad3aV2rU2ibu",
        "outputId": "8eff77ad-1f8a-45b9-b646-cce7fdcb5bcc"
      },
      "outputs": [
        {
          "data": {
            "image/png": "[encoded data removed]",
            "text/plain": [
              "<Figure size 800x800 with 1 Axes>"
            ]
          },
          "metadata": {},
          "output_type": "display_data"
        },
        {
          "name": "stdout",
          "output_type": "stream",
          "text": [
            "time: 6.28 s (started: 2023-05-04 12:12:33 +02:00)\n"
          ]
        }
      ],
      "source": [
        "#Checking autocorrelations:\n",
        "plt.figure()\n",
        "autocorrelation_plot(data['load'])\n",
        "mpl.rcParams['figure.figsize'] = [8.0, 8.0]"
      ]
    },
    {
      "cell_type": "markdown",
      "metadata": {
        "id": "vg1iwRRX2xB-"
      },
      "source": [
        "Let's zoom in into a fraction of the data:"
      ]
    },
    {
      "cell_type": "code",
      "execution_count": 50,
      "metadata": {
        "colab": {
          "base_uri": "https://localhost:8080/",
          "height": 519
        },
        "id": "1x0wdu1X3sXV",
        "outputId": "8b8dcca1-af0c-4ce2-aaf6-ac0f1241ccdb"
      },
      "outputs": [
        {
          "data": {
            "image/png": "[encoded data removed]",
            "text/plain": [
              "<Figure size 576x576 with 1 Axes>"
            ]
          },
          "metadata": {
            "needs_background": "light"
          },
          "output_type": "display_data"
        },
        {
          "name": "stdout",
          "output_type": "stream",
          "text": [
            "time: 1.04 s (started: 2021-12-20 15:36:00 +00:00)\n"
          ]
        }
      ],
      "source": [
        "data_subset = data['load']['2014-01-01':'2014-01-07']\n",
        "autocorrelation_plot(data_subset)\n",
        "mpl.rcParams['figure.figsize'] = [12.0, 6.0]"
      ]
    },
    {
      "cell_type": "markdown",
      "metadata": {
        "id": "B8mMyB9X4MBO"
      },
      "source": [
        "Autocorrelation function ranges from –1 to 1. By default, the horizontal lines correspond to 95 percent  and the dashed line is 99 percent confidence band. Correlation values outside of this window are very likely a correlation. \n",
        "\n",
        "This plot tells us whether the data is positively correlated, negatively correlated, or independent of each other."
      ]
    },
    {
      "cell_type": "code",
      "execution_count": 52,
      "metadata": {
        "colab": {
          "base_uri": "https://localhost:8080/",
          "height": 426
        },
        "id": "aPJaXJNQ5K1Z",
        "outputId": "66b1802a-4f81-42e1-cf8c-5387a94ae1b3"
      },
      "outputs": [
        {
          "data": {
            "text/plain": [
              "<Figure size 800x800 with 0 Axes>"
            ]
          },
          "metadata": {},
          "output_type": "display_data"
        },
        {
          "data": {
            "image/png": "[encoded data removed]",
            "text/plain": [
              "<Figure size 800x800 with 1 Axes>"
            ]
          },
          "metadata": {},
          "output_type": "display_data"
        },
        {
          "name": "stdout",
          "output_type": "stream",
          "text": [
            "time: 10.8 s (started: 2023-05-04 12:12:40 +02:00)\n"
          ]
        }
      ],
      "source": [
        "#Another Library.\n",
        "#Here confidence intervals are drawn as a cone:\n",
        "plt.figure()\n",
        "plot_acf(data['load']);"
      ]
    },
    {
      "cell_type": "markdown",
      "metadata": {
        "id": "Bw5Fo9Ix7wrg"
      },
      "source": [
        "Another important concept to consider is partial correlation function (`pacf`). It is a function that measures the incremental benefit of adding another lag. Let's use it on our data:"
      ]
    },
    {
      "cell_type": "code",
      "execution_count": 53,
      "metadata": {
        "colab": {
          "base_uri": "https://localhost:8080/",
          "height": 408
        },
        "id": "Sb8Qj3Mk8ZQh",
        "outputId": "80109d69-ffeb-4cb7-c948-b312eede6ac9"
      },
      "outputs": [
        {
          "name": "stderr",
          "output_type": "stream",
          "text": [
            "c:\\Users\\rofer\\anaconda3\\envs\\Thesis\\lib\\site-packages\\statsmodels\\graphics\\tsaplots.py:348: FutureWarning: The default method 'yw' can produce PACF values outside of the [-1,1] interval. After 0.13, the default will change tounadjusted Yule-Walker ('ywm'). You can use this method now by setting method='ywm'.\n",
            "  warnings.warn(\n"
          ]
        },
        {
          "data": {
            "image/png": "[encoded data removed]",
            "text/plain": [
              "<Figure size 800x800 with 1 Axes>"
            ]
          },
          "metadata": {},
          "output_type": "display_data"
        },
        {
          "name": "stdout",
          "output_type": "stream",
          "text": [
            "time: 344 ms (started: 2023-05-04 12:12:50 +02:00)\n"
          ]
        }
      ],
      "source": [
        "plot_pacf(data['load'], lags=25)\n",
        "mpl.rcParams['figure.figsize'] = [12.0, 6.0]"
      ]
    },
    {
      "cell_type": "markdown",
      "metadata": {
        "id": "8LVhoDXn6XAe"
      },
      "source": [
        "Why do we need `acf` or `pacf`? We will use it to determine the\n",
        "order of autoregressive and moving average time series methods. "
      ]
    },
    {
      "cell_type": "markdown",
      "metadata": {
        "id": "cR1-uaz96k4v"
      },
      "source": [
        "### Implementing the Model\n",
        "If you examine the `acf` plot above, you will see that we have good positive correlation with the lags up to lag number 7 (until we hit the upper confidence threshold). However, if you check `pacf` plot, you would see that there is little benefit after the 4th lag (see multicollinearity problem for details). This will be the order of our autoregression model. In principle, the more lag variables you include in your model, the better the model will fit the data. Yet this will bring the risk of overfitting (memorizing the data). \n",
        "\n",
        "In this section, we will use an extended version of classic ARIMA. \n",
        "\n",
        "As a side note, ARIMA indicates three steps: \n",
        "+ autoregression (AR)\n",
        "+ integration (I)\n",
        "+ moving average (MA)\n",
        "\n",
        "In this exercise we will use SARIMAX: \n",
        "+ seasonal (S)\n",
        "+ autoregressive (AR)\n",
        "+ integrated (I)\n",
        "+ moving average (MA)\n",
        "+ with exogenous factors (X).\n",
        "\n",
        "This model is useful when you have to deal with time series that have seasonal cycles (which we suspect to have based on above analysis). The model postulates that the seasonal behavior itself can be thought of as an ARIMA\n",
        "process:\n",
        "\n",
        "https://www.statsmodels.org/stable/generated/statsmodels.tsa.statespace.sarimax.SARIMAX.html?highlight=sarimax#statsmodels.tsa.statespace.sarimax.SARIMAX"
      ]
    },
    {
      "cell_type": "code",
      "execution_count": 54,
      "metadata": {
        "colab": {
          "base_uri": "https://localhost:8080/"
        },
        "id": "u1nNMTP5CKoz",
        "outputId": "0261d8e5-0e10-4b0c-c43d-21cb6cb35a31"
      },
      "outputs": [
        {
          "name": "stdout",
          "output_type": "stream",
          "text": [
            "Train data shape:  (18984, 1)\n",
            "Test data shape:  (72, 1)\n",
            "time: 31 ms (started: 2023-05-04 12:12:57 +02:00)\n"
          ]
        }
      ],
      "source": [
        "# Train-Test Split:\n",
        "# We will split the data as training and test. No need for validation here. \n",
        "train_start_dt = '2012-09-01'\n",
        "test_start_dt = '2014-11-01'\n",
        "test_end_dt = '2014-11-04'\n",
        "# trainin data: filtered copy\n",
        "train = data.copy()[(data.index >= train_start_dt)& (data.index < test_start_dt)][['load']]\n",
        "train_temp = data.copy()[(data.index >= train_start_dt)& (data.index < test_start_dt)][['T']]\n",
        "# test data: filtered copy\n",
        "test = data.copy()[(data.index >= test_start_dt) & (data.index < test_end_dt)][['load']]\n",
        "test_temp = data.copy()[(data.index >= test_start_dt) & (data.index < test_end_dt)][['T']]\n",
        "#let's see how it looks like:\n",
        "print('Train data shape: ', train.shape)\n",
        "print('Test data shape: ', test.shape)"
      ]
    },
    {
      "cell_type": "code",
      "execution_count": 55,
      "metadata": {
        "colab": {
          "base_uri": "https://localhost:8080/"
        },
        "id": "cj6371DNFwyF",
        "outputId": "c31628e5-e141-4477-a66d-c1ef475f31dc"
      },
      "outputs": [
        {
          "name": "stdout",
          "output_type": "stream",
          "text": [
            "time: 15 ms (started: 2023-05-04 12:13:05 +02:00)\n"
          ]
        }
      ],
      "source": [
        "#Rescaling the data [0,1]\n",
        "scaler_1 = pp.MinMaxScaler()\n",
        "scaler_2 = pp.MinMaxScaler()\n",
        "train['load'] = scaler_1.fit_transform(train)\n",
        "train_temp['T'] = scaler_2.fit_transform(train_temp)\n",
        "test['load'] = scaler_1.transform(test)\n",
        "test_temp['T'] = scaler_2.transform(test_temp)"
      ]
    },
    {
      "cell_type": "code",
      "execution_count": 72,
      "metadata": {
        "colab": {
          "base_uri": "https://localhost:8080/"
        },
        "id": "YfwZKd25G1mM",
        "outputId": "ce624018-5c6c-4a22-bece-dceaff6b4897"
      },
      "outputs": [
        {
          "name": "stdout",
          "output_type": "stream",
          "text": [
            "time: 0 ns (started: 2023-05-04 13:42:40 +02:00)\n"
          ]
        }
      ],
      "source": [
        "#-----------------------------------------------------------\n",
        "#Hyperparameters\n",
        "#-----------------------------------------------------------\n",
        "horizon = 6\n",
        "#The (p,d,q) order of the model for the number of AR parameters, differences, and MA parameters. \n",
        "# d must be an integer indicating the integration order of the process, while p and q may either \n",
        "# be an integers indicating the AR and MA orders (so that all lags up to those orders are included)\n",
        "# or else iterables giving specific AR and / or MA lags to include. Default is an AR(1) model: (1,0,0).\n",
        "order = (3, 1, 6)\n",
        "#The (P,D,Q,s) order of the seasonal component of the model for:\n",
        "# the AR parameters,  differences, MA parameters, and periodicity.\n",
        "seasonal_order = (1, 1, 1, 24)\n",
        "#Array of exogenous regressors:\n",
        "exog = train_temp"
      ]
    },
    {
      "cell_type": "code",
      "execution_count": 73,
      "metadata": {
        "colab": {
          "base_uri": "https://localhost:8080/"
        },
        "id": "UHzWyj-SHBgB",
        "outputId": "6208c4c9-69da-4b66-98fa-310774200295"
      },
      "outputs": [
        {
          "name": "stdout",
          "output_type": "stream",
          "text": [
            "time: 16 ms (started: 2023-05-04 13:42:42 +02:00)\n"
          ]
        },
        {
          "name": "stderr",
          "output_type": "stream",
          "text": [
            "c:\\Users\\rofer\\anaconda3\\envs\\Thesis\\lib\\site-packages\\statsmodels\\tsa\\base\\tsa_model.py:471: ValueWarning: No frequency information was provided, so inferred frequency H will be used.\n",
            "  self._init_dates(dates, freq)\n",
            "c:\\Users\\rofer\\anaconda3\\envs\\Thesis\\lib\\site-packages\\statsmodels\\tsa\\base\\tsa_model.py:471: ValueWarning: No frequency information was provided, so inferred frequency H will be used.\n",
            "  self._init_dates(dates, freq)\n"
          ]
        }
      ],
      "source": [
        "#Model implementation\n",
        "#here endog is the observed time-series process y:\n",
        "model = SARIMAX(endog=train, exog = exog, order=order, seasonal_order=seasonal_order)"
      ]
    },
    {
      "cell_type": "markdown",
      "metadata": {
        "id": "rlhSwjOpIUvb"
      },
      "source": [
        "We will now perform the walk forward validation:\n",
        "\n",
        "+ Step 1: at the beginning,  train the model on the train\n",
        "data set\n",
        "\n",
        "+ Step 2: make a prediction on the next time step. \n",
        "\n",
        "+ Step 3: the training set is  expanded to include the new known value, and the process is repeated. \n",
        "\n",
        "To keep the training set window fixed, every time we add\n",
        "a new observation to the training set, we remove the observation from the beginning of the set."
      ]
    },
    {
      "cell_type": "code",
      "execution_count": 74,
      "metadata": {
        "colab": {
          "base_uri": "https://localhost:8080/",
          "height": 442
        },
        "id": "uO-lzEizI9Ti",
        "outputId": "0c9879e8-47b2-4872-ecec-748f3d3f5c5c"
      },
      "outputs": [
        {
          "data": {
            "text/html": [
              "<div>\n",
              "<style scoped>\n",
              "    .dataframe tbody tr th:only-of-type {\n",
              "        vertical-align: middle;\n",
              "    }\n",
              "\n",
              "    .dataframe tbody tr th {\n",
              "        vertical-align: top;\n",
              "    }\n",
              "\n",
              "    .dataframe thead th {\n",
              "        text-align: right;\n",
              "    }\n",
              "</style>\n",
              "<table border=\"1\" class=\"dataframe\">\n",
              "  <thead>\n",
              "    <tr style=\"text-align: right;\">\n",
              "      <th></th>\n",
              "      <th>load</th>\n",
              "      <th>load+1</th>\n",
              "      <th>load+2</th>\n",
              "      <th>load+3</th>\n",
              "      <th>load+4</th>\n",
              "      <th>load+5</th>\n",
              "    </tr>\n",
              "  </thead>\n",
              "  <tbody>\n",
              "    <tr>\n",
              "      <th>2014-11-01 00:00:00</th>\n",
              "      <td>0.223112</td>\n",
              "      <td>0.164869</td>\n",
              "      <td>0.140216</td>\n",
              "      <td>0.126656</td>\n",
              "      <td>0.124191</td>\n",
              "      <td>0.135593</td>\n",
              "    </tr>\n",
              "    <tr>\n",
              "      <th>2014-11-01 01:00:00</th>\n",
              "      <td>0.164869</td>\n",
              "      <td>0.140216</td>\n",
              "      <td>0.126656</td>\n",
              "      <td>0.124191</td>\n",
              "      <td>0.135593</td>\n",
              "      <td>0.166718</td>\n",
              "    </tr>\n",
              "    <tr>\n",
              "      <th>2014-11-01 02:00:00</th>\n",
              "      <td>0.140216</td>\n",
              "      <td>0.126656</td>\n",
              "      <td>0.124191</td>\n",
              "      <td>0.135593</td>\n",
              "      <td>0.166718</td>\n",
              "      <td>0.226502</td>\n",
              "    </tr>\n",
              "    <tr>\n",
              "      <th>2014-11-01 03:00:00</th>\n",
              "      <td>0.126656</td>\n",
              "      <td>0.124191</td>\n",
              "      <td>0.135593</td>\n",
              "      <td>0.166718</td>\n",
              "      <td>0.226502</td>\n",
              "      <td>0.305393</td>\n",
              "    </tr>\n",
              "    <tr>\n",
              "      <th>2014-11-01 04:00:00</th>\n",
              "      <td>0.124191</td>\n",
              "      <td>0.135593</td>\n",
              "      <td>0.166718</td>\n",
              "      <td>0.226502</td>\n",
              "      <td>0.305393</td>\n",
              "      <td>0.372881</td>\n",
              "    </tr>\n",
              "    <tr>\n",
              "      <th>...</th>\n",
              "      <td>...</td>\n",
              "      <td>...</td>\n",
              "      <td>...</td>\n",
              "      <td>...</td>\n",
              "      <td>...</td>\n",
              "      <td>...</td>\n",
              "    </tr>\n",
              "    <tr>\n",
              "      <th>2014-11-03 14:00:00</th>\n",
              "      <td>0.430817</td>\n",
              "      <td>0.427427</td>\n",
              "      <td>0.448382</td>\n",
              "      <td>0.502311</td>\n",
              "      <td>0.585824</td>\n",
              "      <td>0.575655</td>\n",
              "    </tr>\n",
              "    <tr>\n",
              "      <th>2014-11-03 15:00:00</th>\n",
              "      <td>0.427427</td>\n",
              "      <td>0.448382</td>\n",
              "      <td>0.502311</td>\n",
              "      <td>0.585824</td>\n",
              "      <td>0.575655</td>\n",
              "      <td>0.539599</td>\n",
              "    </tr>\n",
              "    <tr>\n",
              "      <th>2014-11-03 16:00:00</th>\n",
              "      <td>0.448382</td>\n",
              "      <td>0.502311</td>\n",
              "      <td>0.585824</td>\n",
              "      <td>0.575655</td>\n",
              "      <td>0.539599</td>\n",
              "      <td>0.490601</td>\n",
              "    </tr>\n",
              "    <tr>\n",
              "      <th>2014-11-03 17:00:00</th>\n",
              "      <td>0.502311</td>\n",
              "      <td>0.585824</td>\n",
              "      <td>0.575655</td>\n",
              "      <td>0.539599</td>\n",
              "      <td>0.490601</td>\n",
              "      <td>0.396302</td>\n",
              "    </tr>\n",
              "    <tr>\n",
              "      <th>2014-11-03 18:00:00</th>\n",
              "      <td>0.585824</td>\n",
              "      <td>0.575655</td>\n",
              "      <td>0.539599</td>\n",
              "      <td>0.490601</td>\n",
              "      <td>0.396302</td>\n",
              "      <td>0.302311</td>\n",
              "    </tr>\n",
              "  </tbody>\n",
              "</table>\n",
              "<p>67 rows × 6 columns</p>\n",
              "</div>"
            ],
            "text/plain": [
              "                         load    load+1    load+2    load+3    load+4   \n",
              "2014-11-01 00:00:00  0.223112  0.164869  0.140216  0.126656  0.124191  \\\n",
              "2014-11-01 01:00:00  0.164869  0.140216  0.126656  0.124191  0.135593   \n",
              "2014-11-01 02:00:00  0.140216  0.126656  0.124191  0.135593  0.166718   \n",
              "2014-11-01 03:00:00  0.126656  0.124191  0.135593  0.166718  0.226502   \n",
              "2014-11-01 04:00:00  0.124191  0.135593  0.166718  0.226502  0.305393   \n",
              "...                       ...       ...       ...       ...       ...   \n",
              "2014-11-03 14:00:00  0.430817  0.427427  0.448382  0.502311  0.585824   \n",
              "2014-11-03 15:00:00  0.427427  0.448382  0.502311  0.585824  0.575655   \n",
              "2014-11-03 16:00:00  0.448382  0.502311  0.585824  0.575655  0.539599   \n",
              "2014-11-03 17:00:00  0.502311  0.585824  0.575655  0.539599  0.490601   \n",
              "2014-11-03 18:00:00  0.585824  0.575655  0.539599  0.490601  0.396302   \n",
              "\n",
              "                       load+5  \n",
              "2014-11-01 00:00:00  0.135593  \n",
              "2014-11-01 01:00:00  0.166718  \n",
              "2014-11-01 02:00:00  0.226502  \n",
              "2014-11-01 03:00:00  0.305393  \n",
              "2014-11-01 04:00:00  0.372881  \n",
              "...                       ...  \n",
              "2014-11-03 14:00:00  0.575655  \n",
              "2014-11-03 15:00:00  0.539599  \n",
              "2014-11-03 16:00:00  0.490601  \n",
              "2014-11-03 17:00:00  0.396302  \n",
              "2014-11-03 18:00:00  0.302311  \n",
              "\n",
              "[67 rows x 6 columns]"
            ]
          },
          "execution_count": 74,
          "metadata": {},
          "output_type": "execute_result"
        },
        {
          "name": "stdout",
          "output_type": "stream",
          "text": [
            "time: 31 ms (started: 2023-05-04 13:42:46 +02:00)\n"
          ]
        }
      ],
      "source": [
        "#Copying the test DF:\n",
        "test_shifted = test.copy()\n",
        "#preparing the shifted test data:\n",
        "for t in range(1, horizon):\n",
        "  test_shifted['load+'+str(t)] = test_shifted['load'].shift(-t, freq='H')\n",
        "test_shifted = test_shifted.dropna()\n",
        "test_shifted"
      ]
    },
    {
      "cell_type": "code",
      "execution_count": 75,
      "metadata": {
        "colab": {
          "base_uri": "https://localhost:8080/"
        },
        "id": "mp_9FTMD0MD5",
        "outputId": "332a6d80-f9f8-4b26-f8b7-51ae7d52047c"
      },
      "outputs": [
        {
          "name": "stdout",
          "output_type": "stream",
          "text": [
            "time: 0 ns (started: 2023-05-04 13:42:52 +02:00)\n"
          ]
        }
      ],
      "source": [
        "#Warning update:\n",
        "#----------------\n",
        "#each optimization inside the profile likelihood generates a warning, \n",
        "#we turn off the warnings here to make the output clean in the below cell:\n",
        "import warnings\n",
        "from statsmodels.tools.sm_exceptions import ConvergenceWarning\n",
        "warnings.simplefilter('ignore', ConvergenceWarning)\n",
        "#You can check the source code from here:\n",
        "#https://www.statsmodels.org/0.8.0/_modules/statsmodels/base/model.html"
      ]
    },
    {
      "cell_type": "code",
      "execution_count": 76,
      "metadata": {
        "colab": {
          "base_uri": "https://localhost:8080/"
        },
        "id": "3lLuLOr1ipbm",
        "outputId": "c7ba57e4-a6a4-4120-fc3e-d17b20acd422"
      },
      "outputs": [
        {
          "name": "stdout",
          "output_type": "stream",
          "text": [
            "time: 15 ms (started: 2023-05-04 13:42:56 +02:00)\n"
          ]
        }
      ],
      "source": [
        "# Predictions on test data:\n",
        "training_window = 720 # Here we are using a very small portion of the past,\n",
        "# I think we made like this so that the trining is not too computationaly expensive\n",
        "train_ts = train['load']\n",
        "test_ts = test_shifted\n",
        "#Creating the history\n",
        "history = [x for x in train_ts]\n",
        "#Filtering the training window: Uncomment the below line if you want.\n",
        "history = history[(-training_window):]\n",
        "#Creating predictions to store the model outcomes:\n",
        "predictions = list()\n",
        "#Exogenous variables:\n",
        "history_Temp = train_temp['T']\n",
        "forecast_Temp = test_temp['T']\n",
        "history_Temp = history_Temp[(-training_window):]"
      ]
    },
    {
      "cell_type": "code",
      "execution_count": 77,
      "metadata": {
        "colab": {
          "base_uri": "https://localhost:8080/"
        },
        "id": "pBBpAGGVJhmP",
        "outputId": "4b9b6120-51c1-4daf-a305-138bd3d2ba0f"
      },
      "outputs": [
        {
          "name": "stderr",
          "output_type": "stream",
          "text": [
            "c:\\Users\\rofer\\anaconda3\\envs\\Thesis\\lib\\site-packages\\statsmodels\\tsa\\base\\tsa_model.py:471: ValueWarning: No frequency information was provided, so inferred frequency H will be used.\n",
            "  self._init_dates(dates, freq)\n",
            "c:\\Users\\rofer\\anaconda3\\envs\\Thesis\\lib\\site-packages\\statsmodels\\tsa\\base\\tsa_model.py:471: ValueWarning: No frequency information was provided, so inferred frequency H will be used.\n",
            "  self._init_dates(dates, freq)\n"
          ]
        },
        {
          "ename": "AttributeError",
          "evalue": "'Series' object has no attribute 'append'",
          "output_type": "error",
          "traceback": [
            "\u001b[1;31m---------------------------------------------------------------------------\u001b[0m",
            "\u001b[1;31mAttributeError\u001b[0m                            Traceback (most recent call last)",
            "Cell \u001b[1;32mIn[77], line 18\u001b[0m\n\u001b[0;32m     16\u001b[0m \u001b[39m# adding new temperatures as a forecast:\u001b[39;00m\n\u001b[0;32m     17\u001b[0m   \u001b[39mfor\u001b[39;00m j \u001b[39min\u001b[39;00m \u001b[39mrange\u001b[39m(horizon):\n\u001b[1;32m---> 18\u001b[0m     history_Temp\u001b[39m.\u001b[39;49mappend(forecast_Temp\u001b[39m.\u001b[39miloc[:horizon])\n\u001b[0;32m     20\u001b[0m   \u001b[39m#Dropping the first horizon elements:\u001b[39;00m\n\u001b[0;32m     21\u001b[0m   \u001b[39mfor\u001b[39;00m j \u001b[39min\u001b[39;00m \u001b[39mrange\u001b[39m(horizon):\n",
            "File \u001b[1;32m~\\AppData\\Roaming\\Python\\Python310\\site-packages\\pandas\\core\\generic.py:5989\u001b[0m, in \u001b[0;36mNDFrame.__getattr__\u001b[1;34m(self, name)\u001b[0m\n\u001b[0;32m   5982\u001b[0m \u001b[39mif\u001b[39;00m (\n\u001b[0;32m   5983\u001b[0m     name \u001b[39mnot\u001b[39;00m \u001b[39min\u001b[39;00m \u001b[39mself\u001b[39m\u001b[39m.\u001b[39m_internal_names_set\n\u001b[0;32m   5984\u001b[0m     \u001b[39mand\u001b[39;00m name \u001b[39mnot\u001b[39;00m \u001b[39min\u001b[39;00m \u001b[39mself\u001b[39m\u001b[39m.\u001b[39m_metadata\n\u001b[0;32m   5985\u001b[0m     \u001b[39mand\u001b[39;00m name \u001b[39mnot\u001b[39;00m \u001b[39min\u001b[39;00m \u001b[39mself\u001b[39m\u001b[39m.\u001b[39m_accessors\n\u001b[0;32m   5986\u001b[0m     \u001b[39mand\u001b[39;00m \u001b[39mself\u001b[39m\u001b[39m.\u001b[39m_info_axis\u001b[39m.\u001b[39m_can_hold_identifiers_and_holds_name(name)\n\u001b[0;32m   5987\u001b[0m ):\n\u001b[0;32m   5988\u001b[0m     \u001b[39mreturn\u001b[39;00m \u001b[39mself\u001b[39m[name]\n\u001b[1;32m-> 5989\u001b[0m \u001b[39mreturn\u001b[39;00m \u001b[39mobject\u001b[39;49m\u001b[39m.\u001b[39;49m\u001b[39m__getattribute__\u001b[39;49m(\u001b[39mself\u001b[39;49m, name)\n",
            "\u001b[1;31mAttributeError\u001b[0m: 'Series' object has no attribute 'append'"
          ]
        },
        {
          "name": "stdout",
          "output_type": "stream",
          "text": [
            "time: 44.8 s (started: 2023-05-04 13:44:19 +02:00)\n"
          ]
        }
      ],
      "source": [
        "#Calling model: \n",
        "#Horizon calculation list:\n",
        "for t in range(0,test_ts.shape[0],horizon):\n",
        "  model = SARIMAX(endog=history, exog= history_Temp, order=order, seasonal_order=seasonal_order)\n",
        "  #Model fitting:\n",
        "  model_fit = model.fit()\n",
        "  #Model predictions:\n",
        "  y_p = model_fit.forecast(steps = horizon, exog = forecast_Temp.iloc[:horizon].to_frame()).tolist() # its like model predict in scikit learn\n",
        "  obs = list(test_ts.iloc[t])\n",
        "# moving the training window: here I add the prediction as in real life we would \n",
        "# not know the true value! Here we will also save the predictions.\n",
        "  for j in range(horizon):\n",
        "    predictions.append(y_p[j])\n",
        "    history.append(y_p[j])\n",
        "\n",
        "# adding new temperatures as a forecast:\n",
        "  for j in range(horizon):\n",
        "    history_Temp.append(forecast_Temp.iloc[:horizon])\n",
        "\n",
        "  #Dropping the first horizon elements:\n",
        "  for j in range(horizon):\n",
        "    history.pop(0)\n",
        "  history_Temp.drop(index=history_Temp.index[:horizon])\n",
        "  forecast_Temp.drop(index=forecast_Temp.index[:horizon])\n",
        "  print(test_ts.index[t])\n",
        "  print(t+1, ': predicted =', y_p, 'true value =', obs)"
      ]
    },
    {
      "cell_type": "code",
      "execution_count": 125,
      "metadata": {
        "colab": {
          "base_uri": "https://localhost:8080/"
        },
        "id": "7NvsflkTKuk8",
        "outputId": "cae7b976-9eb7-459f-99db-0ae0fce52b4d"
      },
      "outputs": [
        {
          "name": "stdout",
          "output_type": "stream",
          "text": [
            "<class 'pandas.core.frame.DataFrame'>\n",
            "DatetimeIndex: 72 entries, 2014-11-01 00:00:00 to 2014-11-03 23:00:00\n",
            "Data columns (total 2 columns):\n",
            " #   Column      Non-Null Count  Dtype  \n",
            "---  ------      --------------  -----  \n",
            " 0   prediction  72 non-null     float64\n",
            " 1   actual      72 non-null     float64\n",
            "dtypes: float64(2)\n",
            "memory usage: 1.7 KB\n",
            "time: 22.3 ms (started: 2021-12-20 18:58:41 +00:00)\n"
          ]
        }
      ],
      "source": [
        "# Evaluation of results:\n",
        "# We will combine the predictions with the actual load values in a DF. \n",
        "eval_df = pd.DataFrame(predictions)\n",
        "eval_df.columns = ['prediction']\n",
        "#Updating the indices:\n",
        "eval_df=(eval_df.set_index(test.index)) #\n",
        "#Adding true values:\n",
        "eval_df['actual'] = test['load']\n",
        "#Let's check:\n",
        "eval_df.info()"
      ]
    },
    {
      "cell_type": "code",
      "execution_count": 126,
      "metadata": {
        "colab": {
          "base_uri": "https://localhost:8080/"
        },
        "id": "tR8RH0g49xbU",
        "outputId": "bd1a582a-6265-4a15-ff4b-ee6f32f4400a"
      },
      "outputs": [
        {
          "name": "stdout",
          "output_type": "stream",
          "text": [
            "time: 8.41 ms (started: 2021-12-20 18:58:46 +00:00)\n"
          ]
        }
      ],
      "source": [
        "#Back-transforming:\n",
        "eval_df[['prediction', 'actual']] = scaler_1.inverse_transform(eval_df[['prediction', 'actual']])"
      ]
    },
    {
      "cell_type": "code",
      "execution_count": 127,
      "metadata": {
        "colab": {
          "base_uri": "https://localhost:8080/",
          "height": 422
        },
        "id": "fMvtDN04m4M1",
        "outputId": "5cb7b7fd-ecfa-42bb-a2d6-5c705986b2cb"
      },
      "outputs": [
        {
          "data": {
            "image/png": "[encoded data removed]",
            "text/plain": [
              "<Figure size 864x432 with 1 Axes>"
            ]
          },
          "metadata": {
            "needs_background": "light"
          },
          "output_type": "display_data"
        },
        {
          "name": "stdout",
          "output_type": "stream",
          "text": [
            "time: 298 ms (started: 2021-12-20 18:58:48 +00:00)\n"
          ]
        }
      ],
      "source": [
        "#Plotting predictions: \n",
        "plt.figure();\n",
        "plt.plot(eval_df['actual'], 'k.-');\n",
        "plt.plot(eval_df['prediction'], 'x', alpha=0.70);\n",
        "#plt.plot(np.arange(0, 69),eval_df['prediction'].iloc[69:138], 'o', alpha=0.70);\n",
        "#plt.plot(np.arange(0, 69),eval_df['prediction'].iloc[-69:], '+', alpha=0.70);\n",
        "plt.legend(['Actual',\n",
        "            ('Predicted with ' + str (horizon) + ' hr horizon')])\n",
        "plt.ylabel('Load');\n",
        "plt.xlabel('Time Index');\n",
        "plt.title('SARIMAX');\n"
      ]
    },
    {
      "cell_type": "code",
      "execution_count": 128,
      "metadata": {
        "colab": {
          "base_uri": "https://localhost:8080/",
          "height": 428
        },
        "id": "LzODQKuHMENx",
        "outputId": "dec03de1-8308-415f-b8b9-3a56d04d2bba"
      },
      "outputs": [
        {
          "data": {
            "text/plain": [
              "[<matplotlib.lines.Line2D at 0x7f5c04b49850>]"
            ]
          },
          "execution_count": 128,
          "metadata": {},
          "output_type": "execute_result"
        },
        {
          "data": {
            "image/png": "[encoded data removed]",
            "text/plain": [
              "<Figure size 864x432 with 1 Axes>"
            ]
          },
          "metadata": {
            "needs_background": "light"
          },
          "output_type": "display_data"
        },
        {
          "name": "stdout",
          "output_type": "stream",
          "text": [
            "time: 214 ms (started: 2021-12-20 18:58:53 +00:00)\n"
          ]
        }
      ],
      "source": [
        "#Visual comparisons of the predictions:\n",
        "#---------------------------------------\n",
        "#Visualization of the accuracy\n",
        "a = plt.axes(aspect='equal')\n",
        "plt.scatter(eval_df['actual'], eval_df['prediction'],marker='*',alpha=0.80)\n",
        "#plt.scatter(eval_df['actual'].iloc[0:69], eval_df['prediction'].iloc[69:138],marker='o',alpha=0.60)\n",
        "#plt.scatter(eval_df['actual'].iloc[0:69], eval_df['prediction'].iloc[138:207],marker='+',alpha=0.50)\n",
        "plt.xlabel('True Load Values')\n",
        "plt.ylabel('Predicted Load Values')\n",
        "lims = [2000, 4500]\n",
        "plt.xlim(lims), plt.ylim(lims)\n",
        "plt.plot(lims, lims)"
      ]
    },
    {
      "cell_type": "code",
      "execution_count": 129,
      "metadata": {
        "colab": {
          "base_uri": "https://localhost:8080/",
          "height": 424
        },
        "id": "uqiNQiPMk9oL",
        "outputId": "94532108-8c98-44f9-87e1-abb71dc3adb0"
      },
      "outputs": [
        {
          "data": {
            "text/plain": [
              "Text(0, 0.5, 'Count')"
            ]
          },
          "execution_count": 129,
          "metadata": {},
          "output_type": "execute_result"
        },
        {
          "data": {
            "image/png": "[encoded data removed]",
            "text/plain": [
              "<Figure size 864x432 with 1 Axes>"
            ]
          },
          "metadata": {
            "needs_background": "light"
          },
          "output_type": "display_data"
        },
        {
          "name": "stdout",
          "output_type": "stream",
          "text": [
            "time: 249 ms (started: 2021-12-20 18:58:57 +00:00)\n"
          ]
        }
      ],
      "source": [
        "# Calculating the error variations:\n",
        "error_nn1 = (eval_df['prediction'] - eval_df['actual'])/eval_df['actual']*100\n",
        "\n",
        "plt.hist(error_nn1, bins=30,alpha=0.9)\n",
        "plt.xlabel('Predicted Relative % Error')\n",
        "plt.ylabel('Count')"
      ]
    },
    {
      "cell_type": "code",
      "execution_count": 130,
      "metadata": {
        "colab": {
          "base_uri": "https://localhost:8080/"
        },
        "id": "ybGg5AFQ5mOD",
        "outputId": "c479ec1b-9fbc-4a71-a2f9-f494d0da4cf4"
      },
      "outputs": [
        {
          "name": "stdout",
          "output_type": "stream",
          "text": [
            "R^2 score is  0.86\n",
            "time: 4.08 ms (started: 2021-12-20 18:59:01 +00:00)\n"
          ]
        }
      ],
      "source": [
        "#Calculating R^2: r2_score(y_true, y_pred)\n",
        "Score_sarimax = r2_score(eval_df['actual'],eval_df['prediction'])\n",
        "print('R^2 score is  %3.2f' %np.mean(Score_sarimax))"
      ]
    },
    {
      "cell_type": "markdown",
      "metadata": {
        "id": "3znw1epxG-CZ"
      },
      "source": [
        "# ML Algorithms for Forecasting: SVM"
      ]
    },
    {
      "cell_type": "markdown",
      "metadata": {
        "id": "xaApZSY0Awlt"
      },
      "source": [
        "## Organizing the Feature Matrix"
      ]
    },
    {
      "cell_type": "code",
      "execution_count": null,
      "metadata": {
        "id": "lOZblMjrAm3Z"
      },
      "outputs": [],
      "source": [
        "#Checking Data:\n",
        "data.sample(3)"
      ]
    },
    {
      "cell_type": "code",
      "execution_count": null,
      "metadata": {
        "id": "mAqLnJ4FCDIt"
      },
      "outputs": [],
      "source": [
        "#Adding statistics features in dataframes:\n",
        "#------------------------------------------------\n",
        "#Let's use only the load data;\n",
        "load_data = data[['load']]\n",
        "#Defining the window width:\n",
        "width = 4\n",
        "#Calling Rolling:\n",
        "window = load_data.rolling(window=width)\n",
        "#Let's save as a new DF. We will add min, mean and max to the load column:\n",
        "new_dataframe = pd.concat([window.median(), window.std(),data['T'], data['load']], axis=1)\n",
        "new_dataframe.columns = ['median', 'std','T', 'load']\n",
        "new_dataframe = new_dataframe.dropna() \n",
        "new_dataframe.info()"
      ]
    },
    {
      "cell_type": "code",
      "execution_count": null,
      "metadata": {
        "id": "231KKWkSUUqx"
      },
      "outputs": [],
      "source": [
        "new_dataframe.head(1)"
      ]
    },
    {
      "cell_type": "markdown",
      "metadata": {
        "id": "hqTUNuPrGbRU"
      },
      "source": [
        "## Building the X Matrix and Labels\n",
        "\n",
        "Here we will add the temporal data with sliding intervals in time. Lets first look with an illustration:"
      ]
    },
    {
      "cell_type": "code",
      "execution_count": null,
      "metadata": {
        "id": "Rd1KueOfGa52"
      },
      "outputs": [],
      "source": [
        "#finding the indices as integers for time substraction below:\n",
        "start = np.where(new_dataframe.index == '2014-03-01 00:00:00')[0][0]\n",
        "middle = np.where(new_dataframe.index == '2014-03-01 12:00:00')[0][0]\n",
        "end = np.where(new_dataframe.index == '2014-03-02 00:00:00')[0][0]\n",
        "#sliding window width:\n",
        "window = 4\n",
        "#Plotting a sliding interval sample:\n",
        "fig, ax = plt.subplots(nrows=4,sharex=True);\n",
        "for i in range(4): \n",
        "    full = new_dataframe.iloc[start:end]['load']\n",
        "    train = new_dataframe.iloc[middle - i - window:middle - i ]['load']\n",
        "    predict = new_dataframe.iloc[middle - i:middle - i + 1]['load']\n",
        "\n",
        "    ax[3-i].plot((full + 2*i),c='grey', alpha=0.5);\n",
        "    ax[3-i].plot((train + 2*i),c=colors['lightskyblue'], markersize=4,marker='o')\n",
        "    ax[3-i].plot((predict + 2*i),c=colors['midnightblue'], markersize=8,marker='o', linestyle='')\n",
        "\n",
        "ax[0].get_yaxis().set_ticks([]);\n",
        "ax[0].legend(['full time series','$\\mathbf{X}$','$y$'],bbox_to_anchor=(1, 1));\n"
      ]
    },
    {
      "cell_type": "markdown",
      "metadata": {
        "id": "yfQBOa4CPJq_"
      },
      "source": [
        "Lets follow the same logic and create our feature matrix A in this way."
      ]
    },
    {
      "cell_type": "code",
      "execution_count": null,
      "metadata": {
        "id": "R4_yJO5jQEn6"
      },
      "outputs": [],
      "source": [
        "#finding the indices as integers for time substraction below:\n",
        "start = np.where(new_dataframe.index == '2012-09-01 00:00:00')[0][0]\n",
        "end = np.where(new_dataframe.index == '2014-11-04 00:00:00')[0][0]\n",
        "#setting windows width:\n",
        "window = 4\n",
        "#emply datalist\n",
        "dataX = []\n",
        "dataY = []\n",
        "column_names = []\n",
        "for i in range(start,end-window):\n",
        "\n",
        "    # Slice a window of features\n",
        "    dataX.append((new_dataframe.iloc[i:i+window].to_numpy()).ravel())\n",
        "    dataY.append(new_dataframe['load'].iloc[i+window] )\n",
        "\n",
        "for j in range (1,window+1):\n",
        "      column_names.append(['median_t_'+str(j),'std_t_'+str(j),'T_t_'+str(j),'load_t_'+str(j)])\n",
        "\n",
        "column_names = itertools.chain(*column_names)\n",
        "dataX = pd.DataFrame(np.vstack(dataX),index=new_dataframe.iloc[start+window:end].index)\n",
        "dataX.columns = column_names\n",
        "dataY =pd.Series(dataY,index=new_dataframe.iloc[start+window:end].index)\n",
        "dataY.column = ['true_load']"
      ]
    },
    {
      "cell_type": "code",
      "execution_count": null,
      "metadata": {
        "id": "5D0XvtAriCm7"
      },
      "outputs": [],
      "source": [
        "#Original DF:\n",
        "new_dataframe.loc['2014-09-01 00:00:00':'2014-09-04 00:00:00'].head(6)"
      ]
    },
    {
      "cell_type": "code",
      "execution_count": null,
      "metadata": {
        "id": "-29jygVriUO-"
      },
      "outputs": [],
      "source": [
        "dataX.head(2)"
      ]
    },
    {
      "cell_type": "code",
      "execution_count": null,
      "metadata": {
        "id": "jSfEBmI-jJz3"
      },
      "outputs": [],
      "source": [
        "dataY.head(2)"
      ]
    },
    {
      "cell_type": "code",
      "execution_count": null,
      "metadata": {
        "id": "v2ql4QbypFl-"
      },
      "outputs": [],
      "source": [
        "#Correlation Matrix\n",
        "correlationMatrix = pd.DataFrame(dataX).corr() \n",
        "\n",
        "f = plt.figure(figsize=(12, 6))\n",
        "plt.matshow(correlationMatrix, fignum=f.number)\n",
        "plt.xticks(range(dataX.shape[1]), dataX.columns, fontsize=14, rotation=75)\n",
        "plt.yticks(range(dataX.shape[1]), dataX.columns, fontsize=14)\n",
        "cb = plt.colorbar()\n",
        "cb.ax.tick_params(labelsize=14)\n",
        "plt.show()"
      ]
    },
    {
      "cell_type": "code",
      "execution_count": null,
      "metadata": {
        "id": "dyMZoulHRwOB"
      },
      "outputs": [],
      "source": [
        "#Rescaling the data\n",
        "featuresToScale = dataX.columns\n",
        "sX = pp.StandardScaler(copy=True)\n",
        "dataX.loc[:,featuresToScale] = sX.fit_transform(dataX[featuresToScale])\n",
        "#Looking into the statistics again:\n",
        "dataX.describe()"
      ]
    },
    {
      "cell_type": "code",
      "execution_count": null,
      "metadata": {
        "id": "5UEO_T9VQgV0"
      },
      "outputs": [],
      "source": [
        "# Train-Test Split:\n",
        "# We will split the data as training and test. No need for validation here. \n",
        "train_start_dt = '2012-09-01'\n",
        "test_start_dt = '2014-11-01'\n",
        "test_end_dt = '2014-11-04'\n",
        "#Let's use the same notation: X_train, X_test, y_train, y_test\n",
        "X_train = dataX.copy()[(dataX.index >= train_start_dt)& (dataX.index < test_start_dt)]\n",
        "y_train = dataY.copy()[(dataY.index >= train_start_dt)& (dataY.index < test_start_dt)]\n",
        "\n",
        "X_test =  dataX.copy()[(dataX.index >= test_start_dt) & (dataX.index < test_end_dt)]\n",
        "y_test =  dataY.copy()[(dataY.index >= test_start_dt) & (dataY.index < test_end_dt)]\n",
        "\n",
        "\n",
        "print('Train data shape: ', X_train.shape, y_train.shape)\n",
        "print('Test data shape: ', X_test.shape, y_test.shape)"
      ]
    },
    {
      "cell_type": "markdown",
      "metadata": {
        "id": "151sdEYPESfg"
      },
      "source": [
        "## Model Training and Predictions\n",
        "\n",
        "As we have seen in the lecture, there are 3 important hyperparameters to decide: C, epsilon and kernel. We also need to feed the tol value as we are solving a convex optimization problem."
      ]
    },
    {
      "cell_type": "code",
      "execution_count": null,
      "metadata": {
        "id": "iSHteOJ_SVth"
      },
      "outputs": [],
      "source": [
        "# Hyperparameters:\n",
        "# https://scikit-learn.org/stable/modules/generated/sklearn.svm.SVR.html#\n",
        "\n",
        "#__________________________________________________________________________________________\n",
        "#___Notes__________________________________________________________________________________\n",
        "#Radial Basis Function (RBF) kernel, two parameters must be considered: C and gamma. \n",
        "\n",
        "#The parameter C, common to all SVM kernels, trades off misclassification of training examples \n",
        "#against simplicity of the decision surface. \n",
        "#A low C makes the decision surface smooth, while a high C aims at classifying all training examples correctly. \n",
        "#The strength of the regularization is inversely proportional to C. Large C => little regularization; Low C => higher regularization\n",
        "\n",
        "#gamma defines how much influence a single training example has. The larger gamma is, the closer other examples must be to be affected.\n",
        "#__________________________________________________________________________________________\n",
        "\n",
        "kernel='linear' \n",
        "gamma='scale' #Kernel coefficient for ‘rbf’, ‘poly’ and ‘sigmoid’. When scaled, uses 1 / (n_features * X.var()) as value of gamma.\n",
        "C=1.0\n",
        "epsilon=0.1    # Default\n",
        "shrinking=True # Whether to use the shrinking heuristic. \n",
        "tol=0.00001\n",
        "\n",
        "#Setting the model:\n",
        "svr = SVR(kernel= kernel, gamma=gamma, tol=tol, C=C, epsilon=epsilon, shrinking=shrinking)\n",
        " "
      ]
    },
    {
      "cell_type": "code",
      "execution_count": null,
      "metadata": {
        "id": "Vxwh0-ECrCuj"
      },
      "outputs": [],
      "source": [
        "# Model Training:\n",
        "model = svr\n",
        "#Fitting the model according to given data:\n",
        "model.fit(X_train, y_train)"
      ]
    },
    {
      "cell_type": "code",
      "execution_count": null,
      "metadata": {
        "id": "2H8-Dsm5rThs"
      },
      "outputs": [],
      "source": [
        "#Model Predictions:\n",
        "#------------------\n",
        "scoreTraining = model.score(X_train, y_train)\n",
        "print('-----------------------------------')\n",
        "print('SVM Regression Training R^2 Score: ', scoreTraining)\n",
        "print('-----------------------------------')\n",
        "scoreValidation = model.score(X_test, y_test)\n",
        "print('-----------------------------------')\n",
        "print('SVM Regression Validation R^2 Score: ', scoreValidation)\n",
        "print('-----------------------------------')"
      ]
    },
    {
      "cell_type": "code",
      "execution_count": null,
      "metadata": {
        "id": "nurBQX3UsAvV"
      },
      "outputs": [],
      "source": [
        "#Visual Comparisons\n",
        "#------------------\n",
        "# Let's get the predictions first:\n",
        "y_predict = pd.Series(svr.predict(X_test),index=y_test.index)"
      ]
    },
    {
      "cell_type": "code",
      "execution_count": null,
      "metadata": {
        "id": "Yn7i3C8zvM1o"
      },
      "outputs": [],
      "source": [
        "#Plotting the Figure:\n",
        "plt.figure();\n",
        "plt.plot(y_test, 'k.-');\n",
        "plt.plot(y_predict, 'x', alpha=0.70);\n",
        "\n",
        "plt.legend(['Actual',\n",
        "            'Predicted 1 hr ahead for 72 hours'\n",
        "            ]);\n",
        "plt.ylabel('Load');\n",
        "plt.xlabel('Time Index');\n",
        "plt.title('SVM');"
      ]
    },
    {
      "cell_type": "markdown",
      "metadata": {
        "id": "-4LBpDaTbQ9p"
      },
      "source": [
        "# ML Algorithms for Forecasting: SVM - II "
      ]
    },
    {
      "cell_type": "markdown",
      "metadata": {
        "id": "IJHDfXY5bQ9s"
      },
      "source": [
        "## Organizing the Feature Matrix"
      ]
    },
    {
      "cell_type": "code",
      "execution_count": null,
      "metadata": {
        "id": "zACnSYjIbQ9t"
      },
      "outputs": [],
      "source": [
        "#Checking Data:\n",
        "data.sample(3)"
      ]
    },
    {
      "cell_type": "code",
      "execution_count": null,
      "metadata": {
        "id": "JKqiDTYQbQ9t"
      },
      "outputs": [],
      "source": [
        "#Adding statistics features in dataframes:\n",
        "#------------------------------------------------\n",
        "#Lets use only the load data;\n",
        "load_data = data[['load']]\n",
        "#Defining the window width:\n",
        "width = 24\n",
        "#Calling Rolling:\n",
        "window = load_data.rolling(window=width)\n",
        "#Lets save as a new DF. We will add min, mean and max to the load column:\n",
        "new_dataframe = pd.concat([window.median(), window.std(),data['T'], data['load']], axis=1)\n",
        "new_dataframe.columns = ['median', 'std','T', 'load']\n",
        "new_dataframe = new_dataframe.dropna() \n",
        "new_dataframe.info()"
      ]
    },
    {
      "cell_type": "code",
      "execution_count": null,
      "metadata": {
        "id": "QduZ6R3mbQ9u"
      },
      "outputs": [],
      "source": [
        "new_dataframe.head(1)"
      ]
    },
    {
      "cell_type": "markdown",
      "metadata": {
        "id": "P4R7FqJVbQ9v"
      },
      "source": [
        "## Building the X Matrix and Labels\n",
        "\n",
        "Here we will add the temporal data with sliding intervals in time. Lets first look with an illustration:"
      ]
    },
    {
      "cell_type": "code",
      "execution_count": null,
      "metadata": {
        "id": "X7B_ORiKbQ9v"
      },
      "outputs": [],
      "source": [
        "#finding the indices as integers for time substraction below:\n",
        "start = np.where(new_dataframe.index == '2014-03-01 00:00:00')[0][0]\n",
        "middle = np.where(new_dataframe.index == '2014-03-01 12:00:00')[0][0]\n",
        "end = np.where(new_dataframe.index == '2014-03-02 00:00:00')[0][0]\n",
        "#sliding window width:\n",
        "window = 4\n",
        "#Plotting a sliding interval sample:\n",
        "fig, ax = plt.subplots(nrows=4,sharex=True);\n",
        "for i in range(4): \n",
        "    full = new_dataframe.iloc[start:end]['load']\n",
        "    train = new_dataframe.iloc[middle - i - window:middle - i ]['load']\n",
        "    predict = new_dataframe.iloc[middle - i:middle - i + 1]['load']\n",
        "\n",
        "    ax[3-i].plot((full + 2*i),c='grey', alpha=0.5);\n",
        "    ax[3-i].plot((train + 2*i),c=colors['lightskyblue'], markersize=4,marker='o')\n",
        "    ax[3-i].plot((predict + 2*i),c=colors['midnightblue'], markersize=8,marker='o', linestyle='')\n",
        "\n",
        "ax[0].get_yaxis().set_ticks([]);\n",
        "ax[0].legend(['full time series','$\\mathbf{X}$','$y$'],bbox_to_anchor=(1, 1));\n"
      ]
    },
    {
      "cell_type": "markdown",
      "metadata": {
        "id": "ltmTKmn6bQ9w"
      },
      "source": [
        "Lets follow the same logic and create our feature matrix A in this way."
      ]
    },
    {
      "cell_type": "code",
      "execution_count": null,
      "metadata": {
        "id": "pApJGypobQ9w"
      },
      "outputs": [],
      "source": [
        "#finding the indices as integers for time substraction below:\n",
        "start = np.where(new_dataframe.index == '2012-09-01 00:00:00')[0][0]\n",
        "end = np.where(new_dataframe.index == '2014-11-04 00:00:00')[0][0]\n",
        "#setting windows width:\n",
        "window = 48\n",
        "#emply datalist\n",
        "dataX = []\n",
        "dataY = []\n",
        "column_names = []\n",
        "for i in range(start,end-window):\n",
        "\n",
        "    # Slice a window of features\n",
        "    dataX.append((new_dataframe.iloc[i:i+window].to_numpy()).ravel())\n",
        "    dataY.append(new_dataframe['load'].iloc[i+window] )\n",
        "\n",
        "for j in range (1,window+1):\n",
        "      column_names.append(['median_t_'+str(j),'std_t_'+str(j),'T_t_'+str(j),'load_t_'+str(j)])\n",
        "\n",
        "column_names = itertools.chain(*column_names)\n",
        "dataX = pd.DataFrame(np.vstack(dataX),index=new_dataframe.iloc[start+window:end].index)\n",
        "dataX.columns = column_names\n",
        "dataY =pd.Series(dataY,index=new_dataframe.iloc[start+window:end].index)\n",
        "dataY.column = ['true_load']"
      ]
    },
    {
      "cell_type": "code",
      "execution_count": null,
      "metadata": {
        "id": "XzAdFLusbQ9x"
      },
      "outputs": [],
      "source": [
        "#Original DF:\n",
        "new_dataframe.loc['2012-09-01 00:00:00':'2012-09-04 00:00:00'].head(6)"
      ]
    },
    {
      "cell_type": "code",
      "execution_count": null,
      "metadata": {
        "id": "AoUwJ2lGbQ9y"
      },
      "outputs": [],
      "source": [
        "dataX.head(2)"
      ]
    },
    {
      "cell_type": "code",
      "execution_count": null,
      "metadata": {
        "id": "7VQS2OPVbQ9y"
      },
      "outputs": [],
      "source": [
        "dataY.head(2)"
      ]
    },
    {
      "cell_type": "code",
      "execution_count": null,
      "metadata": {
        "id": "Az-i2BxqbQ9z"
      },
      "outputs": [],
      "source": [
        "#Correlation Matrix\n",
        "#correlationMatrix = pd.DataFrame(dataX).corr() \n",
        "\n",
        "#f = plt.figure(figsize=(12, 6))\n",
        "#plt.matshow(correlationMatrix, fignum=f.number)\n",
        "#plt.xticks(range(dataX.shape[1]), dataX.columns, fontsize=14, rotation=75)\n",
        "#plt.yticks(range(dataX.shape[1]), dataX.columns, fontsize=14)\n",
        "#cb = plt.colorbar()\n",
        "#cb.ax.tick_params(labelsize=14)\n",
        "#plt.show()"
      ]
    },
    {
      "cell_type": "code",
      "execution_count": null,
      "metadata": {
        "id": "IKTdDTqKbQ90"
      },
      "outputs": [],
      "source": [
        "#Rescaling the data\n",
        "featuresToScale = dataX.columns\n",
        "sX = pp.StandardScaler(copy=True)\n",
        "dataX.loc[:,featuresToScale] = sX.fit_transform(dataX[featuresToScale])\n",
        "#Looking into the statistics again:\n",
        "dataX.describe()"
      ]
    },
    {
      "cell_type": "code",
      "execution_count": null,
      "metadata": {
        "id": "8g68z9w3bQ90"
      },
      "outputs": [],
      "source": [
        "# Train-Test Split:\n",
        "# We will split the data as training and test. No need for validation here. \n",
        "train_start_dt = '2014-10-01'\n",
        "test_start_dt = '2014-11-01'\n",
        "test_end_dt = '2014-11-04'\n",
        "#Lets use the same notation: X_train, X_test, y_train, y_test\n",
        "X_train = dataX.copy()[(dataX.index >= train_start_dt)& (dataX.index < test_start_dt)]\n",
        "y_train = dataY.copy()[(dataY.index >= train_start_dt)& (dataY.index < test_start_dt)]\n",
        "\n",
        "X_test =  dataX.copy()[(dataX.index >= test_start_dt) & (dataX.index < test_end_dt)]\n",
        "y_test =  dataY.copy()[(dataY.index >= test_start_dt) & (dataY.index < test_end_dt)]\n",
        "\n",
        "\n",
        "print('Train data shape: ', X_train.shape, y_train.shape)\n",
        "print('Test data shape: ', X_test.shape, y_test.shape)"
      ]
    },
    {
      "cell_type": "markdown",
      "metadata": {
        "id": "FH6n5qaObQ91"
      },
      "source": [
        "## Model Training and Predictions\n",
        "\n",
        "As we have seen in the lecture, there are 3 important hyperparameters to decide: C, epsilon and kernel. We also need to feed the tol value as we are solving a convex optimization problem."
      ]
    },
    {
      "cell_type": "code",
      "execution_count": null,
      "metadata": {
        "id": "Acg8X_rCbQ91"
      },
      "outputs": [],
      "source": [
        "# Hyperparameters:\n",
        "# https://scikit-learn.org/stable/modules/generated/sklearn.svm.SVR.html#\n",
        "\n",
        "#__________________________________________________________________________________________\n",
        "#___Notes__________________________________________________________________________________\n",
        "#Radial Basis Function (RBF) kernel, two parameters must be considered: C and gamma. \n",
        "\n",
        "#The parameter C, common to all SVM kernels, trades off misclassification of training examples \n",
        "#against simplicity of the decision surface. \n",
        "#A low C makes the decision surface smooth, while a high C aims at classifying all training examples correctly. \n",
        "#The strength of the regularization is inversely proportional to C. Large C => little regularization; Low C => higher regularization\n",
        "\n",
        "#gamma defines how much influence a single training example has. The larger gamma is, the closer other examples must be to be affected.\n",
        "#__________________________________________________________________________________________\n",
        "\n",
        "kernel='linear' \n",
        "gamma='scale' #Kernel coefficient for ‘rbf’, ‘poly’ and ‘sigmoid’. When scaled, uses 1 / (n_features * X.var()) as value of gamma.\n",
        "C=1.0\n",
        "epsilon=0.1    # Default\n",
        "shrinking=True # Whether to use the shrinking heuristic. \n",
        "tol=0.00001\n",
        "\n",
        "#Setting the model:\n",
        "svr = SVR(kernel= kernel, gamma=gamma, tol=tol, C=C, epsilon=epsilon, shrinking=shrinking)\n",
        " "
      ]
    },
    {
      "cell_type": "code",
      "execution_count": null,
      "metadata": {
        "id": "4yICQg8ybQ91"
      },
      "outputs": [],
      "source": [
        "# Model Training:\n",
        "model = svr\n",
        "#Fitting the model according to given data:\n",
        "model.fit(X_train, y_train)"
      ]
    },
    {
      "cell_type": "code",
      "execution_count": null,
      "metadata": {
        "id": "oRKDp1uobQ91"
      },
      "outputs": [],
      "source": [
        "#Model Predictions:\n",
        "#------------------\n",
        "#scoreTraining = model.score(X_train, y_train)\n",
        "#print('-----------------------------------')\n",
        "#print('SVM Regression Training R^2 Score: ', scoreTraining)\n",
        "#print('-----------------------------------')\n",
        "scoreValidation = model.score(X_test, y_test)\n",
        "print('-----------------------------------')\n",
        "print('SVM Regression Validation R^2 Score: ', scoreValidation)\n",
        "print('-----------------------------------')"
      ]
    },
    {
      "cell_type": "code",
      "execution_count": null,
      "metadata": {
        "id": "nmg_ORSpbQ91"
      },
      "outputs": [],
      "source": [
        "#Visual Comparisons\n",
        "#------------------\n",
        "# Lets get the predictions first:\n",
        "y_predict = pd.Series(svr.predict(X_test),index=y_test.index)"
      ]
    },
    {
      "cell_type": "code",
      "execution_count": null,
      "metadata": {
        "id": "JWcZAmglbQ91"
      },
      "outputs": [],
      "source": [
        "#Plotting the Figure:\n",
        "plt.figure();\n",
        "plt.plot(y_test, 'k.-');\n",
        "plt.plot(y_predict, 'x', alpha=0.70);\n",
        "\n",
        "plt.legend(['Actual',\n",
        "            'Predicted 1 hr ahead'\n",
        "            ]);\n",
        "plt.ylabel('Load');\n",
        "plt.xlabel('Time Index');\n",
        "plt.title('SVM');"
      ]
    },
    {
      "cell_type": "markdown",
      "metadata": {
        "id": "gkszZC5_7zRW"
      },
      "source": [
        "### Forecasting further in time...\n",
        "\n",
        "Lets use the SVM to predict further horizons by just using the training wisdom. Here we will follow a similar anology. We need to update the passed information about the past as we progress. Here, it is a bit more difficult as we need to update the created features as well. Lets see how it can be implemented."
      ]
    },
    {
      "cell_type": "code",
      "execution_count": null,
      "metadata": {
        "id": "FVxHoPDCLlQu"
      },
      "outputs": [],
      "source": [
        "#Checking Data:\n",
        "data.sample(3)"
      ]
    },
    {
      "cell_type": "code",
      "execution_count": null,
      "metadata": {
        "id": "k5oV65n1LlQw"
      },
      "outputs": [],
      "source": [
        "#Adding statistics features in dataframes:\n",
        "#------------------------------------------------\n",
        "#Lets use only the load data;\n",
        "load_data = data[['load']]\n",
        "#Defining the window width:\n",
        "width = 24\n",
        "#Calling Rolling:\n",
        "window = load_data.rolling(window=width)\n",
        "#Lets save as a new DF. We will add min, mean and max to the load column:\n",
        "new_dataframe = pd.concat([window.median(), window.std(),data['T'], data['load']], axis=1)\n",
        "new_dataframe.columns = ['median', 'std','T', 'load']\n",
        "new_dataframe = new_dataframe.dropna() \n",
        "new_dataframe.info()"
      ]
    },
    {
      "cell_type": "code",
      "execution_count": null,
      "metadata": {
        "id": "sCVbE3QlLlQx"
      },
      "outputs": [],
      "source": [
        "new_dataframe.head(1)"
      ]
    },
    {
      "cell_type": "code",
      "execution_count": null,
      "metadata": {
        "id": "ZZfbMS8KLlQx"
      },
      "outputs": [],
      "source": [
        "#finding the indices as integers for time substraction below:\n",
        "start = np.where(new_dataframe.index == '2012-09-01 00:00:00')[0][0]\n",
        "end = np.where(new_dataframe.index == '2014-12-31 00:00:00')[0][0]\n",
        "#setting windows width:\n",
        "window = 48\n",
        "#emply datalist\n",
        "dataX = []\n",
        "dataY = []\n",
        "column_names = []\n",
        "for i in range(start,end-window):\n",
        "\n",
        "    # Slice a window of features\n",
        "    dataX.append((new_dataframe.iloc[i:i+window].to_numpy()).ravel())\n",
        "    dataY.append(new_dataframe['load'].iloc[i+window] )\n",
        "\n",
        "for j in range (1,window+1):\n",
        "      column_names.append(['median_t_'+str(j),'std_t_'+str(j),'T_t_'+str(j),'load_t_'+str(j)])\n",
        "\n",
        "column_names = itertools.chain(*column_names)\n",
        "dataX = pd.DataFrame(np.vstack(dataX),index=new_dataframe.iloc[start+window:end].index)\n",
        "dataX.columns = column_names\n",
        "dataY =pd.Series(dataY,index=new_dataframe.iloc[start+window:end].index)\n",
        "dataY.column = ['true_load']"
      ]
    },
    {
      "cell_type": "code",
      "execution_count": null,
      "metadata": {
        "id": "ONMxRdV_LlQx"
      },
      "outputs": [],
      "source": [
        "#Original DF:\n",
        "new_dataframe.loc['2012-09-01 00:00:00':'2012-09-04 00:00:00'].head(6)"
      ]
    },
    {
      "cell_type": "code",
      "execution_count": null,
      "metadata": {
        "id": "KPJaDYEjLlQy"
      },
      "outputs": [],
      "source": [
        "dataX.head(2)"
      ]
    },
    {
      "cell_type": "code",
      "execution_count": null,
      "metadata": {
        "id": "BG9oqMvpLlQz"
      },
      "outputs": [],
      "source": [
        "dataY.head(2)"
      ]
    },
    {
      "cell_type": "code",
      "execution_count": null,
      "metadata": {
        "id": "0W6M7BAULlQz"
      },
      "outputs": [],
      "source": [
        "#Rescaling the data\n",
        "featuresToScale = dataX.columns\n",
        "sX = pp.StandardScaler(copy=True)\n",
        "dataX.loc[:,featuresToScale] = sX.fit_transform(dataX[featuresToScale])\n",
        "#Looking into the statistics again:\n",
        "dataX.describe()"
      ]
    },
    {
      "cell_type": "code",
      "execution_count": null,
      "metadata": {
        "id": "UC-RR1QeMrZs"
      },
      "outputs": [],
      "source": [
        "#Temperature for weather forecasting (later used in multistep forecasting):\n",
        "temp_test = dataX['T_t_1']\n",
        "temp_test"
      ]
    },
    {
      "cell_type": "code",
      "execution_count": null,
      "metadata": {
        "id": "XA1VYQg9LlQ1"
      },
      "outputs": [],
      "source": [
        "# Train-Test Split:\n",
        "# We will split the data as training and test. No need for validation here. \n",
        "train_start_dt = '2014-10-01'\n",
        "test_start_dt = '2014-11-01'\n",
        "test_end_dt = '2014-11-04'\n",
        "#Lets use the same notation: X_train, X_test, y_train, y_test\n",
        "X_train = dataX.copy()[(dataX.index >= train_start_dt)& (dataX.index < test_start_dt)]\n",
        "y_train = dataY.copy()[(dataY.index >= train_start_dt)& (dataY.index < test_start_dt)]\n",
        "\n",
        "X_test =  dataX.copy()[(dataX.index >= test_start_dt) & (dataX.index < test_end_dt)]\n",
        "y_test =  dataY.copy()[(dataY.index >= test_start_dt) & (dataY.index < test_end_dt)]\n",
        "\n",
        "\n",
        "print('Train data shape: ', X_train.shape, y_train.shape)\n",
        "print('Test data shape: ', X_test.shape, y_test.shape)"
      ]
    },
    {
      "cell_type": "code",
      "execution_count": null,
      "metadata": {
        "id": "ufm-Re7y8ft_"
      },
      "outputs": [],
      "source": [
        "# First element passed to SVM:\n",
        "X_last = X_test.iloc[0:1]"
      ]
    },
    {
      "cell_type": "code",
      "execution_count": null,
      "metadata": {
        "id": "vdslZc40FcPl"
      },
      "outputs": [],
      "source": [
        "X_last"
      ]
    },
    {
      "cell_type": "code",
      "execution_count": null,
      "metadata": {
        "id": "XJb_EodgBXbf"
      },
      "outputs": [],
      "source": [
        "# Creating a list of last loads:\n",
        "last_loads = list ()\n",
        "s_window = 24\n",
        "for i in range (1,s_window+1):\n",
        "  column = 'load_t_'+ str (i)\n",
        "  last_loads.append(X_last[column][0])\n",
        "last_loads = np.array(last_loads)\n",
        "last_loads\n"
      ]
    },
    {
      "cell_type": "code",
      "execution_count": null,
      "metadata": {
        "id": "UWC5-UrkA4O8"
      },
      "outputs": [],
      "source": [
        "#Creating series for predictions:\n",
        "y_predicted =pd.Series(index=y_test.index)"
      ]
    },
    {
      "cell_type": "code",
      "execution_count": null,
      "metadata": {
        "id": "wLp7MhPrF2Xr"
      },
      "outputs": [],
      "source": [
        "#import lib\n",
        "from pandas.tseries.offsets import DateOffset"
      ]
    },
    {
      "cell_type": "code",
      "execution_count": null,
      "metadata": {
        "id": "npsJKqnEIClJ"
      },
      "outputs": [],
      "source": [
        "#Conversion:\n",
        "X_test_last = X_last.to_numpy()\n",
        "X_test_last.shape"
      ]
    },
    {
      "cell_type": "code",
      "execution_count": null,
      "metadata": {
        "id": "NoKmVT3MIK29"
      },
      "outputs": [],
      "source": [
        "X_test_last"
      ]
    },
    {
      "cell_type": "code",
      "execution_count": null,
      "metadata": {
        "id": "nflkWzBjuAeq"
      },
      "outputs": [],
      "source": [
        "#Going into loop: we will loop over the y_test indices and update X_test_last at each loop:\n",
        "case_indices = y_test.index\n",
        "#n_features:\n",
        "n_features = 4\n",
        "#For scaling the predictions:\n",
        "dummy_array = np.zeros((1,X_test_last.shape[1]))\n",
        "for case_index in case_indices:\n",
        "  #Predicting with fitted SVM and writing the result on y_predicted at the same time:\n",
        "  load_prediction = svr.predict(X_test_last).flatten()[0]\n",
        "  #print(load_prediction)\n",
        "  y_predicted.update(pd.Series(load_prediction,index=[case_index]))\n",
        "  #Preparing the next X_test_last:\n",
        "  #\n",
        "  # We need to scale the load first:\n",
        "  dummy_array[0,X_test_last.shape[1]-1] = load_prediction\n",
        "  load_scaled = sX.transform(dummy_array)[0,X_test_last.shape[1]-1]\n",
        "  #\n",
        "  #---updating load list---:\n",
        "  last_loads = np.delete(last_loads,0)\n",
        "  last_loads = np.append(last_loads,load_scaled)\n",
        "  #print(last_loads)\n",
        "  #\n",
        "  #---finding new values:\n",
        "  median_i = np.median(last_loads)\n",
        "  std_i = np.std(last_loads)\n",
        "  min_i = np.min(last_loads)\n",
        "  max_i = np.max(last_loads)\n",
        "  #here I assume that T data is available from weatherforecasting etc.\n",
        "  time_index = pd.Timestamp(case_index) + DateOffset(hours=1)\n",
        "  temp_i= temp_test.loc[time_index] #already scaled!\n",
        "  #\n",
        "  #updating X_last:\n",
        "  for i in range (X_test_last.shape[1]-n_features):\n",
        "    X_test_last[0][i] =X_test_last[0][i+n_features]\n",
        "\n",
        "  X_test_last[0][X_test_last.shape[1]-n_features+0] =median_i\n",
        "  X_test_last[0][X_test_last.shape[1]-n_features+1] =std_i\n",
        "#  X_test_last[0][X_test_last.shape[1]-n_features+2] =min_i\n",
        "#  X_test_last[0][X_test_last.shape[1]-n_features+3] =max_i\n",
        "  X_test_last[0][X_test_last.shape[1]-n_features+2] =temp_i\n",
        "  X_test_last[0][X_test_last.shape[1]-n_features+3] =load_scaled\n",
        "\n",
        "\n"
      ]
    },
    {
      "cell_type": "code",
      "execution_count": null,
      "metadata": {
        "id": "y2czx1Q0KsCX"
      },
      "outputs": [],
      "source": [
        "#Visualization of the accuracy:\n",
        "a = plt.axes(aspect='equal')\n",
        "plt.scatter(y_test, y_predicted)\n",
        "plt.xlabel('True Pressure Values')\n",
        "plt.ylabel('Predicted Pressures')\n",
        "lims = [2000, 4000]\n",
        "plt.xlim(lims), plt.ylim(lims)\n",
        "plt.plot(lims, lims)"
      ]
    },
    {
      "cell_type": "code",
      "execution_count": null,
      "metadata": {
        "id": "Bhy3_OFTcx84"
      },
      "outputs": [],
      "source": [
        "# Calculating the error variations:\n",
        "error_nn = (y_predicted - y_test)/y_test*100\n",
        "plt.hist(error_nn, bins=20)\n",
        "plt.xlabel('Predicted Relative % Error')\n",
        "plt.ylabel('Count')"
      ]
    },
    {
      "cell_type": "code",
      "execution_count": null,
      "metadata": {
        "id": "_vc-t0oFcx84"
      },
      "outputs": [],
      "source": [
        "#Calculating the mean absolutepercentage error:\n",
        "abs_error_nn = abs(y_predicted - y_test)/y_test*100\n",
        "np.average(error_nn)"
      ]
    },
    {
      "cell_type": "code",
      "execution_count": null,
      "metadata": {
        "id": "VdIzSpeLcx84"
      },
      "outputs": [],
      "source": [
        "#Calculating R2 value:\n",
        "r2_test = r2_score(y_test, y_predicted)\n",
        "print('R^2 score is  %3.2f' %r2_test)"
      ]
    },
    {
      "cell_type": "code",
      "execution_count": null,
      "metadata": {
        "id": "1rb9lQ8Qcx85"
      },
      "outputs": [],
      "source": [
        "#Plotting the Figure: \n",
        "plt.figure();\n",
        "plt.plot(y_test, 'k.-');\n",
        "plt.plot(y_predicted, 'x', alpha=0.70);\n",
        "\n",
        "plt.legend(['Actual',\n",
        "            'Predicted 1 hr ahead'\n",
        "            ]);\n",
        "plt.ylabel('Load');\n",
        "plt.xlabel('Time Index');\n",
        "plt.title('SVM');\n",
        "mpl.rcParams['figure.figsize'] = [12.0, 6.0]"
      ]
    },
    {
      "cell_type": "markdown",
      "metadata": {
        "id": "fgxMQXUkbQ9-"
      },
      "source": [
        "# Self Study\n",
        "\n",
        "It would be a good exercise to combine SVM with PCA. \n",
        "\n",
        "i) Create a feature matrix X with a much larger sliding window. You may also add additional features.\n",
        "\n",
        "ii) Transform and reduce the dimensionality via PCA (#_components should be high enough to cover >95% variance).\n",
        "\n",
        "iii) Feed transformed X into SVM. \n",
        "\n",
        "iV) Try to predict much further points in time.\n",
        "\n"
      ]
    },
    {
      "cell_type": "markdown",
      "metadata": {
        "id": "It6Yj72ObQ9-"
      },
      "source": [
        "# Reading Material\n",
        "\n",
        "https://en.wikipedia.org/wiki/Time_series\n",
        "\n",
        "https://earthobservatory.nasa.gov/features/WxForecasting\n",
        "\n",
        "https://robjhyndman.com/hyndsight/forecasting-competitions/\n",
        "\n",
        "https://en.wikipedia.org/wiki/Autocorrelation\n",
        "\n",
        "https://en.wikipedia.org/wiki/Partial_autocorrelation_function\n",
        "\n",
        "Dataset source: Tao Hong, Pierre Pinson, Shu Fan, Hamidreza Zareipour, Alberto Troccoli and Rob J. Hyndman, \"Probabilistic energy forecasting: Global Energy Forecasting Competition 2014 and beyond\", International Journal of Forecasting, 2016.\n",
        "\n",
        "https://www.ge.com/power/future-of-energy\n",
        "\n",
        "https://www.ge.com/news/reports/part-1-transformation-change-energy-ecosystem"
      ]
    }
  ],
  "metadata": {
    "colab": {
      "collapsed_sections": [],
      "name": "Lecture_8.ipynb",
      "provenance": [],
      "toc_visible": true
    },
    "kernelspec": {
      "display_name": "Python 3",
      "name": "python3"
    },
    "language_info": {
      "codemirror_mode": {
        "name": "ipython",
        "version": 3
      },
      "file_extension": ".py",
      "mimetype": "text/x-python",
      "name": "python",
      "nbconvert_exporter": "python",
      "pygments_lexer": "ipython3",
      "version": "3.10.9"
    }
  },
  "nbformat": 4,
  "nbformat_minor": 0
}
