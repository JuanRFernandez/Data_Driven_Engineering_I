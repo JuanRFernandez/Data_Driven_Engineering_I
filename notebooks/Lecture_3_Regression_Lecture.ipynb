{
  "nbformat": 4,
  "nbformat_minor": 0,
  "metadata": {
    "colab": {
      "provenance": [],
      "collapsed_sections": [],
      "toc_visible": true
    },
    "kernelspec": {
      "name": "python3",
      "display_name": "Python 3"
    }
  },
  "cells": [
    {
      "cell_type": "markdown",
      "metadata": {
        "id": "cQxGOeC7ZmUj"
      },
      "source": [
        "#Active Session II: Regression"
      ]
    },
    {
      "cell_type": "markdown",
      "metadata": {
        "id": "VpF0Ype1X_L7"
      },
      "source": [
        "#Important Note\n",
        "\n",
        "Lecture notes and notebooks must not be copied and/or distributed without the express permission of ITS.\n",
        "\n",
        "\n",
        "\n"
      ]
    },
    {
      "cell_type": "markdown",
      "metadata": {
        "id": "rA_3sqmEls1m"
      },
      "source": [
        "#1. Problem Definition: Probe into the Data\n",
        "\n",
        "In this dataset, we will look into the relationship between airfoil design and its relationship with noise generation. \n",
        "\n",
        "This NASA data set was obtained from a series of aerodynamic and acoustic tests of two and three-dimensional airfoil blade sections conducted in an anechoic wind tunnel. It comprises different size NACA 0012 airfoils at various wind tunnel speeds and angles of attack. The span of the airfoil and the observer position were the same in all of the experiments. \n",
        "\n",
        "Attribute Information:\n",
        "\n",
        "This problem has the following inputs:\n",
        "1. Frequency, in Hertz.\n",
        "2. Angle of attack, in degrees.\n",
        "3. Chord length, in meters.\n",
        "4. Free-stream velocity, in meters per second.\n",
        "5. Suction side displacement thickness, in meters.\n",
        "\n",
        "The only output is:\n",
        "6. Scaled sound pressure level, in decibels. "
      ]
    },
    {
      "cell_type": "markdown",
      "metadata": {
        "id": "C9yyayGmmaKy"
      },
      "source": [
        "\n",
        "# 2. Preparing the enviroment\n",
        "\n",
        "Import the Python libraries that we will need to (i) load the data, (ii) analyze it, (iii) create our model, (iv) process the results."
      ]
    },
    {
      "cell_type": "code",
      "metadata": {
        "id": "GSLWuZiyZLHI"
      },
      "source": [
        "#Importing the necessary libraries\n",
        "import math\n",
        "import numpy as np\n",
        "import pandas as pd\n",
        "import os\n",
        "import matplotlib.pyplot as plt\n",
        "import seaborn as sns\n",
        "color = sns.color_palette()\n",
        "import matplotlib as mpl"
      ],
      "execution_count": 188,
      "outputs": []
    },
    {
      "cell_type": "code",
      "metadata": {
        "id": "X0pHHUILhbq1"
      },
      "source": [
        "# Data Preparation and Scoring\n",
        "from sklearn import preprocessing as pp\n",
        "from scipy.stats import pearsonr\n",
        "from sklearn.model_selection import train_test_split\n",
        "from sklearn.model_selection import KFold\n",
        "from sklearn.model_selection import GridSearchCV\n",
        "from sklearn.metrics import make_scorer\n",
        "from sklearn.metrics import accuracy_score\n",
        "from sklearn.metrics import mean_absolute_error\n",
        "from sklearn.metrics import r2_score\n",
        "from sklearn.metrics import mean_squared_error\n",
        "from matplotlib.colors import LogNorm"
      ],
      "execution_count": 189,
      "outputs": []
    },
    {
      "cell_type": "code",
      "metadata": {
        "id": "LKHNGPIqhe9d"
      },
      "source": [
        "# ML Algorithms to be used\n",
        "from sklearn.linear_model import Lasso\n",
        "from sklearn.linear_model import LassoCV\n",
        "from sklearn.linear_model import ElasticNet\n",
        "from sklearn.linear_model import ElasticNetCV\n",
        "from sklearn.svm import SVR\n",
        "from sklearn.linear_model import BayesianRidge\n",
        "\n"
      ],
      "execution_count": 190,
      "outputs": []
    },
    {
      "cell_type": "markdown",
      "metadata": {
        "id": "_4cDs8HWmfhF"
      },
      "source": [
        "# 3. Pre-processing\n"
      ]
    },
    {
      "cell_type": "markdown",
      "metadata": {
        "id": "R2p8AIqRvakC"
      },
      "source": [
        "## Loading the Data\n",
        "\n",
        "We need to upload the dataset to Colab enviroment. Pandas library is a practical way to load and read the data from an url. Since the data is only given as tabulated values, we need to add the name of the features as well. "
      ]
    },
    {
      "cell_type": "code",
      "metadata": {
        "id": "q-j5frJTh5vW",
        "colab": {
          "base_uri": "https://localhost:8080/",
          "height": 206
        },
        "outputId": "25e957ba-b994-45c4-fc2e-21d0ac512754"
      },
      "source": [
        "# Loading the data\n",
        "url = 'https://archive.ics.uci.edu/ml/machine-learning-databases/00291/airfoil_self_noise.dat'\n",
        "new_names = ['frequency','angle_attack','chord_length','Free-stream_velocity','displacement_thickness','sound_pressure']\n",
        "data = pd.read_csv(url, names=new_names, delimiter='\\t')\n",
        "data.head()"
      ],
      "execution_count": 191,
      "outputs": [
        {
          "output_type": "execute_result",
          "data": {
            "text/plain": [
              "   frequency  angle_attack  chord_length  Free-stream_velocity  \\\n",
              "0        800           0.0        0.3048                  71.3   \n",
              "1       1000           0.0        0.3048                  71.3   \n",
              "2       1250           0.0        0.3048                  71.3   \n",
              "3       1600           0.0        0.3048                  71.3   \n",
              "4       2000           0.0        0.3048                  71.3   \n",
              "\n",
              "   displacement_thickness  sound_pressure  \n",
              "0                0.002663         126.201  \n",
              "1                0.002663         125.201  \n",
              "2                0.002663         125.951  \n",
              "3                0.002663         127.591  \n",
              "4                0.002663         127.461  "
            ],
            "text/html": [
              "\n",
              "  <div id=\"df-1e418412-f9e9-46a3-bb9e-0f3000ce52df\">\n",
              "    <div class=\"colab-df-container\">\n",
              "      <div>\n",
              "<style scoped>\n",
              "    .dataframe tbody tr th:only-of-type {\n",
              "        vertical-align: middle;\n",
              "    }\n",
              "\n",
              "    .dataframe tbody tr th {\n",
              "        vertical-align: top;\n",
              "    }\n",
              "\n",
              "    .dataframe thead th {\n",
              "        text-align: right;\n",
              "    }\n",
              "</style>\n",
              "<table border=\"1\" class=\"dataframe\">\n",
              "  <thead>\n",
              "    <tr style=\"text-align: right;\">\n",
              "      <th></th>\n",
              "      <th>frequency</th>\n",
              "      <th>angle_attack</th>\n",
              "      <th>chord_length</th>\n",
              "      <th>Free-stream_velocity</th>\n",
              "      <th>displacement_thickness</th>\n",
              "      <th>sound_pressure</th>\n",
              "    </tr>\n",
              "  </thead>\n",
              "  <tbody>\n",
              "    <tr>\n",
              "      <th>0</th>\n",
              "      <td>800</td>\n",
              "      <td>0.0</td>\n",
              "      <td>0.3048</td>\n",
              "      <td>71.3</td>\n",
              "      <td>0.002663</td>\n",
              "      <td>126.201</td>\n",
              "    </tr>\n",
              "    <tr>\n",
              "      <th>1</th>\n",
              "      <td>1000</td>\n",
              "      <td>0.0</td>\n",
              "      <td>0.3048</td>\n",
              "      <td>71.3</td>\n",
              "      <td>0.002663</td>\n",
              "      <td>125.201</td>\n",
              "    </tr>\n",
              "    <tr>\n",
              "      <th>2</th>\n",
              "      <td>1250</td>\n",
              "      <td>0.0</td>\n",
              "      <td>0.3048</td>\n",
              "      <td>71.3</td>\n",
              "      <td>0.002663</td>\n",
              "      <td>125.951</td>\n",
              "    </tr>\n",
              "    <tr>\n",
              "      <th>3</th>\n",
              "      <td>1600</td>\n",
              "      <td>0.0</td>\n",
              "      <td>0.3048</td>\n",
              "      <td>71.3</td>\n",
              "      <td>0.002663</td>\n",
              "      <td>127.591</td>\n",
              "    </tr>\n",
              "    <tr>\n",
              "      <th>4</th>\n",
              "      <td>2000</td>\n",
              "      <td>0.0</td>\n",
              "      <td>0.3048</td>\n",
              "      <td>71.3</td>\n",
              "      <td>0.002663</td>\n",
              "      <td>127.461</td>\n",
              "    </tr>\n",
              "  </tbody>\n",
              "</table>\n",
              "</div>\n",
              "      <button class=\"colab-df-convert\" onclick=\"convertToInteractive('df-1e418412-f9e9-46a3-bb9e-0f3000ce52df')\"\n",
              "              title=\"Convert this dataframe to an interactive table.\"\n",
              "              style=\"display:none;\">\n",
              "        \n",
              "  <svg xmlns=\"http://www.w3.org/2000/svg\" height=\"24px\"viewBox=\"0 0 24 24\"\n",
              "       width=\"24px\">\n",
              "    <path d=\"M0 0h24v24H0V0z\" fill=\"none\"/>\n",
              "    <path d=\"M18.56 5.44l.94 2.06.94-2.06 2.06-.94-2.06-.94-.94-2.06-.94 2.06-2.06.94zm-11 1L8.5 8.5l.94-2.06 2.06-.94-2.06-.94L8.5 2.5l-.94 2.06-2.06.94zm10 10l.94 2.06.94-2.06 2.06-.94-2.06-.94-.94-2.06-.94 2.06-2.06.94z\"/><path d=\"M17.41 7.96l-1.37-1.37c-.4-.4-.92-.59-1.43-.59-.52 0-1.04.2-1.43.59L10.3 9.45l-7.72 7.72c-.78.78-.78 2.05 0 2.83L4 21.41c.39.39.9.59 1.41.59.51 0 1.02-.2 1.41-.59l7.78-7.78 2.81-2.81c.8-.78.8-2.07 0-2.86zM5.41 20L4 18.59l7.72-7.72 1.47 1.35L5.41 20z\"/>\n",
              "  </svg>\n",
              "      </button>\n",
              "      \n",
              "  <style>\n",
              "    .colab-df-container {\n",
              "      display:flex;\n",
              "      flex-wrap:wrap;\n",
              "      gap: 12px;\n",
              "    }\n",
              "\n",
              "    .colab-df-convert {\n",
              "      background-color: #E8F0FE;\n",
              "      border: none;\n",
              "      border-radius: 50%;\n",
              "      cursor: pointer;\n",
              "      display: none;\n",
              "      fill: #1967D2;\n",
              "      height: 32px;\n",
              "      padding: 0 0 0 0;\n",
              "      width: 32px;\n",
              "    }\n",
              "\n",
              "    .colab-df-convert:hover {\n",
              "      background-color: #E2EBFA;\n",
              "      box-shadow: 0px 1px 2px rgba(60, 64, 67, 0.3), 0px 1px 3px 1px rgba(60, 64, 67, 0.15);\n",
              "      fill: #174EA6;\n",
              "    }\n",
              "\n",
              "    [theme=dark] .colab-df-convert {\n",
              "      background-color: #3B4455;\n",
              "      fill: #D2E3FC;\n",
              "    }\n",
              "\n",
              "    [theme=dark] .colab-df-convert:hover {\n",
              "      background-color: #434B5C;\n",
              "      box-shadow: 0px 1px 3px 1px rgba(0, 0, 0, 0.15);\n",
              "      filter: drop-shadow(0px 1px 2px rgba(0, 0, 0, 0.3));\n",
              "      fill: #FFFFFF;\n",
              "    }\n",
              "  </style>\n",
              "\n",
              "      <script>\n",
              "        const buttonEl =\n",
              "          document.querySelector('#df-1e418412-f9e9-46a3-bb9e-0f3000ce52df button.colab-df-convert');\n",
              "        buttonEl.style.display =\n",
              "          google.colab.kernel.accessAllowed ? 'block' : 'none';\n",
              "\n",
              "        async function convertToInteractive(key) {\n",
              "          const element = document.querySelector('#df-1e418412-f9e9-46a3-bb9e-0f3000ce52df');\n",
              "          const dataTable =\n",
              "            await google.colab.kernel.invokeFunction('convertToInteractive',\n",
              "                                                     [key], {});\n",
              "          if (!dataTable) return;\n",
              "\n",
              "          const docLinkHtml = 'Like what you see? Visit the ' +\n",
              "            '<a target=\"_blank\" href=https://colab.research.google.com/notebooks/data_table.ipynb>data table notebook</a>'\n",
              "            + ' to learn more about interactive tables.';\n",
              "          element.innerHTML = '';\n",
              "          dataTable['output_type'] = 'display_data';\n",
              "          await google.colab.output.renderOutput(dataTable, element);\n",
              "          const docLink = document.createElement('div');\n",
              "          docLink.innerHTML = docLinkHtml;\n",
              "          element.appendChild(docLink);\n",
              "        }\n",
              "      </script>\n",
              "    </div>\n",
              "  </div>\n",
              "  "
            ]
          },
          "metadata": {},
          "execution_count": 191
        }
      ]
    },
    {
      "cell_type": "markdown",
      "metadata": {
        "id": "f-18TOW8jpbL"
      },
      "source": [
        "## Data Exploration\n",
        "Here we will look into the statistics of the data, identify any missing values or categorical features that is needed to be further process.\n",
        "\n",
        "Let’s analyze our dataset first. Use dataset.head(n) to display top n data. You can change dataset.head(n) to dataset.sample(n) to display randomly picked data:"
      ]
    },
    {
      "cell_type": "code",
      "metadata": {
        "id": "c9FBWj1-jeWk",
        "colab": {
          "base_uri": "https://localhost:8080/",
          "height": 206
        },
        "outputId": "d3d7f303-5328-4426-afd9-e9f754ddfcf5"
      },
      "source": [
        " data.head(5)"
      ],
      "execution_count": 192,
      "outputs": [
        {
          "output_type": "execute_result",
          "data": {
            "text/plain": [
              "   frequency  angle_attack  chord_length  Free-stream_velocity  \\\n",
              "0        800           0.0        0.3048                  71.3   \n",
              "1       1000           0.0        0.3048                  71.3   \n",
              "2       1250           0.0        0.3048                  71.3   \n",
              "3       1600           0.0        0.3048                  71.3   \n",
              "4       2000           0.0        0.3048                  71.3   \n",
              "\n",
              "   displacement_thickness  sound_pressure  \n",
              "0                0.002663         126.201  \n",
              "1                0.002663         125.201  \n",
              "2                0.002663         125.951  \n",
              "3                0.002663         127.591  \n",
              "4                0.002663         127.461  "
            ],
            "text/html": [
              "\n",
              "  <div id=\"df-b2145f2a-7e3f-4d91-8918-647461a07736\">\n",
              "    <div class=\"colab-df-container\">\n",
              "      <div>\n",
              "<style scoped>\n",
              "    .dataframe tbody tr th:only-of-type {\n",
              "        vertical-align: middle;\n",
              "    }\n",
              "\n",
              "    .dataframe tbody tr th {\n",
              "        vertical-align: top;\n",
              "    }\n",
              "\n",
              "    .dataframe thead th {\n",
              "        text-align: right;\n",
              "    }\n",
              "</style>\n",
              "<table border=\"1\" class=\"dataframe\">\n",
              "  <thead>\n",
              "    <tr style=\"text-align: right;\">\n",
              "      <th></th>\n",
              "      <th>frequency</th>\n",
              "      <th>angle_attack</th>\n",
              "      <th>chord_length</th>\n",
              "      <th>Free-stream_velocity</th>\n",
              "      <th>displacement_thickness</th>\n",
              "      <th>sound_pressure</th>\n",
              "    </tr>\n",
              "  </thead>\n",
              "  <tbody>\n",
              "    <tr>\n",
              "      <th>0</th>\n",
              "      <td>800</td>\n",
              "      <td>0.0</td>\n",
              "      <td>0.3048</td>\n",
              "      <td>71.3</td>\n",
              "      <td>0.002663</td>\n",
              "      <td>126.201</td>\n",
              "    </tr>\n",
              "    <tr>\n",
              "      <th>1</th>\n",
              "      <td>1000</td>\n",
              "      <td>0.0</td>\n",
              "      <td>0.3048</td>\n",
              "      <td>71.3</td>\n",
              "      <td>0.002663</td>\n",
              "      <td>125.201</td>\n",
              "    </tr>\n",
              "    <tr>\n",
              "      <th>2</th>\n",
              "      <td>1250</td>\n",
              "      <td>0.0</td>\n",
              "      <td>0.3048</td>\n",
              "      <td>71.3</td>\n",
              "      <td>0.002663</td>\n",
              "      <td>125.951</td>\n",
              "    </tr>\n",
              "    <tr>\n",
              "      <th>3</th>\n",
              "      <td>1600</td>\n",
              "      <td>0.0</td>\n",
              "      <td>0.3048</td>\n",
              "      <td>71.3</td>\n",
              "      <td>0.002663</td>\n",
              "      <td>127.591</td>\n",
              "    </tr>\n",
              "    <tr>\n",
              "      <th>4</th>\n",
              "      <td>2000</td>\n",
              "      <td>0.0</td>\n",
              "      <td>0.3048</td>\n",
              "      <td>71.3</td>\n",
              "      <td>0.002663</td>\n",
              "      <td>127.461</td>\n",
              "    </tr>\n",
              "  </tbody>\n",
              "</table>\n",
              "</div>\n",
              "      <button class=\"colab-df-convert\" onclick=\"convertToInteractive('df-b2145f2a-7e3f-4d91-8918-647461a07736')\"\n",
              "              title=\"Convert this dataframe to an interactive table.\"\n",
              "              style=\"display:none;\">\n",
              "        \n",
              "  <svg xmlns=\"http://www.w3.org/2000/svg\" height=\"24px\"viewBox=\"0 0 24 24\"\n",
              "       width=\"24px\">\n",
              "    <path d=\"M0 0h24v24H0V0z\" fill=\"none\"/>\n",
              "    <path d=\"M18.56 5.44l.94 2.06.94-2.06 2.06-.94-2.06-.94-.94-2.06-.94 2.06-2.06.94zm-11 1L8.5 8.5l.94-2.06 2.06-.94-2.06-.94L8.5 2.5l-.94 2.06-2.06.94zm10 10l.94 2.06.94-2.06 2.06-.94-2.06-.94-.94-2.06-.94 2.06-2.06.94z\"/><path d=\"M17.41 7.96l-1.37-1.37c-.4-.4-.92-.59-1.43-.59-.52 0-1.04.2-1.43.59L10.3 9.45l-7.72 7.72c-.78.78-.78 2.05 0 2.83L4 21.41c.39.39.9.59 1.41.59.51 0 1.02-.2 1.41-.59l7.78-7.78 2.81-2.81c.8-.78.8-2.07 0-2.86zM5.41 20L4 18.59l7.72-7.72 1.47 1.35L5.41 20z\"/>\n",
              "  </svg>\n",
              "      </button>\n",
              "      \n",
              "  <style>\n",
              "    .colab-df-container {\n",
              "      display:flex;\n",
              "      flex-wrap:wrap;\n",
              "      gap: 12px;\n",
              "    }\n",
              "\n",
              "    .colab-df-convert {\n",
              "      background-color: #E8F0FE;\n",
              "      border: none;\n",
              "      border-radius: 50%;\n",
              "      cursor: pointer;\n",
              "      display: none;\n",
              "      fill: #1967D2;\n",
              "      height: 32px;\n",
              "      padding: 0 0 0 0;\n",
              "      width: 32px;\n",
              "    }\n",
              "\n",
              "    .colab-df-convert:hover {\n",
              "      background-color: #E2EBFA;\n",
              "      box-shadow: 0px 1px 2px rgba(60, 64, 67, 0.3), 0px 1px 3px 1px rgba(60, 64, 67, 0.15);\n",
              "      fill: #174EA6;\n",
              "    }\n",
              "\n",
              "    [theme=dark] .colab-df-convert {\n",
              "      background-color: #3B4455;\n",
              "      fill: #D2E3FC;\n",
              "    }\n",
              "\n",
              "    [theme=dark] .colab-df-convert:hover {\n",
              "      background-color: #434B5C;\n",
              "      box-shadow: 0px 1px 3px 1px rgba(0, 0, 0, 0.15);\n",
              "      filter: drop-shadow(0px 1px 2px rgba(0, 0, 0, 0.3));\n",
              "      fill: #FFFFFF;\n",
              "    }\n",
              "  </style>\n",
              "\n",
              "      <script>\n",
              "        const buttonEl =\n",
              "          document.querySelector('#df-b2145f2a-7e3f-4d91-8918-647461a07736 button.colab-df-convert');\n",
              "        buttonEl.style.display =\n",
              "          google.colab.kernel.accessAllowed ? 'block' : 'none';\n",
              "\n",
              "        async function convertToInteractive(key) {\n",
              "          const element = document.querySelector('#df-b2145f2a-7e3f-4d91-8918-647461a07736');\n",
              "          const dataTable =\n",
              "            await google.colab.kernel.invokeFunction('convertToInteractive',\n",
              "                                                     [key], {});\n",
              "          if (!dataTable) return;\n",
              "\n",
              "          const docLinkHtml = 'Like what you see? Visit the ' +\n",
              "            '<a target=\"_blank\" href=https://colab.research.google.com/notebooks/data_table.ipynb>data table notebook</a>'\n",
              "            + ' to learn more about interactive tables.';\n",
              "          element.innerHTML = '';\n",
              "          dataTable['output_type'] = 'display_data';\n",
              "          await google.colab.output.renderOutput(dataTable, element);\n",
              "          const docLink = document.createElement('div');\n",
              "          docLink.innerHTML = docLinkHtml;\n",
              "          element.appendChild(docLink);\n",
              "        }\n",
              "      </script>\n",
              "    </div>\n",
              "  </div>\n",
              "  "
            ]
          },
          "metadata": {},
          "execution_count": 192
        }
      ]
    },
    {
      "cell_type": "code",
      "metadata": {
        "id": "J_U0HovboDnM",
        "colab": {
          "base_uri": "https://localhost:8080/",
          "height": 206
        },
        "outputId": "b03e412b-e237-492d-9b3d-6d6b2b85dfee"
      },
      "source": [
        "data.sample(5)"
      ],
      "execution_count": 193,
      "outputs": [
        {
          "output_type": "execute_result",
          "data": {
            "text/plain": [
              "      frequency  angle_attack  chord_length  Free-stream_velocity  \\\n",
              "1233       1250          22.2        0.0254                  39.6   \n",
              "841         200          11.2        0.0508                  71.3   \n",
              "140        6300           3.0        0.3048                  39.6   \n",
              "757        3150           0.0        0.0508                  39.6   \n",
              "1200        630          17.4        0.0254                  31.7   \n",
              "\n",
              "      displacement_thickness  sound_pressure  \n",
              "1233                0.022903         126.446  \n",
              "841                 0.014072         125.941  \n",
              "140                 0.004957         114.042  \n",
              "757                 0.000792         135.938  \n",
              "1200                0.017663         136.886  "
            ],
            "text/html": [
              "\n",
              "  <div id=\"df-db0d8098-3d95-4b0b-b8af-96d0a64052f9\">\n",
              "    <div class=\"colab-df-container\">\n",
              "      <div>\n",
              "<style scoped>\n",
              "    .dataframe tbody tr th:only-of-type {\n",
              "        vertical-align: middle;\n",
              "    }\n",
              "\n",
              "    .dataframe tbody tr th {\n",
              "        vertical-align: top;\n",
              "    }\n",
              "\n",
              "    .dataframe thead th {\n",
              "        text-align: right;\n",
              "    }\n",
              "</style>\n",
              "<table border=\"1\" class=\"dataframe\">\n",
              "  <thead>\n",
              "    <tr style=\"text-align: right;\">\n",
              "      <th></th>\n",
              "      <th>frequency</th>\n",
              "      <th>angle_attack</th>\n",
              "      <th>chord_length</th>\n",
              "      <th>Free-stream_velocity</th>\n",
              "      <th>displacement_thickness</th>\n",
              "      <th>sound_pressure</th>\n",
              "    </tr>\n",
              "  </thead>\n",
              "  <tbody>\n",
              "    <tr>\n",
              "      <th>1233</th>\n",
              "      <td>1250</td>\n",
              "      <td>22.2</td>\n",
              "      <td>0.0254</td>\n",
              "      <td>39.6</td>\n",
              "      <td>0.022903</td>\n",
              "      <td>126.446</td>\n",
              "    </tr>\n",
              "    <tr>\n",
              "      <th>841</th>\n",
              "      <td>200</td>\n",
              "      <td>11.2</td>\n",
              "      <td>0.0508</td>\n",
              "      <td>71.3</td>\n",
              "      <td>0.014072</td>\n",
              "      <td>125.941</td>\n",
              "    </tr>\n",
              "    <tr>\n",
              "      <th>140</th>\n",
              "      <td>6300</td>\n",
              "      <td>3.0</td>\n",
              "      <td>0.3048</td>\n",
              "      <td>39.6</td>\n",
              "      <td>0.004957</td>\n",
              "      <td>114.042</td>\n",
              "    </tr>\n",
              "    <tr>\n",
              "      <th>757</th>\n",
              "      <td>3150</td>\n",
              "      <td>0.0</td>\n",
              "      <td>0.0508</td>\n",
              "      <td>39.6</td>\n",
              "      <td>0.000792</td>\n",
              "      <td>135.938</td>\n",
              "    </tr>\n",
              "    <tr>\n",
              "      <th>1200</th>\n",
              "      <td>630</td>\n",
              "      <td>17.4</td>\n",
              "      <td>0.0254</td>\n",
              "      <td>31.7</td>\n",
              "      <td>0.017663</td>\n",
              "      <td>136.886</td>\n",
              "    </tr>\n",
              "  </tbody>\n",
              "</table>\n",
              "</div>\n",
              "      <button class=\"colab-df-convert\" onclick=\"convertToInteractive('df-db0d8098-3d95-4b0b-b8af-96d0a64052f9')\"\n",
              "              title=\"Convert this dataframe to an interactive table.\"\n",
              "              style=\"display:none;\">\n",
              "        \n",
              "  <svg xmlns=\"http://www.w3.org/2000/svg\" height=\"24px\"viewBox=\"0 0 24 24\"\n",
              "       width=\"24px\">\n",
              "    <path d=\"M0 0h24v24H0V0z\" fill=\"none\"/>\n",
              "    <path d=\"M18.56 5.44l.94 2.06.94-2.06 2.06-.94-2.06-.94-.94-2.06-.94 2.06-2.06.94zm-11 1L8.5 8.5l.94-2.06 2.06-.94-2.06-.94L8.5 2.5l-.94 2.06-2.06.94zm10 10l.94 2.06.94-2.06 2.06-.94-2.06-.94-.94-2.06-.94 2.06-2.06.94z\"/><path d=\"M17.41 7.96l-1.37-1.37c-.4-.4-.92-.59-1.43-.59-.52 0-1.04.2-1.43.59L10.3 9.45l-7.72 7.72c-.78.78-.78 2.05 0 2.83L4 21.41c.39.39.9.59 1.41.59.51 0 1.02-.2 1.41-.59l7.78-7.78 2.81-2.81c.8-.78.8-2.07 0-2.86zM5.41 20L4 18.59l7.72-7.72 1.47 1.35L5.41 20z\"/>\n",
              "  </svg>\n",
              "      </button>\n",
              "      \n",
              "  <style>\n",
              "    .colab-df-container {\n",
              "      display:flex;\n",
              "      flex-wrap:wrap;\n",
              "      gap: 12px;\n",
              "    }\n",
              "\n",
              "    .colab-df-convert {\n",
              "      background-color: #E8F0FE;\n",
              "      border: none;\n",
              "      border-radius: 50%;\n",
              "      cursor: pointer;\n",
              "      display: none;\n",
              "      fill: #1967D2;\n",
              "      height: 32px;\n",
              "      padding: 0 0 0 0;\n",
              "      width: 32px;\n",
              "    }\n",
              "\n",
              "    .colab-df-convert:hover {\n",
              "      background-color: #E2EBFA;\n",
              "      box-shadow: 0px 1px 2px rgba(60, 64, 67, 0.3), 0px 1px 3px 1px rgba(60, 64, 67, 0.15);\n",
              "      fill: #174EA6;\n",
              "    }\n",
              "\n",
              "    [theme=dark] .colab-df-convert {\n",
              "      background-color: #3B4455;\n",
              "      fill: #D2E3FC;\n",
              "    }\n",
              "\n",
              "    [theme=dark] .colab-df-convert:hover {\n",
              "      background-color: #434B5C;\n",
              "      box-shadow: 0px 1px 3px 1px rgba(0, 0, 0, 0.15);\n",
              "      filter: drop-shadow(0px 1px 2px rgba(0, 0, 0, 0.3));\n",
              "      fill: #FFFFFF;\n",
              "    }\n",
              "  </style>\n",
              "\n",
              "      <script>\n",
              "        const buttonEl =\n",
              "          document.querySelector('#df-db0d8098-3d95-4b0b-b8af-96d0a64052f9 button.colab-df-convert');\n",
              "        buttonEl.style.display =\n",
              "          google.colab.kernel.accessAllowed ? 'block' : 'none';\n",
              "\n",
              "        async function convertToInteractive(key) {\n",
              "          const element = document.querySelector('#df-db0d8098-3d95-4b0b-b8af-96d0a64052f9');\n",
              "          const dataTable =\n",
              "            await google.colab.kernel.invokeFunction('convertToInteractive',\n",
              "                                                     [key], {});\n",
              "          if (!dataTable) return;\n",
              "\n",
              "          const docLinkHtml = 'Like what you see? Visit the ' +\n",
              "            '<a target=\"_blank\" href=https://colab.research.google.com/notebooks/data_table.ipynb>data table notebook</a>'\n",
              "            + ' to learn more about interactive tables.';\n",
              "          element.innerHTML = '';\n",
              "          dataTable['output_type'] = 'display_data';\n",
              "          await google.colab.output.renderOutput(dataTable, element);\n",
              "          const docLink = document.createElement('div');\n",
              "          docLink.innerHTML = docLinkHtml;\n",
              "          element.appendChild(docLink);\n",
              "        }\n",
              "      </script>\n",
              "    </div>\n",
              "  </div>\n",
              "  "
            ]
          },
          "metadata": {},
          "execution_count": 193
        }
      ]
    },
    {
      "cell_type": "code",
      "metadata": {
        "id": "xmdwetvvFQj8",
        "colab": {
          "base_uri": "https://localhost:8080/"
        },
        "outputId": "bd4f5bb6-9245-4ebe-de57-e93a95b50631"
      },
      "source": [
        "data.info()"
      ],
      "execution_count": 194,
      "outputs": [
        {
          "output_type": "stream",
          "name": "stdout",
          "text": [
            "<class 'pandas.core.frame.DataFrame'>\n",
            "RangeIndex: 1503 entries, 0 to 1502\n",
            "Data columns (total 6 columns):\n",
            " #   Column                  Non-Null Count  Dtype  \n",
            "---  ------                  --------------  -----  \n",
            " 0   frequency               1503 non-null   int64  \n",
            " 1   angle_attack            1503 non-null   float64\n",
            " 2   chord_length            1503 non-null   float64\n",
            " 3   Free-stream_velocity    1503 non-null   float64\n",
            " 4   displacement_thickness  1503 non-null   float64\n",
            " 5   sound_pressure          1503 non-null   float64\n",
            "dtypes: float64(5), int64(1)\n",
            "memory usage: 70.6 KB\n"
          ]
        }
      ]
    },
    {
      "cell_type": "markdown",
      "metadata": {
        "id": "qbpWrNnHn45Z"
      },
      "source": [
        "Let's look into the statistics of the data. This is usually a good starting point to have an idea obout the range of the data, its nature, as well as the missing information for different features:"
      ]
    },
    {
      "cell_type": "code",
      "metadata": {
        "id": "-OX494Rskj6k",
        "colab": {
          "base_uri": "https://localhost:8080/",
          "height": 300
        },
        "outputId": "a6f74e9c-f760-45fa-ce0f-b58680408ca4"
      },
      "source": [
        "data.describe()"
      ],
      "execution_count": 195,
      "outputs": [
        {
          "output_type": "execute_result",
          "data": {
            "text/plain": [
              "          frequency  angle_attack  chord_length  Free-stream_velocity  \\\n",
              "count   1503.000000   1503.000000   1503.000000           1503.000000   \n",
              "mean    2886.380572      6.782302      0.136548             50.860745   \n",
              "std     3152.573137      5.918128      0.093541             15.572784   \n",
              "min      200.000000      0.000000      0.025400             31.700000   \n",
              "25%      800.000000      2.000000      0.050800             39.600000   \n",
              "50%     1600.000000      5.400000      0.101600             39.600000   \n",
              "75%     4000.000000      9.900000      0.228600             71.300000   \n",
              "max    20000.000000     22.200000      0.304800             71.300000   \n",
              "\n",
              "       displacement_thickness  sound_pressure  \n",
              "count             1503.000000     1503.000000  \n",
              "mean                 0.011140      124.835943  \n",
              "std                  0.013150        6.898657  \n",
              "min                  0.000401      103.380000  \n",
              "25%                  0.002535      120.191000  \n",
              "50%                  0.004957      125.721000  \n",
              "75%                  0.015576      129.995500  \n",
              "max                  0.058411      140.987000  "
            ],
            "text/html": [
              "\n",
              "  <div id=\"df-99649192-29d3-4e9b-b83e-43ffecfe8ece\">\n",
              "    <div class=\"colab-df-container\">\n",
              "      <div>\n",
              "<style scoped>\n",
              "    .dataframe tbody tr th:only-of-type {\n",
              "        vertical-align: middle;\n",
              "    }\n",
              "\n",
              "    .dataframe tbody tr th {\n",
              "        vertical-align: top;\n",
              "    }\n",
              "\n",
              "    .dataframe thead th {\n",
              "        text-align: right;\n",
              "    }\n",
              "</style>\n",
              "<table border=\"1\" class=\"dataframe\">\n",
              "  <thead>\n",
              "    <tr style=\"text-align: right;\">\n",
              "      <th></th>\n",
              "      <th>frequency</th>\n",
              "      <th>angle_attack</th>\n",
              "      <th>chord_length</th>\n",
              "      <th>Free-stream_velocity</th>\n",
              "      <th>displacement_thickness</th>\n",
              "      <th>sound_pressure</th>\n",
              "    </tr>\n",
              "  </thead>\n",
              "  <tbody>\n",
              "    <tr>\n",
              "      <th>count</th>\n",
              "      <td>1503.000000</td>\n",
              "      <td>1503.000000</td>\n",
              "      <td>1503.000000</td>\n",
              "      <td>1503.000000</td>\n",
              "      <td>1503.000000</td>\n",
              "      <td>1503.000000</td>\n",
              "    </tr>\n",
              "    <tr>\n",
              "      <th>mean</th>\n",
              "      <td>2886.380572</td>\n",
              "      <td>6.782302</td>\n",
              "      <td>0.136548</td>\n",
              "      <td>50.860745</td>\n",
              "      <td>0.011140</td>\n",
              "      <td>124.835943</td>\n",
              "    </tr>\n",
              "    <tr>\n",
              "      <th>std</th>\n",
              "      <td>3152.573137</td>\n",
              "      <td>5.918128</td>\n",
              "      <td>0.093541</td>\n",
              "      <td>15.572784</td>\n",
              "      <td>0.013150</td>\n",
              "      <td>6.898657</td>\n",
              "    </tr>\n",
              "    <tr>\n",
              "      <th>min</th>\n",
              "      <td>200.000000</td>\n",
              "      <td>0.000000</td>\n",
              "      <td>0.025400</td>\n",
              "      <td>31.700000</td>\n",
              "      <td>0.000401</td>\n",
              "      <td>103.380000</td>\n",
              "    </tr>\n",
              "    <tr>\n",
              "      <th>25%</th>\n",
              "      <td>800.000000</td>\n",
              "      <td>2.000000</td>\n",
              "      <td>0.050800</td>\n",
              "      <td>39.600000</td>\n",
              "      <td>0.002535</td>\n",
              "      <td>120.191000</td>\n",
              "    </tr>\n",
              "    <tr>\n",
              "      <th>50%</th>\n",
              "      <td>1600.000000</td>\n",
              "      <td>5.400000</td>\n",
              "      <td>0.101600</td>\n",
              "      <td>39.600000</td>\n",
              "      <td>0.004957</td>\n",
              "      <td>125.721000</td>\n",
              "    </tr>\n",
              "    <tr>\n",
              "      <th>75%</th>\n",
              "      <td>4000.000000</td>\n",
              "      <td>9.900000</td>\n",
              "      <td>0.228600</td>\n",
              "      <td>71.300000</td>\n",
              "      <td>0.015576</td>\n",
              "      <td>129.995500</td>\n",
              "    </tr>\n",
              "    <tr>\n",
              "      <th>max</th>\n",
              "      <td>20000.000000</td>\n",
              "      <td>22.200000</td>\n",
              "      <td>0.304800</td>\n",
              "      <td>71.300000</td>\n",
              "      <td>0.058411</td>\n",
              "      <td>140.987000</td>\n",
              "    </tr>\n",
              "  </tbody>\n",
              "</table>\n",
              "</div>\n",
              "      <button class=\"colab-df-convert\" onclick=\"convertToInteractive('df-99649192-29d3-4e9b-b83e-43ffecfe8ece')\"\n",
              "              title=\"Convert this dataframe to an interactive table.\"\n",
              "              style=\"display:none;\">\n",
              "        \n",
              "  <svg xmlns=\"http://www.w3.org/2000/svg\" height=\"24px\"viewBox=\"0 0 24 24\"\n",
              "       width=\"24px\">\n",
              "    <path d=\"M0 0h24v24H0V0z\" fill=\"none\"/>\n",
              "    <path d=\"M18.56 5.44l.94 2.06.94-2.06 2.06-.94-2.06-.94-.94-2.06-.94 2.06-2.06.94zm-11 1L8.5 8.5l.94-2.06 2.06-.94-2.06-.94L8.5 2.5l-.94 2.06-2.06.94zm10 10l.94 2.06.94-2.06 2.06-.94-2.06-.94-.94-2.06-.94 2.06-2.06.94z\"/><path d=\"M17.41 7.96l-1.37-1.37c-.4-.4-.92-.59-1.43-.59-.52 0-1.04.2-1.43.59L10.3 9.45l-7.72 7.72c-.78.78-.78 2.05 0 2.83L4 21.41c.39.39.9.59 1.41.59.51 0 1.02-.2 1.41-.59l7.78-7.78 2.81-2.81c.8-.78.8-2.07 0-2.86zM5.41 20L4 18.59l7.72-7.72 1.47 1.35L5.41 20z\"/>\n",
              "  </svg>\n",
              "      </button>\n",
              "      \n",
              "  <style>\n",
              "    .colab-df-container {\n",
              "      display:flex;\n",
              "      flex-wrap:wrap;\n",
              "      gap: 12px;\n",
              "    }\n",
              "\n",
              "    .colab-df-convert {\n",
              "      background-color: #E8F0FE;\n",
              "      border: none;\n",
              "      border-radius: 50%;\n",
              "      cursor: pointer;\n",
              "      display: none;\n",
              "      fill: #1967D2;\n",
              "      height: 32px;\n",
              "      padding: 0 0 0 0;\n",
              "      width: 32px;\n",
              "    }\n",
              "\n",
              "    .colab-df-convert:hover {\n",
              "      background-color: #E2EBFA;\n",
              "      box-shadow: 0px 1px 2px rgba(60, 64, 67, 0.3), 0px 1px 3px 1px rgba(60, 64, 67, 0.15);\n",
              "      fill: #174EA6;\n",
              "    }\n",
              "\n",
              "    [theme=dark] .colab-df-convert {\n",
              "      background-color: #3B4455;\n",
              "      fill: #D2E3FC;\n",
              "    }\n",
              "\n",
              "    [theme=dark] .colab-df-convert:hover {\n",
              "      background-color: #434B5C;\n",
              "      box-shadow: 0px 1px 3px 1px rgba(0, 0, 0, 0.15);\n",
              "      filter: drop-shadow(0px 1px 2px rgba(0, 0, 0, 0.3));\n",
              "      fill: #FFFFFF;\n",
              "    }\n",
              "  </style>\n",
              "\n",
              "      <script>\n",
              "        const buttonEl =\n",
              "          document.querySelector('#df-99649192-29d3-4e9b-b83e-43ffecfe8ece button.colab-df-convert');\n",
              "        buttonEl.style.display =\n",
              "          google.colab.kernel.accessAllowed ? 'block' : 'none';\n",
              "\n",
              "        async function convertToInteractive(key) {\n",
              "          const element = document.querySelector('#df-99649192-29d3-4e9b-b83e-43ffecfe8ece');\n",
              "          const dataTable =\n",
              "            await google.colab.kernel.invokeFunction('convertToInteractive',\n",
              "                                                     [key], {});\n",
              "          if (!dataTable) return;\n",
              "\n",
              "          const docLinkHtml = 'Like what you see? Visit the ' +\n",
              "            '<a target=\"_blank\" href=https://colab.research.google.com/notebooks/data_table.ipynb>data table notebook</a>'\n",
              "            + ' to learn more about interactive tables.';\n",
              "          element.innerHTML = '';\n",
              "          dataTable['output_type'] = 'display_data';\n",
              "          await google.colab.output.renderOutput(dataTable, element);\n",
              "          const docLink = document.createElement('div');\n",
              "          docLink.innerHTML = docLinkHtml;\n",
              "          element.appendChild(docLink);\n",
              "        }\n",
              "      </script>\n",
              "    </div>\n",
              "  </div>\n",
              "  "
            ]
          },
          "metadata": {},
          "execution_count": 195
        }
      ]
    },
    {
      "cell_type": "markdown",
      "metadata": {
        "id": "fiA5ExkEotj2"
      },
      "source": [
        "If not defined by the user, you can also explore the features with the following command:"
      ]
    },
    {
      "cell_type": "code",
      "metadata": {
        "id": "9JpHwIlzkleM",
        "colab": {
          "base_uri": "https://localhost:8080/"
        },
        "outputId": "ea65e9f9-9449-47b4-b382-e5c1a766836f"
      },
      "source": [
        "data.columns\n"
      ],
      "execution_count": 196,
      "outputs": [
        {
          "output_type": "execute_result",
          "data": {
            "text/plain": [
              "Index(['frequency', 'angle_attack', 'chord_length', 'Free-stream_velocity',\n",
              "       'displacement_thickness', 'sound_pressure'],\n",
              "      dtype='object')"
            ]
          },
          "metadata": {},
          "execution_count": 196
        }
      ]
    },
    {
      "cell_type": "markdown",
      "metadata": {
        "id": "edL_bxeepSbD"
      },
      "source": [
        "It is also possible to explore individual features:"
      ]
    },
    {
      "cell_type": "code",
      "metadata": {
        "id": "y2upSWbFo05Q",
        "colab": {
          "base_uri": "https://localhost:8080/"
        },
        "outputId": "8a7f571e-af57-4362-e6da-82a1c33db775"
      },
      "source": [
        "data['sound_pressure'].median()"
      ],
      "execution_count": 197,
      "outputs": [
        {
          "output_type": "execute_result",
          "data": {
            "text/plain": [
              "125.721"
            ]
          },
          "metadata": {},
          "execution_count": 197
        }
      ]
    },
    {
      "cell_type": "code",
      "metadata": {
        "id": "V3Gl8aeVpJZr",
        "colab": {
          "base_uri": "https://localhost:8080/"
        },
        "outputId": "adbb13e6-8f3b-4131-c9f3-f4a5161c31f5"
      },
      "source": [
        "data['sound_pressure'].mean()"
      ],
      "execution_count": 198,
      "outputs": [
        {
          "output_type": "execute_result",
          "data": {
            "text/plain": [
              "124.83594278110448"
            ]
          },
          "metadata": {},
          "execution_count": 198
        }
      ]
    },
    {
      "cell_type": "markdown",
      "metadata": {
        "id": "QXvnmz2OFs7h"
      },
      "source": [
        "### Data Visualization\n",
        "\n",
        "Another important pre-processing step is the data visualization. Histograms are suitable for a holistic view, where we can probe into the data for each attribute.\n",
        "\n",
        "We can use hist from matplotlib for that purpose:"
      ]
    },
    {
      "cell_type": "code",
      "metadata": {
        "id": "4wq9J6UTF2L8",
        "colab": {
          "base_uri": "https://localhost:8080/",
          "height": 879
        },
        "outputId": "4a22c2a7-53d0-4801-962b-a79d5df76412"
      },
      "source": [
        "data.hist(bins=30, figsize=(15,15))\n",
        "plt.show()"
      ],
      "execution_count": 199,
      "outputs": [
        {
          "output_type": "display_data",
          "data": {
            "text/plain": [
              "<Figure size 1080x1080 with 6 Axes>"
            ],
            "image/png": "[encoded data removed]"
          },
          "metadata": {
            "needs_background": "light"
          }
        }
      ]
    },
    {
      "cell_type": "markdown",
      "metadata": {
        "id": "PE4-pQkhHGQ6"
      },
      "source": [
        "It is always a good exercise to look into the data visually and try to see the distributions of the features. "
      ]
    },
    {
      "cell_type": "markdown",
      "metadata": {
        "id": "rJZYgP6WpdsH"
      },
      "source": [
        "### Identify nonnumerical values\n",
        "Some ML algorithms can not handle non-numerical values (NaN: not a number) so you may need to identify the type of the data for each feature and modify it if necessary. It is also quite common that different feature values are missing for different instances / examples so you may need to decide what to do: (i) omit the instance; (ii) replace them with the mean / median / mode of the feature; (iv) substitute them with a value of your choice.\n",
        "\n",
        "The following line counts the NaNs for each feature for us: "
      ]
    },
    {
      "cell_type": "code",
      "metadata": {
        "id": "o3trngZVq2Ov",
        "colab": {
          "base_uri": "https://localhost:8080/"
        },
        "outputId": "56409ff5-41c4-416b-bc19-4f6c506a643d"
      },
      "source": [
        "nanCounter = np.isnan(data).sum()\n",
        "print(nanCounter)"
      ],
      "execution_count": 200,
      "outputs": [
        {
          "output_type": "stream",
          "name": "stdout",
          "text": [
            "frequency                 0\n",
            "angle_attack              0\n",
            "chord_length              0\n",
            "Free-stream_velocity      0\n",
            "displacement_thickness    0\n",
            "sound_pressure            0\n",
            "dtype: int64\n"
          ]
        }
      ]
    },
    {
      "cell_type": "markdown",
      "metadata": {
        "id": "uqhBdEIqrIiP"
      },
      "source": [
        "The data was entirely numerical and composed of numbers. We will see in the following sessions how to handle datasets including non-numerical features in a smart way!\n",
        "\n",
        "It is also a good exercise to check the uniqueness of the dataset, that is, whether there exists values repeating at different instances:"
      ]
    },
    {
      "cell_type": "code",
      "metadata": {
        "id": "47CI_H-JrHjl",
        "colab": {
          "base_uri": "https://localhost:8080/"
        },
        "outputId": "5f21f5de-ad66-463a-e8d5-db0f3a4e13d3"
      },
      "source": [
        "distinctCounter = data.apply(lambda x: len(x.unique()))\n",
        "print(distinctCounter)"
      ],
      "execution_count": 201,
      "outputs": [
        {
          "output_type": "stream",
          "name": "stdout",
          "text": [
            "frequency                   21\n",
            "angle_attack                27\n",
            "chord_length                 6\n",
            "Free-stream_velocity         4\n",
            "displacement_thickness     105\n",
            "sound_pressure            1456\n",
            "dtype: int64\n"
          ]
        }
      ]
    },
    {
      "cell_type": "markdown",
      "metadata": {
        "id": "ZYgAwQiEtEB0"
      },
      "source": [
        "As identified earlier, there are 1503 instances (experimental measurements). Here we realized that these experiments were planned as combinations of 5 input parameters, with unique values of 21x27x6x4x105. "
      ]
    },
    {
      "cell_type": "markdown",
      "metadata": {
        "id": "CYzn33VxvyeK"
      },
      "source": [
        "### Supervised Algorithms: Preparing the Labels\n",
        "\n",
        "Supervised approach requires labelled data for the training. In this dataset, the objective function is the noise levels (classification) or noise prediction (regression), depending on the question. In both cases, we need to create a feature matrix say X and and label vector Y. We will use Y to train and test our model."
      ]
    },
    {
      "cell_type": "markdown",
      "metadata": {
        "id": "4ffDvpy5jsmZ"
      },
      "source": [
        "### Creating the Feature Matrix and Labels"
      ]
    },
    {
      "cell_type": "code",
      "metadata": {
        "id": "D_aujlG1v4Vw"
      },
      "source": [
        "dataX = data.copy().drop(['sound_pressure'],axis=1)\n",
        "dataY = data['sound_pressure'].copy()"
      ],
      "execution_count": 202,
      "outputs": []
    },
    {
      "cell_type": "code",
      "metadata": {
        "id": "EcLhFRaET5GT",
        "colab": {
          "base_uri": "https://localhost:8080/"
        },
        "outputId": "9e4aabf3-984c-497c-ec97-1e2735747985"
      },
      "source": [
        "dataY.sample(5)"
      ],
      "execution_count": 203,
      "outputs": [
        {
          "output_type": "execute_result",
          "data": {
            "text/plain": [
              "1114    122.938\n",
              "283     118.827\n",
              "29      118.129\n",
              "71      124.512\n",
              "1014    127.398\n",
              "Name: sound_pressure, dtype: float64"
            ]
          },
          "metadata": {},
          "execution_count": 203
        }
      ]
    },
    {
      "cell_type": "markdown",
      "metadata": {
        "id": "fTJGf1EYJROM"
      },
      "source": [
        "For more pre-processing options; you may check:\n",
        "\n",
        "https://scikit-learn.org/stable/modules/classes.html#module-sklearn.preprocessing"
      ]
    },
    {
      "cell_type": "markdown",
      "metadata": {
        "id": "f0lqdJOpkEZk"
      },
      "source": [
        "### Correlation matrix\n",
        "Now let's try to visualize how correlated the data is by creating a correlation matrix. "
      ]
    },
    {
      "cell_type": "code",
      "metadata": {
        "id": "3LPIt_hjy2y4",
        "colab": {
          "base_uri": "https://localhost:8080/",
          "height": 542
        },
        "outputId": "050b6c3e-6bdd-47f7-b1ec-1435ad1d00b3"
      },
      "source": [
        "correlationMatrix = pd.DataFrame(dataX).corr() \n",
        "\n",
        "f = plt.figure(figsize=(12, 6))\n",
        "plt.matshow(correlationMatrix, fignum=f.number)\n",
        "plt.xticks(range(dataX.shape[1]), dataX.columns, fontsize=14, rotation=75)\n",
        "plt.yticks(range(dataX.shape[1]), dataX.columns, fontsize=14)\n",
        "cb = plt.colorbar()\n",
        "cb.ax.tick_params(labelsize=14)\n",
        "plt.show()"
      ],
      "execution_count": 204,
      "outputs": [
        {
          "output_type": "display_data",
          "data": {
            "text/plain": [
              "<Figure size 864x432 with 2 Axes>"
            ],
            "image/png": "[encoded data removed]"
          },
          "metadata": {
            "needs_background": "light"
          }
        }
      ]
    },
    {
      "cell_type": "code",
      "metadata": {
        "id": "IGUBME7W-sWu",
        "colab": {
          "base_uri": "https://localhost:8080/",
          "height": 242
        },
        "outputId": "72e4bc41-350c-4765-ec64-ae34aea4b704"
      },
      "source": [
        "#we can also simply look at the table via pandas:\n",
        "correlationMatrix.style.background_gradient(cmap='viridis').set_precision(2)"
      ],
      "execution_count": 205,
      "outputs": [
        {
          "output_type": "stream",
          "name": "stderr",
          "text": [
            "/usr/local/lib/python3.7/dist-packages/ipykernel_launcher.py:2: FutureWarning: this method is deprecated in favour of `Styler.format(precision=..)`\n",
            "  \n"
          ]
        },
        {
          "output_type": "execute_result",
          "data": {
            "text/plain": [
              "<pandas.io.formats.style.Styler at 0x7f62986c2650>"
            ],
            "text/html": [
              "<style type=\"text/css\">\n",
              "#T_a21fc_row0_col0, #T_a21fc_row1_col1, #T_a21fc_row2_col2, #T_a21fc_row3_col3, #T_a21fc_row4_col4 {\n",
              "  background-color: #fde725;\n",
              "  color: #000000;\n",
              "}\n",
              "#T_a21fc_row0_col1 {\n",
              "  background-color: #453581;\n",
              "  color: #f1f1f1;\n",
              "}\n",
              "#T_a21fc_row0_col2 {\n",
              "  background-color: #31688e;\n",
              "  color: #f1f1f1;\n",
              "}\n",
              "#T_a21fc_row0_col3 {\n",
              "  background-color: #46307e;\n",
              "  color: #f1f1f1;\n",
              "}\n",
              "#T_a21fc_row0_col4, #T_a21fc_row1_col0, #T_a21fc_row1_col2, #T_a21fc_row2_col1, #T_a21fc_row4_col3 {\n",
              "  background-color: #440154;\n",
              "  color: #f1f1f1;\n",
              "}\n",
              "#T_a21fc_row1_col3 {\n",
              "  background-color: #481769;\n",
              "  color: #f1f1f1;\n",
              "}\n",
              "#T_a21fc_row1_col4 {\n",
              "  background-color: #7ad151;\n",
              "  color: #000000;\n",
              "}\n",
              "#T_a21fc_row2_col0 {\n",
              "  background-color: #3f4788;\n",
              "  color: #f1f1f1;\n",
              "}\n",
              "#T_a21fc_row2_col3, #T_a21fc_row2_col4 {\n",
              "  background-color: #440256;\n",
              "  color: #f1f1f1;\n",
              "}\n",
              "#T_a21fc_row3_col0 {\n",
              "  background-color: #32648e;\n",
              "  color: #f1f1f1;\n",
              "}\n",
              "#T_a21fc_row3_col1 {\n",
              "  background-color: #2c718e;\n",
              "  color: #f1f1f1;\n",
              "}\n",
              "#T_a21fc_row3_col2 {\n",
              "  background-color: #30698e;\n",
              "  color: #f1f1f1;\n",
              "}\n",
              "#T_a21fc_row3_col4 {\n",
              "  background-color: #423f85;\n",
              "  color: #f1f1f1;\n",
              "}\n",
              "#T_a21fc_row4_col0 {\n",
              "  background-color: #470d60;\n",
              "  color: #f1f1f1;\n",
              "}\n",
              "#T_a21fc_row4_col1 {\n",
              "  background-color: #93d741;\n",
              "  color: #000000;\n",
              "}\n",
              "#T_a21fc_row4_col2 {\n",
              "  background-color: #424086;\n",
              "  color: #f1f1f1;\n",
              "}\n",
              "</style>\n",
              "<table id=\"T_a21fc_\" class=\"dataframe\">\n",
              "  <thead>\n",
              "    <tr>\n",
              "      <th class=\"blank level0\" >&nbsp;</th>\n",
              "      <th class=\"col_heading level0 col0\" >frequency</th>\n",
              "      <th class=\"col_heading level0 col1\" >angle_attack</th>\n",
              "      <th class=\"col_heading level0 col2\" >chord_length</th>\n",
              "      <th class=\"col_heading level0 col3\" >Free-stream_velocity</th>\n",
              "      <th class=\"col_heading level0 col4\" >displacement_thickness</th>\n",
              "    </tr>\n",
              "  </thead>\n",
              "  <tbody>\n",
              "    <tr>\n",
              "      <th id=\"T_a21fc_level0_row0\" class=\"row_heading level0 row0\" >frequency</th>\n",
              "      <td id=\"T_a21fc_row0_col0\" class=\"data row0 col0\" >1.00</td>\n",
              "      <td id=\"T_a21fc_row0_col1\" class=\"data row0 col1\" >-0.27</td>\n",
              "      <td id=\"T_a21fc_row0_col2\" class=\"data row0 col2\" >-0.00</td>\n",
              "      <td id=\"T_a21fc_row0_col3\" class=\"data row0 col3\" >0.13</td>\n",
              "      <td id=\"T_a21fc_row0_col4\" class=\"data row0 col4\" >-0.23</td>\n",
              "    </tr>\n",
              "    <tr>\n",
              "      <th id=\"T_a21fc_level0_row1\" class=\"row_heading level0 row1\" >angle_attack</th>\n",
              "      <td id=\"T_a21fc_row1_col0\" class=\"data row1 col0\" >-0.27</td>\n",
              "      <td id=\"T_a21fc_row1_col1\" class=\"data row1 col1\" >1.00</td>\n",
              "      <td id=\"T_a21fc_row1_col2\" class=\"data row1 col2\" >-0.50</td>\n",
              "      <td id=\"T_a21fc_row1_col3\" class=\"data row1 col3\" >0.06</td>\n",
              "      <td id=\"T_a21fc_row1_col4\" class=\"data row1 col4\" >0.75</td>\n",
              "    </tr>\n",
              "    <tr>\n",
              "      <th id=\"T_a21fc_level0_row2\" class=\"row_heading level0 row2\" >chord_length</th>\n",
              "      <td id=\"T_a21fc_row2_col0\" class=\"data row2 col0\" >-0.00</td>\n",
              "      <td id=\"T_a21fc_row2_col1\" class=\"data row2 col1\" >-0.50</td>\n",
              "      <td id=\"T_a21fc_row2_col2\" class=\"data row2 col2\" >1.00</td>\n",
              "      <td id=\"T_a21fc_row2_col3\" class=\"data row2 col3\" >0.00</td>\n",
              "      <td id=\"T_a21fc_row2_col4\" class=\"data row2 col4\" >-0.22</td>\n",
              "    </tr>\n",
              "    <tr>\n",
              "      <th id=\"T_a21fc_level0_row3\" class=\"row_heading level0 row3\" >Free-stream_velocity</th>\n",
              "      <td id=\"T_a21fc_row3_col0\" class=\"data row3 col0\" >0.13</td>\n",
              "      <td id=\"T_a21fc_row3_col1\" class=\"data row3 col1\" >0.06</td>\n",
              "      <td id=\"T_a21fc_row3_col2\" class=\"data row3 col2\" >0.00</td>\n",
              "      <td id=\"T_a21fc_row3_col3\" class=\"data row3 col3\" >1.00</td>\n",
              "      <td id=\"T_a21fc_row3_col4\" class=\"data row3 col4\" >-0.00</td>\n",
              "    </tr>\n",
              "    <tr>\n",
              "      <th id=\"T_a21fc_level0_row4\" class=\"row_heading level0 row4\" >displacement_thickness</th>\n",
              "      <td id=\"T_a21fc_row4_col0\" class=\"data row4 col0\" >-0.23</td>\n",
              "      <td id=\"T_a21fc_row4_col1\" class=\"data row4 col1\" >0.75</td>\n",
              "      <td id=\"T_a21fc_row4_col2\" class=\"data row4 col2\" >-0.22</td>\n",
              "      <td id=\"T_a21fc_row4_col3\" class=\"data row4 col3\" >-0.00</td>\n",
              "      <td id=\"T_a21fc_row4_col4\" class=\"data row4 col4\" >1.00</td>\n",
              "    </tr>\n",
              "  </tbody>\n",
              "</table>\n"
            ]
          },
          "metadata": {},
          "execution_count": 205
        }
      ]
    },
    {
      "cell_type": "markdown",
      "metadata": {
        "id": "rspAF-SrgD1k"
      },
      "source": [
        "What do these numbers mean? \n",
        "\n",
        "When it is close to 1, it means that there is a strong positive correlation; At the other extreme; –1, it implies that there is a strong negative correlation. For more:\n",
        "\n",
        "https://en.wikipedia.org/wiki/Correlation_and_dependence"
      ]
    },
    {
      "cell_type": "markdown",
      "metadata": {
        "id": "HNMZKaxmUonS"
      },
      "source": [
        "## Normalizing the data\n",
        "We will normalize the data before feeding it into the ML models. This is very critical particularly for SVM (see Lecture notes)."
      ]
    },
    {
      "cell_type": "code",
      "metadata": {
        "id": "cqr-ZdhsUyih",
        "colab": {
          "base_uri": "https://localhost:8080/",
          "height": 300
        },
        "outputId": "df54331a-38d8-4938-cd55-b12e31463561"
      },
      "source": [
        "#Rescaling the data\n",
        "featuresToScale = dataX.columns\n",
        "sX = pp.StandardScaler(copy=True)\n",
        "dataX.loc[:,featuresToScale] = sX.fit_transform(dataX[featuresToScale])\n",
        "#Looking into the statistics again:\n",
        "dataX.describe()"
      ],
      "execution_count": 206,
      "outputs": [
        {
          "output_type": "execute_result",
          "data": {
            "text/plain": [
              "          frequency  angle_attack  chord_length  Free-stream_velocity  \\\n",
              "count  1.503000e+03  1.503000e+03  1.503000e+03          1.503000e+03   \n",
              "mean   8.745869e-17  7.563995e-17 -1.512799e-16         -5.791183e-16   \n",
              "std    1.000333e+00  1.000333e+00  1.000333e+00          1.000333e+00   \n",
              "min   -8.524068e-01 -1.146403e+00 -1.188629e+00         -1.230809e+00   \n",
              "25%   -6.620227e-01 -8.083458e-01 -9.169992e-01         -7.233448e-01   \n",
              "50%   -4.081773e-01 -2.336486e-01 -3.737395e-01         -7.233448e-01   \n",
              "75%    3.533590e-01  5.269801e-01  9.844097e-01          1.312935e+00   \n",
              "max    5.430267e+00  2.606032e+00  1.799299e+00          1.312935e+00   \n",
              "\n",
              "       displacement_thickness  \n",
              "count            1.503000e+03  \n",
              "mean            -3.781997e-17  \n",
              "std              1.000333e+00  \n",
              "min             -8.169263e-01  \n",
              "25%             -6.545613e-01  \n",
              "50%             -4.702979e-01  \n",
              "75%              3.374462e-01  \n",
              "max              3.595917e+00  "
            ],
            "text/html": [
              "\n",
              "  <div id=\"df-c22d5cb5-a56e-46b7-bb18-38eb9c67079d\">\n",
              "    <div class=\"colab-df-container\">\n",
              "      <div>\n",
              "<style scoped>\n",
              "    .dataframe tbody tr th:only-of-type {\n",
              "        vertical-align: middle;\n",
              "    }\n",
              "\n",
              "    .dataframe tbody tr th {\n",
              "        vertical-align: top;\n",
              "    }\n",
              "\n",
              "    .dataframe thead th {\n",
              "        text-align: right;\n",
              "    }\n",
              "</style>\n",
              "<table border=\"1\" class=\"dataframe\">\n",
              "  <thead>\n",
              "    <tr style=\"text-align: right;\">\n",
              "      <th></th>\n",
              "      <th>frequency</th>\n",
              "      <th>angle_attack</th>\n",
              "      <th>chord_length</th>\n",
              "      <th>Free-stream_velocity</th>\n",
              "      <th>displacement_thickness</th>\n",
              "    </tr>\n",
              "  </thead>\n",
              "  <tbody>\n",
              "    <tr>\n",
              "      <th>count</th>\n",
              "      <td>1.503000e+03</td>\n",
              "      <td>1.503000e+03</td>\n",
              "      <td>1.503000e+03</td>\n",
              "      <td>1.503000e+03</td>\n",
              "      <td>1.503000e+03</td>\n",
              "    </tr>\n",
              "    <tr>\n",
              "      <th>mean</th>\n",
              "      <td>8.745869e-17</td>\n",
              "      <td>7.563995e-17</td>\n",
              "      <td>-1.512799e-16</td>\n",
              "      <td>-5.791183e-16</td>\n",
              "      <td>-3.781997e-17</td>\n",
              "    </tr>\n",
              "    <tr>\n",
              "      <th>std</th>\n",
              "      <td>1.000333e+00</td>\n",
              "      <td>1.000333e+00</td>\n",
              "      <td>1.000333e+00</td>\n",
              "      <td>1.000333e+00</td>\n",
              "      <td>1.000333e+00</td>\n",
              "    </tr>\n",
              "    <tr>\n",
              "      <th>min</th>\n",
              "      <td>-8.524068e-01</td>\n",
              "      <td>-1.146403e+00</td>\n",
              "      <td>-1.188629e+00</td>\n",
              "      <td>-1.230809e+00</td>\n",
              "      <td>-8.169263e-01</td>\n",
              "    </tr>\n",
              "    <tr>\n",
              "      <th>25%</th>\n",
              "      <td>-6.620227e-01</td>\n",
              "      <td>-8.083458e-01</td>\n",
              "      <td>-9.169992e-01</td>\n",
              "      <td>-7.233448e-01</td>\n",
              "      <td>-6.545613e-01</td>\n",
              "    </tr>\n",
              "    <tr>\n",
              "      <th>50%</th>\n",
              "      <td>-4.081773e-01</td>\n",
              "      <td>-2.336486e-01</td>\n",
              "      <td>-3.737395e-01</td>\n",
              "      <td>-7.233448e-01</td>\n",
              "      <td>-4.702979e-01</td>\n",
              "    </tr>\n",
              "    <tr>\n",
              "      <th>75%</th>\n",
              "      <td>3.533590e-01</td>\n",
              "      <td>5.269801e-01</td>\n",
              "      <td>9.844097e-01</td>\n",
              "      <td>1.312935e+00</td>\n",
              "      <td>3.374462e-01</td>\n",
              "    </tr>\n",
              "    <tr>\n",
              "      <th>max</th>\n",
              "      <td>5.430267e+00</td>\n",
              "      <td>2.606032e+00</td>\n",
              "      <td>1.799299e+00</td>\n",
              "      <td>1.312935e+00</td>\n",
              "      <td>3.595917e+00</td>\n",
              "    </tr>\n",
              "  </tbody>\n",
              "</table>\n",
              "</div>\n",
              "      <button class=\"colab-df-convert\" onclick=\"convertToInteractive('df-c22d5cb5-a56e-46b7-bb18-38eb9c67079d')\"\n",
              "              title=\"Convert this dataframe to an interactive table.\"\n",
              "              style=\"display:none;\">\n",
              "        \n",
              "  <svg xmlns=\"http://www.w3.org/2000/svg\" height=\"24px\"viewBox=\"0 0 24 24\"\n",
              "       width=\"24px\">\n",
              "    <path d=\"M0 0h24v24H0V0z\" fill=\"none\"/>\n",
              "    <path d=\"M18.56 5.44l.94 2.06.94-2.06 2.06-.94-2.06-.94-.94-2.06-.94 2.06-2.06.94zm-11 1L8.5 8.5l.94-2.06 2.06-.94-2.06-.94L8.5 2.5l-.94 2.06-2.06.94zm10 10l.94 2.06.94-2.06 2.06-.94-2.06-.94-.94-2.06-.94 2.06-2.06.94z\"/><path d=\"M17.41 7.96l-1.37-1.37c-.4-.4-.92-.59-1.43-.59-.52 0-1.04.2-1.43.59L10.3 9.45l-7.72 7.72c-.78.78-.78 2.05 0 2.83L4 21.41c.39.39.9.59 1.41.59.51 0 1.02-.2 1.41-.59l7.78-7.78 2.81-2.81c.8-.78.8-2.07 0-2.86zM5.41 20L4 18.59l7.72-7.72 1.47 1.35L5.41 20z\"/>\n",
              "  </svg>\n",
              "      </button>\n",
              "      \n",
              "  <style>\n",
              "    .colab-df-container {\n",
              "      display:flex;\n",
              "      flex-wrap:wrap;\n",
              "      gap: 12px;\n",
              "    }\n",
              "\n",
              "    .colab-df-convert {\n",
              "      background-color: #E8F0FE;\n",
              "      border: none;\n",
              "      border-radius: 50%;\n",
              "      cursor: pointer;\n",
              "      display: none;\n",
              "      fill: #1967D2;\n",
              "      height: 32px;\n",
              "      padding: 0 0 0 0;\n",
              "      width: 32px;\n",
              "    }\n",
              "\n",
              "    .colab-df-convert:hover {\n",
              "      background-color: #E2EBFA;\n",
              "      box-shadow: 0px 1px 2px rgba(60, 64, 67, 0.3), 0px 1px 3px 1px rgba(60, 64, 67, 0.15);\n",
              "      fill: #174EA6;\n",
              "    }\n",
              "\n",
              "    [theme=dark] .colab-df-convert {\n",
              "      background-color: #3B4455;\n",
              "      fill: #D2E3FC;\n",
              "    }\n",
              "\n",
              "    [theme=dark] .colab-df-convert:hover {\n",
              "      background-color: #434B5C;\n",
              "      box-shadow: 0px 1px 3px 1px rgba(0, 0, 0, 0.15);\n",
              "      filter: drop-shadow(0px 1px 2px rgba(0, 0, 0, 0.3));\n",
              "      fill: #FFFFFF;\n",
              "    }\n",
              "  </style>\n",
              "\n",
              "      <script>\n",
              "        const buttonEl =\n",
              "          document.querySelector('#df-c22d5cb5-a56e-46b7-bb18-38eb9c67079d button.colab-df-convert');\n",
              "        buttonEl.style.display =\n",
              "          google.colab.kernel.accessAllowed ? 'block' : 'none';\n",
              "\n",
              "        async function convertToInteractive(key) {\n",
              "          const element = document.querySelector('#df-c22d5cb5-a56e-46b7-bb18-38eb9c67079d');\n",
              "          const dataTable =\n",
              "            await google.colab.kernel.invokeFunction('convertToInteractive',\n",
              "                                                     [key], {});\n",
              "          if (!dataTable) return;\n",
              "\n",
              "          const docLinkHtml = 'Like what you see? Visit the ' +\n",
              "            '<a target=\"_blank\" href=https://colab.research.google.com/notebooks/data_table.ipynb>data table notebook</a>'\n",
              "            + ' to learn more about interactive tables.';\n",
              "          element.innerHTML = '';\n",
              "          dataTable['output_type'] = 'display_data';\n",
              "          await google.colab.output.renderOutput(dataTable, element);\n",
              "          const docLink = document.createElement('div');\n",
              "          docLink.innerHTML = docLinkHtml;\n",
              "          element.appendChild(docLink);\n",
              "        }\n",
              "      </script>\n",
              "    </div>\n",
              "  </div>\n",
              "  "
            ]
          },
          "metadata": {},
          "execution_count": 206
        }
      ]
    },
    {
      "cell_type": "markdown",
      "metadata": {
        "id": "BbQM54yjyv2q"
      },
      "source": [
        "## Preparing the Dataset for Model\n",
        "\n",
        "We need to divide our entire dataset into fractions so that we have a training set\n",
        "from which the machine learning algorithm learns. We also need another set to test the predictions of the ML algorithm. There is no golden rule here: you need to consider the size of your entire dataset. Sometimes 5% is more than enough, sometimes we need to divide 1/3 to have enough test samples. \n",
        "\n",
        "In our current examples, number of cases is quite low for a ML project. Therefore, lets leave sufficient number of test cases:\n",
        "\n",
        "\n",
        "\n"
      ]
    },
    {
      "cell_type": "code",
      "metadata": {
        "id": "O6oPPAZNXcvW"
      },
      "source": [
        "X_train, X_test, y_train, y_test = train_test_split(dataX,\n",
        "dataY, test_size=0.25,\n",
        "random_state=2022)"
      ],
      "execution_count": 207,
      "outputs": []
    },
    {
      "cell_type": "markdown",
      "metadata": {
        "id": "wZVi7kzaX3Zg"
      },
      "source": [
        "Here we have frozen the randomness to make the results reproducible. Otherwise, the results would change at every run. Notice that in classification, we divide the data in a way that labels are distributed in an unbiased way."
      ]
    },
    {
      "cell_type": "markdown",
      "metadata": {
        "id": "FHL6zcroZK5E"
      },
      "source": [
        "## Cross-Validation\n",
        "Another rule of thumb is to split\n",
        "the training set into a sub-training sets and a validation set before seeing its true performance on the test set (25% of the dataset reserved above). This policy is called k-fold cross-validation. The training data is divided into k fractions, trained over (k-1) fractions and tested on the k_th. Here the idea is to increase the generalization of the model as much as possible.\n",
        "\n",
        "https://scikit-learn.org/stable/modules/cross_validation.html"
      ]
    },
    {
      "cell_type": "code",
      "metadata": {
        "id": "BYtZgqq6aCV1"
      },
      "source": [
        "k_fold = KFold(n_splits=5, shuffle=True, random_state=2022)"
      ],
      "execution_count": 208,
      "outputs": []
    },
    {
      "cell_type": "markdown",
      "metadata": {
        "id": "oTsoPx2HX7MY"
      },
      "source": [
        "## How to calculate the performance?\n",
        "In any supervised approach, we need to select a cost function to compare ML predictions with the true values (labels). The\n",
        "ML algorithm will minimize the cost function by changing its fitting parameters. You should spend some time to define what could be the best cost function for my dataset and my objective. \n",
        "\n",
        "In our case, we are dealing with regression and we can use it with built-in error functions:\n",
        "\n",
        "https://scikit-learn.org/stable/modules/model_evaluation.html#scoring-parameter\n",
        "\n"
      ]
    },
    {
      "cell_type": "markdown",
      "metadata": {
        "id": "as7WlrThQZm0"
      },
      "source": [
        "# Regularized Linear Models: Lasso\n",
        "\n",
        "Overfitting is a common problem in supervised learning. One way to reduce overfitting is to regularize the model by deploying constraints. \n",
        "\n",
        "Least Absolute Shrinkage and Selection Operator Regression -- Lasso Regression -- is a regularized version of the Linear Regression approach. In this model, we  add a regularization term (alpha) to the cost function (i.e. mean square error). It is useful in some contexts due to its tendency to prefer solutions with fewer non-zero coefficients, effectively reducing the number of features upon which the given solution is dependent.  \n",
        "\n",
        "Lets try it on our example!\n",
        "\n",
        "https://scikit-learn.org/stable/modules/generated/sklearn.linear_model.Lasso.html#sklearn.linear_model.Lasso"
      ]
    },
    {
      "cell_type": "code",
      "metadata": {
        "id": "e7hjGEckR8Vb"
      },
      "source": [
        "# Hyperparameters:\n",
        "alpha=1.0 #alpha = 0 is equivalent to an ordinary least square but it is not recommended to put zero here!\n",
        "normalize=False # removed in the recent version. you should do it manually; for instance sklearn.preprocessing.StandardScaler\n",
        "max_iter=2000\n",
        "tol=0.00001\n",
        "random_state = 2022\n",
        "selection='cyclic' # (setting to ‘random’) often leads to significantly faster convergence especially when tol is higher than 1e-4.\n",
        "\n",
        "lasso = Lasso(alpha=alpha, max_iter = max_iter, tol = tol, random_state = random_state, selection = selection)"
      ],
      "execution_count": 209,
      "outputs": []
    },
    {
      "cell_type": "code",
      "metadata": {
        "id": "4gibo9DaTgOp",
        "colab": {
          "base_uri": "https://localhost:8080/"
        },
        "outputId": "c9280ffb-fba1-46c3-ef7e-6fe88f549423"
      },
      "source": [
        "# Model Training:\n",
        "#-----------------------------------------------------------------------------\n",
        "#Lists for storing scores\n",
        "trainingScores = []\n",
        "cvScores = []\n",
        "\n",
        "#DataFrame is a 2-dimensional labeled data structure. You can think of it like a spreadsheet.\n",
        "#Indexing in pandas means simply selecting particular rows and columns of data from a DataFrame.\n",
        "#It is  also known as Subset Selection.\n",
        "predictionsBasedOnKFolds = pd.DataFrame(data=[],index=y_train.index,columns=[0,1])\n",
        "model = lasso\n",
        "\n",
        "#kfold.split will generate indices to split data into training and test set (cv):\n",
        "for train_index, cv_index in k_fold.split(np.zeros(len(X_train)),y_train.ravel()):\n",
        "\n",
        "  #'iloc' can be used when the user doesn’t know the index label:\n",
        "  #Here we are filtering the data based on indices. Data is divided as 902/225.\n",
        "  X_train_fold, X_cv_fold = X_train.iloc[train_index,:], X_train.iloc[cv_index,:]\n",
        "  y_train_fold, y_cv_fold = y_train.iloc[train_index], y_train.iloc[cv_index]\n",
        "\n",
        "  #Fitting the model according to given data:\n",
        "  #Note that model refers to Lasso.\n",
        "  model.fit(X_train_fold, y_train_fold)\n",
        "\n",
        "  #Lets check how good is the fitting.\n",
        "  #'score' returns the coefficient of determination R^2 of the prediction. It is defined as (1 - u/v), \n",
        "  # where u is the residual sum of squares ((y_true - y_pred) ** 2).sum() and v is the total sum of squares ((y_true - y_true.mean()) ** 2).sum(). \n",
        "  #The best possible score is 1.0 and it can be negative (because the model can be arbitrarily worse). \n",
        "  \n",
        "  # We will first look in the training dataset:\n",
        "  scoreTraining = model.score(X_train_fold, y_train_fold)\n",
        "  #Saving our analysis on the list:\n",
        "  trainingScores.append(scoreTraining)\n",
        "\n",
        "  #Lets see how good it is on CV dataset:\n",
        "  scoreCV = model.score(X_cv_fold, y_cv_fold)\n",
        "  #Saving our analysis on the list:\n",
        "  cvScores.append(scoreCV)\n",
        "\n",
        "  #printing the results:\n",
        "  print('Training Score: ', scoreTraining)\n",
        "  print('CV Score: ', scoreCV)\n",
        "\n",
        "#Lets see the overall score for the entire training set (1127)\n",
        "scoreLasso = model.score(X_train,y_train)\n",
        "print('-----------------------------------')\n",
        "print('Lasso Score: ', scoreLasso)\n",
        "print('-----------------------------------')\n"
      ],
      "execution_count": 210,
      "outputs": [
        {
          "output_type": "stream",
          "name": "stdout",
          "text": [
            "Training Score:  0.3661376450138647\n",
            "CV Score:  0.33633635671485906\n",
            "Training Score:  0.35779465042003933\n",
            "CV Score:  0.35290168999999383\n",
            "Training Score:  0.3709209641564105\n",
            "CV Score:  0.3455465513469158\n",
            "Training Score:  0.3619667556342827\n",
            "CV Score:  0.3751140008630025\n",
            "Training Score:  0.3582207103035403\n",
            "CV Score:  0.3664318724315556\n",
            "-----------------------------------\n",
            "Lasso Score:  0.359807263998161\n",
            "-----------------------------------\n"
          ]
        }
      ]
    },
    {
      "cell_type": "code",
      "metadata": {
        "id": "ka7pIXhycxEA",
        "colab": {
          "base_uri": "https://localhost:8080/"
        },
        "outputId": "efc02843-9615-47c7-9581-d1cc345f66bc"
      },
      "source": [
        "# parameter vector (w in the cost function formula):\n",
        "print(model.coef_)"
      ],
      "execution_count": 211,
      "outputs": [
        {
          "output_type": "stream",
          "name": "stdout",
          "text": [
            "[-2.16342176 -0.         -1.1545187   0.10639539 -1.90394538]\n"
          ]
        }
      ]
    },
    {
      "cell_type": "code",
      "metadata": {
        "id": "Z15w6JPovdE4",
        "colab": {
          "base_uri": "https://localhost:8080/",
          "height": 81
        },
        "outputId": "4b73e02b-5966-4748-d63f-bc9d84e5f769"
      },
      "source": [
        "# Test Problem:\n",
        "test_data = X_test.sample(1,random_state=11).copy()\n",
        "test_data"
      ],
      "execution_count": 212,
      "outputs": [
        {
          "output_type": "execute_result",
          "data": {
            "text/plain": [
              "    frequency  angle_attack  chord_length  Free-stream_velocity  \\\n",
              "39  -0.281255     -1.146403      1.799299             -0.723345   \n",
              "\n",
              "    displacement_thickness  \n",
              "39               -0.611485  "
            ],
            "text/html": [
              "\n",
              "  <div id=\"df-71ce58ed-3a1b-427a-906a-fe8c9921b694\">\n",
              "    <div class=\"colab-df-container\">\n",
              "      <div>\n",
              "<style scoped>\n",
              "    .dataframe tbody tr th:only-of-type {\n",
              "        vertical-align: middle;\n",
              "    }\n",
              "\n",
              "    .dataframe tbody tr th {\n",
              "        vertical-align: top;\n",
              "    }\n",
              "\n",
              "    .dataframe thead th {\n",
              "        text-align: right;\n",
              "    }\n",
              "</style>\n",
              "<table border=\"1\" class=\"dataframe\">\n",
              "  <thead>\n",
              "    <tr style=\"text-align: right;\">\n",
              "      <th></th>\n",
              "      <th>frequency</th>\n",
              "      <th>angle_attack</th>\n",
              "      <th>chord_length</th>\n",
              "      <th>Free-stream_velocity</th>\n",
              "      <th>displacement_thickness</th>\n",
              "    </tr>\n",
              "  </thead>\n",
              "  <tbody>\n",
              "    <tr>\n",
              "      <th>39</th>\n",
              "      <td>-0.281255</td>\n",
              "      <td>-1.146403</td>\n",
              "      <td>1.799299</td>\n",
              "      <td>-0.723345</td>\n",
              "      <td>-0.611485</td>\n",
              "    </tr>\n",
              "  </tbody>\n",
              "</table>\n",
              "</div>\n",
              "      <button class=\"colab-df-convert\" onclick=\"convertToInteractive('df-71ce58ed-3a1b-427a-906a-fe8c9921b694')\"\n",
              "              title=\"Convert this dataframe to an interactive table.\"\n",
              "              style=\"display:none;\">\n",
              "        \n",
              "  <svg xmlns=\"http://www.w3.org/2000/svg\" height=\"24px\"viewBox=\"0 0 24 24\"\n",
              "       width=\"24px\">\n",
              "    <path d=\"M0 0h24v24H0V0z\" fill=\"none\"/>\n",
              "    <path d=\"M18.56 5.44l.94 2.06.94-2.06 2.06-.94-2.06-.94-.94-2.06-.94 2.06-2.06.94zm-11 1L8.5 8.5l.94-2.06 2.06-.94-2.06-.94L8.5 2.5l-.94 2.06-2.06.94zm10 10l.94 2.06.94-2.06 2.06-.94-2.06-.94-.94-2.06-.94 2.06-2.06.94z\"/><path d=\"M17.41 7.96l-1.37-1.37c-.4-.4-.92-.59-1.43-.59-.52 0-1.04.2-1.43.59L10.3 9.45l-7.72 7.72c-.78.78-.78 2.05 0 2.83L4 21.41c.39.39.9.59 1.41.59.51 0 1.02-.2 1.41-.59l7.78-7.78 2.81-2.81c.8-.78.8-2.07 0-2.86zM5.41 20L4 18.59l7.72-7.72 1.47 1.35L5.41 20z\"/>\n",
              "  </svg>\n",
              "      </button>\n",
              "      \n",
              "  <style>\n",
              "    .colab-df-container {\n",
              "      display:flex;\n",
              "      flex-wrap:wrap;\n",
              "      gap: 12px;\n",
              "    }\n",
              "\n",
              "    .colab-df-convert {\n",
              "      background-color: #E8F0FE;\n",
              "      border: none;\n",
              "      border-radius: 50%;\n",
              "      cursor: pointer;\n",
              "      display: none;\n",
              "      fill: #1967D2;\n",
              "      height: 32px;\n",
              "      padding: 0 0 0 0;\n",
              "      width: 32px;\n",
              "    }\n",
              "\n",
              "    .colab-df-convert:hover {\n",
              "      background-color: #E2EBFA;\n",
              "      box-shadow: 0px 1px 2px rgba(60, 64, 67, 0.3), 0px 1px 3px 1px rgba(60, 64, 67, 0.15);\n",
              "      fill: #174EA6;\n",
              "    }\n",
              "\n",
              "    [theme=dark] .colab-df-convert {\n",
              "      background-color: #3B4455;\n",
              "      fill: #D2E3FC;\n",
              "    }\n",
              "\n",
              "    [theme=dark] .colab-df-convert:hover {\n",
              "      background-color: #434B5C;\n",
              "      box-shadow: 0px 1px 3px 1px rgba(0, 0, 0, 0.15);\n",
              "      filter: drop-shadow(0px 1px 2px rgba(0, 0, 0, 0.3));\n",
              "      fill: #FFFFFF;\n",
              "    }\n",
              "  </style>\n",
              "\n",
              "      <script>\n",
              "        const buttonEl =\n",
              "          document.querySelector('#df-71ce58ed-3a1b-427a-906a-fe8c9921b694 button.colab-df-convert');\n",
              "        buttonEl.style.display =\n",
              "          google.colab.kernel.accessAllowed ? 'block' : 'none';\n",
              "\n",
              "        async function convertToInteractive(key) {\n",
              "          const element = document.querySelector('#df-71ce58ed-3a1b-427a-906a-fe8c9921b694');\n",
              "          const dataTable =\n",
              "            await google.colab.kernel.invokeFunction('convertToInteractive',\n",
              "                                                     [key], {});\n",
              "          if (!dataTable) return;\n",
              "\n",
              "          const docLinkHtml = 'Like what you see? Visit the ' +\n",
              "            '<a target=\"_blank\" href=https://colab.research.google.com/notebooks/data_table.ipynb>data table notebook</a>'\n",
              "            + ' to learn more about interactive tables.';\n",
              "          element.innerHTML = '';\n",
              "          dataTable['output_type'] = 'display_data';\n",
              "          await google.colab.output.renderOutput(dataTable, element);\n",
              "          const docLink = document.createElement('div');\n",
              "          docLink.innerHTML = docLinkHtml;\n",
              "          element.appendChild(docLink);\n",
              "        }\n",
              "      </script>\n",
              "    </div>\n",
              "  </div>\n",
              "  "
            ]
          },
          "metadata": {},
          "execution_count": 212
        }
      ]
    },
    {
      "cell_type": "code",
      "source": [
        "test_sample_y =y_test.sample(1,random_state=11).copy()\n",
        "print(test_sample_y)"
      ],
      "metadata": {
        "colab": {
          "base_uri": "https://localhost:8080/"
        },
        "id": "KauRHggFOPpI",
        "outputId": "7b6288fc-3a1f-45da-d6f9-20587a054498"
      },
      "execution_count": 213,
      "outputs": [
        {
          "output_type": "stream",
          "name": "stdout",
          "text": [
            "39    123.689\n",
            "Name: sound_pressure, dtype: float64\n"
          ]
        }
      ]
    },
    {
      "cell_type": "code",
      "metadata": {
        "id": "39ay4L3jxOks",
        "colab": {
          "base_uri": "https://localhost:8080/"
        },
        "outputId": "98543fd7-dea8-4b8c-cde7-da670fa26ecb"
      },
      "source": [
        "# Calling model for the prediction:\n",
        "lasso.predict(test_data)"
      ],
      "execution_count": 214,
      "outputs": [
        {
          "output_type": "execute_result",
          "data": {
            "text/plain": [
              "array([124.50370567])"
            ]
          },
          "metadata": {},
          "execution_count": 214
        }
      ]
    },
    {
      "cell_type": "code",
      "source": [
        " # Calling trained model for predictions:\n",
        "Y_test_predictions = pd.Series(lasso.predict(X_test).flatten(),index=X_test.index)\n",
        "#Visualization of the accuracy:\n",
        "a = plt.axes(aspect='equal')\n",
        "plt.scatter(y_test, Y_test_predictions)\n",
        "plt.xlabel('True Pressure Values')\n",
        "plt.ylabel('Predicted Pressures')\n",
        "lims = [100, 140]\n",
        "plt.xlim(lims), plt.ylim(lims)\n",
        "plt.plot(lims, lims)"
      ],
      "metadata": {
        "colab": {
          "base_uri": "https://localhost:8080/",
          "height": 301
        },
        "outputId": "635a5a87-b4f4-46c7-95a2-cf1011519ad6",
        "id": "SA__O9SkOovk"
      },
      "execution_count": 215,
      "outputs": [
        {
          "output_type": "execute_result",
          "data": {
            "text/plain": [
              "[<matplotlib.lines.Line2D at 0x7f6298634150>]"
            ]
          },
          "metadata": {},
          "execution_count": 215
        },
        {
          "output_type": "display_data",
          "data": {
            "text/plain": [
              "<Figure size 432x288 with 1 Axes>"
            ],
            "image/png": "[encoded data removed]"
          },
          "metadata": {
            "needs_background": "light"
          }
        }
      ]
    },
    {
      "cell_type": "code",
      "source": [
        " # Calculating the error variations:\n",
        "error_lasso = (Y_test_predictions - y_test)/y_test*100\n",
        "plt.hist(error_lasso, bins=20)\n",
        "plt.xlabel('Predicted Relative % Error')\n",
        "plt.ylabel('Count')"
      ],
      "metadata": {
        "colab": {
          "base_uri": "https://localhost:8080/",
          "height": 297
        },
        "outputId": "7b428222-d514-40c6-97de-e783c1d19fb5",
        "id": "4T5_euXhOovn"
      },
      "execution_count": 216,
      "outputs": [
        {
          "output_type": "execute_result",
          "data": {
            "text/plain": [
              "Text(0, 0.5, 'Count')"
            ]
          },
          "metadata": {},
          "execution_count": 216
        },
        {
          "output_type": "display_data",
          "data": {
            "text/plain": [
              "<Figure size 432x288 with 1 Axes>"
            ],
            "image/png": "[encoded data removed]"
          },
          "metadata": {
            "needs_background": "light"
          }
        }
      ]
    },
    {
      "cell_type": "markdown",
      "metadata": {
        "id": "wPicLm0Rbu0S"
      },
      "source": [
        "## Tuning Hyperparameters\n",
        "\n",
        "Here you can see that our model fails! So, is it possible to improve the model outcome? We can tune the hyperparameter alpha and use grid search to sweep possible values.\n",
        "\n",
        "For that purpose, we will use GridSearchCV of scikit learn: we will give the list of hyperparameters and it will use CV to test possible combinations. Here we only have one parameter to play with."
      ]
    },
    {
      "cell_type": "code",
      "metadata": {
        "id": "YFNJCi4Te0Zg",
        "colab": {
          "base_uri": "https://localhost:8080/"
        },
        "outputId": "4aa9f54d-0938-4915-dc9a-a2590fdbe39b"
      },
      "source": [
        "# Looking for the best alpha value:\n",
        "alphas = np.logspace(-4, 0, 50)\n",
        "grid = [{'alpha': alphas}]\n",
        "#Setting the search:\n",
        "# For scoring: https://scikit-learn.org/stable/modules/model_evaluation.html#scoring-parameter\n",
        "gridSearch = GridSearchCV(lasso, grid, scoring='r2', cv=k_fold, refit=True)\n",
        "gridSearch.fit(X_train, y_train)\n",
        "results = gridSearch.cv_results_\n",
        "print('Best R^2 obtained:', gridSearch.best_score_)\n",
        "print('alpha value for the best case:', gridSearch.best_estimator_.alpha)"
      ],
      "execution_count": 226,
      "outputs": [
        {
          "output_type": "stream",
          "name": "stdout",
          "text": [
            "Best R^2 obtained: 0.5133999605352434\n",
            "alpha value for the best case: 0.005179474679231213\n"
          ]
        }
      ]
    },
    {
      "cell_type": "code",
      "metadata": {
        "id": "S7cBggnjov52",
        "colab": {
          "base_uri": "https://localhost:8080/"
        },
        "outputId": "b380f635-b410-4cd6-ee25-364fb49e38fd"
      },
      "source": [
        "#Saving the best parameters back to model:\n",
        "lasso = gridSearch.best_estimator_\n",
        "#Alpha value of the model:\n",
        "lasso.alpha"
      ],
      "execution_count": 227,
      "outputs": [
        {
          "output_type": "execute_result",
          "data": {
            "text/plain": [
              "0.005179474679231213"
            ]
          },
          "metadata": {},
          "execution_count": 227
        }
      ]
    },
    {
      "cell_type": "code",
      "metadata": {
        "id": "S0uA5yaNoTxj",
        "colab": {
          "base_uri": "https://localhost:8080/"
        },
        "outputId": "868810ec-8a6f-4243-c69b-9e5d28272f9c"
      },
      "source": [
        "#Lets check the keys to plot them:\n",
        "results.keys()"
      ],
      "execution_count": 228,
      "outputs": [
        {
          "output_type": "execute_result",
          "data": {
            "text/plain": [
              "dict_keys(['mean_fit_time', 'std_fit_time', 'mean_score_time', 'std_score_time', 'param_alpha', 'params', 'split0_test_score', 'split1_test_score', 'split2_test_score', 'split3_test_score', 'split4_test_score', 'mean_test_score', 'std_test_score', 'rank_test_score'])"
            ]
          },
          "metadata": {},
          "execution_count": 228
        }
      ]
    },
    {
      "cell_type": "code",
      "metadata": {
        "id": "a9EpYkhGk9F6",
        "colab": {
          "base_uri": "https://localhost:8080/",
          "height": 295
        },
        "outputId": "ebc14104-0bbc-4bab-eed0-4542ca8944b6"
      },
      "source": [
        "# Plotting the results\n",
        "plt.figure(figsize=(8, 4))\n",
        "plt.title(\"GridSearchCV evaluating using multiple alpha values\",\n",
        "          fontsize=12)\n",
        "plt.xlabel(\"alpha\")\n",
        "plt.ylabel(\"Score\")\n",
        "# Get the regular numpy array from the MaskedArray\n",
        "X_axis = np.array(results['param_alpha'].data, dtype=float)\n",
        "Y_axis = np.array(results['mean_test_score'].data, dtype=float)\n",
        "plt.plot(X_axis,Y_axis)\n",
        "plt.show()"
      ],
      "execution_count": 229,
      "outputs": [
        {
          "output_type": "display_data",
          "data": {
            "text/plain": [
              "<Figure size 576x288 with 1 Axes>"
            ],
            "image/png": "[encoded data removed]"
          },
          "metadata": {
            "needs_background": "light"
          }
        }
      ]
    },
    {
      "cell_type": "markdown",
      "metadata": {
        "id": "V2YArqs1txG-"
      },
      "source": [
        "It looks like the smallest regularization is better. This is not the usual case though!"
      ]
    },
    {
      "cell_type": "code",
      "metadata": {
        "id": "uLejtAP9xk5b",
        "colab": {
          "base_uri": "https://localhost:8080/",
          "height": 81
        },
        "outputId": "45ffe2ea-a3ac-48c0-cb7b-2ef9d7d1c252"
      },
      "source": [
        "# Test Problem:\n",
        "test_data"
      ],
      "execution_count": 230,
      "outputs": [
        {
          "output_type": "execute_result",
          "data": {
            "text/plain": [
              "    frequency  angle_attack  chord_length  Free-stream_velocity  \\\n",
              "39  -0.281255     -1.146403      1.799299             -0.723345   \n",
              "\n",
              "    displacement_thickness  \n",
              "39               -0.611485  "
            ],
            "text/html": [
              "\n",
              "  <div id=\"df-7e34102b-bae8-4974-95dd-9b855c08c9e9\">\n",
              "    <div class=\"colab-df-container\">\n",
              "      <div>\n",
              "<style scoped>\n",
              "    .dataframe tbody tr th:only-of-type {\n",
              "        vertical-align: middle;\n",
              "    }\n",
              "\n",
              "    .dataframe tbody tr th {\n",
              "        vertical-align: top;\n",
              "    }\n",
              "\n",
              "    .dataframe thead th {\n",
              "        text-align: right;\n",
              "    }\n",
              "</style>\n",
              "<table border=\"1\" class=\"dataframe\">\n",
              "  <thead>\n",
              "    <tr style=\"text-align: right;\">\n",
              "      <th></th>\n",
              "      <th>frequency</th>\n",
              "      <th>angle_attack</th>\n",
              "      <th>chord_length</th>\n",
              "      <th>Free-stream_velocity</th>\n",
              "      <th>displacement_thickness</th>\n",
              "    </tr>\n",
              "  </thead>\n",
              "  <tbody>\n",
              "    <tr>\n",
              "      <th>39</th>\n",
              "      <td>-0.281255</td>\n",
              "      <td>-1.146403</td>\n",
              "      <td>1.799299</td>\n",
              "      <td>-0.723345</td>\n",
              "      <td>-0.611485</td>\n",
              "    </tr>\n",
              "  </tbody>\n",
              "</table>\n",
              "</div>\n",
              "      <button class=\"colab-df-convert\" onclick=\"convertToInteractive('df-7e34102b-bae8-4974-95dd-9b855c08c9e9')\"\n",
              "              title=\"Convert this dataframe to an interactive table.\"\n",
              "              style=\"display:none;\">\n",
              "        \n",
              "  <svg xmlns=\"http://www.w3.org/2000/svg\" height=\"24px\"viewBox=\"0 0 24 24\"\n",
              "       width=\"24px\">\n",
              "    <path d=\"M0 0h24v24H0V0z\" fill=\"none\"/>\n",
              "    <path d=\"M18.56 5.44l.94 2.06.94-2.06 2.06-.94-2.06-.94-.94-2.06-.94 2.06-2.06.94zm-11 1L8.5 8.5l.94-2.06 2.06-.94-2.06-.94L8.5 2.5l-.94 2.06-2.06.94zm10 10l.94 2.06.94-2.06 2.06-.94-2.06-.94-.94-2.06-.94 2.06-2.06.94z\"/><path d=\"M17.41 7.96l-1.37-1.37c-.4-.4-.92-.59-1.43-.59-.52 0-1.04.2-1.43.59L10.3 9.45l-7.72 7.72c-.78.78-.78 2.05 0 2.83L4 21.41c.39.39.9.59 1.41.59.51 0 1.02-.2 1.41-.59l7.78-7.78 2.81-2.81c.8-.78.8-2.07 0-2.86zM5.41 20L4 18.59l7.72-7.72 1.47 1.35L5.41 20z\"/>\n",
              "  </svg>\n",
              "      </button>\n",
              "      \n",
              "  <style>\n",
              "    .colab-df-container {\n",
              "      display:flex;\n",
              "      flex-wrap:wrap;\n",
              "      gap: 12px;\n",
              "    }\n",
              "\n",
              "    .colab-df-convert {\n",
              "      background-color: #E8F0FE;\n",
              "      border: none;\n",
              "      border-radius: 50%;\n",
              "      cursor: pointer;\n",
              "      display: none;\n",
              "      fill: #1967D2;\n",
              "      height: 32px;\n",
              "      padding: 0 0 0 0;\n",
              "      width: 32px;\n",
              "    }\n",
              "\n",
              "    .colab-df-convert:hover {\n",
              "      background-color: #E2EBFA;\n",
              "      box-shadow: 0px 1px 2px rgba(60, 64, 67, 0.3), 0px 1px 3px 1px rgba(60, 64, 67, 0.15);\n",
              "      fill: #174EA6;\n",
              "    }\n",
              "\n",
              "    [theme=dark] .colab-df-convert {\n",
              "      background-color: #3B4455;\n",
              "      fill: #D2E3FC;\n",
              "    }\n",
              "\n",
              "    [theme=dark] .colab-df-convert:hover {\n",
              "      background-color: #434B5C;\n",
              "      box-shadow: 0px 1px 3px 1px rgba(0, 0, 0, 0.15);\n",
              "      filter: drop-shadow(0px 1px 2px rgba(0, 0, 0, 0.3));\n",
              "      fill: #FFFFFF;\n",
              "    }\n",
              "  </style>\n",
              "\n",
              "      <script>\n",
              "        const buttonEl =\n",
              "          document.querySelector('#df-7e34102b-bae8-4974-95dd-9b855c08c9e9 button.colab-df-convert');\n",
              "        buttonEl.style.display =\n",
              "          google.colab.kernel.accessAllowed ? 'block' : 'none';\n",
              "\n",
              "        async function convertToInteractive(key) {\n",
              "          const element = document.querySelector('#df-7e34102b-bae8-4974-95dd-9b855c08c9e9');\n",
              "          const dataTable =\n",
              "            await google.colab.kernel.invokeFunction('convertToInteractive',\n",
              "                                                     [key], {});\n",
              "          if (!dataTable) return;\n",
              "\n",
              "          const docLinkHtml = 'Like what you see? Visit the ' +\n",
              "            '<a target=\"_blank\" href=https://colab.research.google.com/notebooks/data_table.ipynb>data table notebook</a>'\n",
              "            + ' to learn more about interactive tables.';\n",
              "          element.innerHTML = '';\n",
              "          dataTable['output_type'] = 'display_data';\n",
              "          await google.colab.output.renderOutput(dataTable, element);\n",
              "          const docLink = document.createElement('div');\n",
              "          docLink.innerHTML = docLinkHtml;\n",
              "          element.appendChild(docLink);\n",
              "        }\n",
              "      </script>\n",
              "    </div>\n",
              "  </div>\n",
              "  "
            ]
          },
          "metadata": {},
          "execution_count": 230
        }
      ]
    },
    {
      "cell_type": "code",
      "metadata": {
        "id": "XURL3yqixk5t",
        "colab": {
          "base_uri": "https://localhost:8080/"
        },
        "outputId": "1ed42c7d-cc5c-420f-bf6c-c5142663f263"
      },
      "source": [
        "lasso.predict(test_data)"
      ],
      "execution_count": 231,
      "outputs": [
        {
          "output_type": "execute_result",
          "data": {
            "text/plain": [
              "array([122.8098205])"
            ]
          },
          "metadata": {},
          "execution_count": 231
        }
      ]
    },
    {
      "cell_type": "code",
      "source": [
        " # Calling trained model for predictions:\n",
        "Y_test_predictions = pd.Series(lasso.predict(X_test).flatten(),index=X_test.index)\n",
        "#Visualization of the accuracy:\n",
        "a = plt.axes(aspect='equal')\n",
        "plt.scatter(y_test, Y_test_predictions)\n",
        "plt.xlabel('True Pressure Values')\n",
        "plt.ylabel('Predicted Pressures')\n",
        "lims = [100, 140]\n",
        "plt.xlim(lims), plt.ylim(lims)\n",
        "plt.plot(lims, lims)"
      ],
      "metadata": {
        "colab": {
          "base_uri": "https://localhost:8080/",
          "height": 301
        },
        "outputId": "d3274a75-7467-4f4b-def8-d360163cb418",
        "id": "DD1mJbOkM8wi"
      },
      "execution_count": 232,
      "outputs": [
        {
          "output_type": "execute_result",
          "data": {
            "text/plain": [
              "[<matplotlib.lines.Line2D at 0x7f6298246a10>]"
            ]
          },
          "metadata": {},
          "execution_count": 232
        },
        {
          "output_type": "display_data",
          "data": {
            "text/plain": [
              "<Figure size 432x288 with 1 Axes>"
            ],
            "image/png": "[encoded data removed]"
          },
          "metadata": {
            "needs_background": "light"
          }
        }
      ]
    },
    {
      "cell_type": "code",
      "source": [
        " # Calculating the error variations:\n",
        "error_lasso = (Y_test_predictions - y_test)/y_test*100\n",
        "plt.hist(error_lasso, bins=20)\n",
        "plt.xlabel('Predicted Relative % Error')\n",
        "plt.ylabel('Count')"
      ],
      "metadata": {
        "colab": {
          "base_uri": "https://localhost:8080/",
          "height": 297
        },
        "outputId": "96d8698b-f990-4600-c066-fe5973fdb3e2",
        "id": "4yucfvehM8wk"
      },
      "execution_count": 233,
      "outputs": [
        {
          "output_type": "execute_result",
          "data": {
            "text/plain": [
              "Text(0, 0.5, 'Count')"
            ]
          },
          "metadata": {},
          "execution_count": 233
        },
        {
          "output_type": "display_data",
          "data": {
            "text/plain": [
              "<Figure size 432x288 with 1 Axes>"
            ],
            "image/png": "[encoded data removed]"
          },
          "metadata": {
            "needs_background": "light"
          }
        }
      ]
    },
    {
      "cell_type": "markdown",
      "metadata": {
        "id": "yNDyUUcht59L"
      },
      "source": [
        "# Elastic Net\n",
        "\n",
        "Elastic Net is another linear regression model that can be used with regularization. In this case, we have two terms for the job: the model is trained with both\n",
        "l1 and l2-norm regularization of the coefficients. It allows to train a sparse model similar to Lasso, while still maintaining the properties of an older approach called Ridge (see lecture notes). The hyperparameters of the model are the 'alpha' and 'l1_ratio'. "
      ]
    },
    {
      "cell_type": "code",
      "metadata": {
        "id": "HqX9gkPtujEw"
      },
      "source": [
        "# Hyperparameters:\n",
        "#https://scikit-learn.org/stable/modules/generated/sklearn.linear_model.ElasticNet.html\n",
        "alpha=1.0 #alpha = 0 is equivalent to an ordinary least square but it is not recommended to put zero here!\n",
        "l1_ratio=0.5 # This is new!!\n",
        "normalize=False #\n",
        "max_iter=2000\n",
        "tol=0.00001\n",
        "random_state = 2022\n",
        "selection='cyclic' # (setting to ‘random’) often leads to significantly faster convergence especially when tol is higher than 1e-4.\n",
        "\n",
        "elastic_net = ElasticNet(alpha=alpha, l1_ratio = l1_ratio, max_iter = max_iter, tol = tol, random_state = random_state, selection = selection)"
      ],
      "execution_count": 234,
      "outputs": []
    },
    {
      "cell_type": "code",
      "metadata": {
        "id": "7ZfisH3x9WMQ",
        "colab": {
          "base_uri": "https://localhost:8080/"
        },
        "outputId": "b465a865-42af-4cd5-ff0a-102b66bf678a"
      },
      "source": [
        "# Model Training:\n",
        "#-----------------------------------------------------------------------------\n",
        "#Lists for storing scores\n",
        "trainingScores = []\n",
        "cvScores = []\n",
        "\n",
        "#DataFrame is a 2-dimensional labeled data structure. You can think of it like a spreadsheet.\n",
        "#Indexing in pandas means simply selecting particular rows and columns of data from a DataFrame.\n",
        "#It is  also known as Subset Selection.\n",
        "predictionsBasedOnKFolds = pd.DataFrame(data=[],index=y_train.index,columns=[0,1])\n",
        "\n",
        "####Modified###\n",
        "model = elastic_net\n",
        "\n",
        "#kfold.split will generate indices to split data into training and test set (cv):\n",
        "for train_index, cv_index in k_fold.split(np.zeros(len(X_train)),y_train.ravel()):\n",
        "\n",
        "  #'iloc' can be used when the user doesn’t know the index label:\n",
        "  #Here we are filtering the data based on indices. Data is divided as 902/225.\n",
        "  X_train_fold, X_cv_fold = X_train.iloc[train_index,:], X_train.iloc[cv_index,:]\n",
        "  y_train_fold, y_cv_fold = y_train.iloc[train_index], y_train.iloc[cv_index]\n",
        "\n",
        "  #Fitting the model according to given data:\n",
        "  #Note that model refers to Lasso.\n",
        "  model.fit(X_train_fold, y_train_fold)\n",
        "\n",
        "  #Lets check how good is the fitting.\n",
        "  #'score' returns the coefficient of determination R^2 of the prediction. It is defined as (1 - u/v), \n",
        "  # where u is the residual sum of squares ((y_true - y_pred) ** 2).sum() and v is the total sum of squares ((y_true - y_true.mean()) ** 2).sum(). \n",
        "  #The best possible score is 1.0 and it can be negative (because the model can be arbitrarily worse). \n",
        "  \n",
        "  # We will first look in the training dataset:\n",
        "  scoreTraining = model.score(X_train_fold, y_train_fold)\n",
        "  #Saving our analysis on the list:\n",
        "  trainingScores.append(scoreTraining)\n",
        "\n",
        "  #Lets see how good it is on CV dataset:\n",
        "  scoreCV = model.score(X_cv_fold, y_cv_fold)\n",
        "  #Saving our analysis on the list:\n",
        "  cvScores.append(scoreCV)\n",
        "\n",
        "  #printing the results:\n",
        "  print('Training Score: ', scoreTraining)\n",
        "  print('CV Score: ', scoreCV)\n",
        "\n",
        "#Lets see the overall score for the entire training set (1127)\n",
        "\n",
        "####Modified###\n",
        "scoreElasticNet = model.score(X_train,y_train)\n",
        "print('-----------------------------------')\n",
        "print('Elastic Net Score: ', scoreElasticNet)\n",
        "print('-----------------------------------')\n"
      ],
      "execution_count": 235,
      "outputs": [
        {
          "output_type": "stream",
          "name": "stdout",
          "text": [
            "Training Score:  0.34102566761212927\n",
            "CV Score:  0.3174350886590299\n",
            "Training Score:  0.3332899590253441\n",
            "CV Score:  0.3287272315614398\n",
            "Training Score:  0.34526929251567995\n",
            "CV Score:  0.32467406538065235\n",
            "Training Score:  0.3374070888220144\n",
            "CV Score:  0.3523465581175652\n",
            "Training Score:  0.3388963639519368\n",
            "CV Score:  0.34186771008757966\n",
            "-----------------------------------\n",
            "Elastic Net Score:  0.33947083937557243\n",
            "-----------------------------------\n"
          ]
        }
      ]
    },
    {
      "cell_type": "markdown",
      "metadata": {
        "id": "n1I_9KFOAdoI"
      },
      "source": [
        "## Tuning ElasticNet via Grid Search\n",
        "\n",
        "Above you can see that our model is not really good! Is it possible to improve the model outcome? \n",
        "\n",
        "We can tune the hyperparameters by using the use grid search to sweep possible values.\n",
        "\n",
        "For that purpose, we will use `GridSearchCV` of scikit learn: we will give the list of hyperparameters and it will use CV to test possible combinations. Here we have two parameters to play with: $\\alpha$ and its ratio."
      ]
    },
    {
      "cell_type": "code",
      "metadata": {
        "id": "1th65DH-BZd6",
        "colab": {
          "base_uri": "https://localhost:8080/"
        },
        "outputId": "558a5333-b289-48a0-e1ff-0f58e7bad245"
      },
      "source": [
        "# Looking for the best alpha and ratio value:\n",
        "alphas = np.logspace(-4, 0, 10)\n",
        "l1_ratios = np.logspace(-3,0,10)\n",
        "grid = {'alpha': alphas,'l1_ratio':l1_ratios}\n",
        "\n",
        "#Setting the search:\n",
        "# For scoring: https://scikit-learn.org/stable/modules/model_evaluation.html#scoring-parameter\n",
        "gridSearch = GridSearchCV(elastic_net, grid, scoring='r2', cv=k_fold, refit=True)\n",
        "gridSearch.fit(X_train, y_train)\n",
        "\n",
        "#Saving results:\n",
        "results = gridSearch.cv_results_\n",
        "\n",
        "print('Best R^2 obtained:', gridSearch.best_score_)\n",
        "print('alpha value for the best case:', gridSearch.best_estimator_.alpha)\n",
        "print('l1_ratio value for the best case:', gridSearch.best_estimator_.l1_ratio)"
      ],
      "execution_count": 236,
      "outputs": [
        {
          "output_type": "stream",
          "name": "stdout",
          "text": [
            "Best R^2 obtained: 0.5134302305801419\n",
            "alpha value for the best case: 0.005994842503189409\n",
            "l1_ratio value for the best case: 0.001\n"
          ]
        }
      ]
    },
    {
      "cell_type": "code",
      "metadata": {
        "id": "TxZ9p48NDyYu",
        "colab": {
          "base_uri": "https://localhost:8080/"
        },
        "outputId": "56cccbe1-8619-4401-c963-3a5e5a812b05"
      },
      "source": [
        "#Saving the best parameters back to model:\n",
        "elastic_net = gridSearch.best_estimator_\n",
        "\n",
        "#Alpha and l1 values of the model:\n",
        "elastic_net.alpha, elastic_net.l1_ratio"
      ],
      "execution_count": 237,
      "outputs": [
        {
          "output_type": "execute_result",
          "data": {
            "text/plain": [
              "(0.005994842503189409, 0.001)"
            ]
          },
          "metadata": {},
          "execution_count": 237
        }
      ]
    },
    {
      "cell_type": "code",
      "metadata": {
        "colab": {
          "base_uri": "https://localhost:8080/",
          "height": 81
        },
        "outputId": "8a7527dd-9a36-44e6-8b93-171c46e7ff73",
        "id": "WfTZRYFHPUaa"
      },
      "source": [
        "# Test Problem:\n",
        "test_data = X_test.sample(1,random_state=11).copy()\n",
        "test_data"
      ],
      "execution_count": 238,
      "outputs": [
        {
          "output_type": "execute_result",
          "data": {
            "text/plain": [
              "    frequency  angle_attack  chord_length  Free-stream_velocity  \\\n",
              "39  -0.281255     -1.146403      1.799299             -0.723345   \n",
              "\n",
              "    displacement_thickness  \n",
              "39               -0.611485  "
            ],
            "text/html": [
              "\n",
              "  <div id=\"df-6be507aa-a41d-4bf6-b22a-69490ebb285e\">\n",
              "    <div class=\"colab-df-container\">\n",
              "      <div>\n",
              "<style scoped>\n",
              "    .dataframe tbody tr th:only-of-type {\n",
              "        vertical-align: middle;\n",
              "    }\n",
              "\n",
              "    .dataframe tbody tr th {\n",
              "        vertical-align: top;\n",
              "    }\n",
              "\n",
              "    .dataframe thead th {\n",
              "        text-align: right;\n",
              "    }\n",
              "</style>\n",
              "<table border=\"1\" class=\"dataframe\">\n",
              "  <thead>\n",
              "    <tr style=\"text-align: right;\">\n",
              "      <th></th>\n",
              "      <th>frequency</th>\n",
              "      <th>angle_attack</th>\n",
              "      <th>chord_length</th>\n",
              "      <th>Free-stream_velocity</th>\n",
              "      <th>displacement_thickness</th>\n",
              "    </tr>\n",
              "  </thead>\n",
              "  <tbody>\n",
              "    <tr>\n",
              "      <th>39</th>\n",
              "      <td>-0.281255</td>\n",
              "      <td>-1.146403</td>\n",
              "      <td>1.799299</td>\n",
              "      <td>-0.723345</td>\n",
              "      <td>-0.611485</td>\n",
              "    </tr>\n",
              "  </tbody>\n",
              "</table>\n",
              "</div>\n",
              "      <button class=\"colab-df-convert\" onclick=\"convertToInteractive('df-6be507aa-a41d-4bf6-b22a-69490ebb285e')\"\n",
              "              title=\"Convert this dataframe to an interactive table.\"\n",
              "              style=\"display:none;\">\n",
              "        \n",
              "  <svg xmlns=\"http://www.w3.org/2000/svg\" height=\"24px\"viewBox=\"0 0 24 24\"\n",
              "       width=\"24px\">\n",
              "    <path d=\"M0 0h24v24H0V0z\" fill=\"none\"/>\n",
              "    <path d=\"M18.56 5.44l.94 2.06.94-2.06 2.06-.94-2.06-.94-.94-2.06-.94 2.06-2.06.94zm-11 1L8.5 8.5l.94-2.06 2.06-.94-2.06-.94L8.5 2.5l-.94 2.06-2.06.94zm10 10l.94 2.06.94-2.06 2.06-.94-2.06-.94-.94-2.06-.94 2.06-2.06.94z\"/><path d=\"M17.41 7.96l-1.37-1.37c-.4-.4-.92-.59-1.43-.59-.52 0-1.04.2-1.43.59L10.3 9.45l-7.72 7.72c-.78.78-.78 2.05 0 2.83L4 21.41c.39.39.9.59 1.41.59.51 0 1.02-.2 1.41-.59l7.78-7.78 2.81-2.81c.8-.78.8-2.07 0-2.86zM5.41 20L4 18.59l7.72-7.72 1.47 1.35L5.41 20z\"/>\n",
              "  </svg>\n",
              "      </button>\n",
              "      \n",
              "  <style>\n",
              "    .colab-df-container {\n",
              "      display:flex;\n",
              "      flex-wrap:wrap;\n",
              "      gap: 12px;\n",
              "    }\n",
              "\n",
              "    .colab-df-convert {\n",
              "      background-color: #E8F0FE;\n",
              "      border: none;\n",
              "      border-radius: 50%;\n",
              "      cursor: pointer;\n",
              "      display: none;\n",
              "      fill: #1967D2;\n",
              "      height: 32px;\n",
              "      padding: 0 0 0 0;\n",
              "      width: 32px;\n",
              "    }\n",
              "\n",
              "    .colab-df-convert:hover {\n",
              "      background-color: #E2EBFA;\n",
              "      box-shadow: 0px 1px 2px rgba(60, 64, 67, 0.3), 0px 1px 3px 1px rgba(60, 64, 67, 0.15);\n",
              "      fill: #174EA6;\n",
              "    }\n",
              "\n",
              "    [theme=dark] .colab-df-convert {\n",
              "      background-color: #3B4455;\n",
              "      fill: #D2E3FC;\n",
              "    }\n",
              "\n",
              "    [theme=dark] .colab-df-convert:hover {\n",
              "      background-color: #434B5C;\n",
              "      box-shadow: 0px 1px 3px 1px rgba(0, 0, 0, 0.15);\n",
              "      filter: drop-shadow(0px 1px 2px rgba(0, 0, 0, 0.3));\n",
              "      fill: #FFFFFF;\n",
              "    }\n",
              "  </style>\n",
              "\n",
              "      <script>\n",
              "        const buttonEl =\n",
              "          document.querySelector('#df-6be507aa-a41d-4bf6-b22a-69490ebb285e button.colab-df-convert');\n",
              "        buttonEl.style.display =\n",
              "          google.colab.kernel.accessAllowed ? 'block' : 'none';\n",
              "\n",
              "        async function convertToInteractive(key) {\n",
              "          const element = document.querySelector('#df-6be507aa-a41d-4bf6-b22a-69490ebb285e');\n",
              "          const dataTable =\n",
              "            await google.colab.kernel.invokeFunction('convertToInteractive',\n",
              "                                                     [key], {});\n",
              "          if (!dataTable) return;\n",
              "\n",
              "          const docLinkHtml = 'Like what you see? Visit the ' +\n",
              "            '<a target=\"_blank\" href=https://colab.research.google.com/notebooks/data_table.ipynb>data table notebook</a>'\n",
              "            + ' to learn more about interactive tables.';\n",
              "          element.innerHTML = '';\n",
              "          dataTable['output_type'] = 'display_data';\n",
              "          await google.colab.output.renderOutput(dataTable, element);\n",
              "          const docLink = document.createElement('div');\n",
              "          docLink.innerHTML = docLinkHtml;\n",
              "          element.appendChild(docLink);\n",
              "        }\n",
              "      </script>\n",
              "    </div>\n",
              "  </div>\n",
              "  "
            ]
          },
          "metadata": {},
          "execution_count": 238
        }
      ]
    },
    {
      "cell_type": "code",
      "source": [
        "test_sample_y =y_test.sample(1,random_state=11).copy()\n",
        "print(test_sample_y)"
      ],
      "metadata": {
        "colab": {
          "base_uri": "https://localhost:8080/"
        },
        "outputId": "199c0f76-2138-4104-b82f-12d480e24841",
        "id": "JvYVyTNgPUab"
      },
      "execution_count": 239,
      "outputs": [
        {
          "output_type": "stream",
          "name": "stdout",
          "text": [
            "39    123.689\n",
            "Name: sound_pressure, dtype: float64\n"
          ]
        }
      ]
    },
    {
      "cell_type": "code",
      "metadata": {
        "colab": {
          "base_uri": "https://localhost:8080/"
        },
        "outputId": "c01e35aa-e1ac-40e7-8bda-f96c52f369df",
        "id": "9CuB3dIVPUac"
      },
      "source": [
        "# Calling model for the prediction:\n",
        "elastic_net.predict(test_data)"
      ],
      "execution_count": 240,
      "outputs": [
        {
          "output_type": "execute_result",
          "data": {
            "text/plain": [
              "array([122.82913974])"
            ]
          },
          "metadata": {},
          "execution_count": 240
        }
      ]
    },
    {
      "cell_type": "code",
      "source": [
        " # Calling trained model for predictions:\n",
        "Y_test_predictions = pd.Series(elastic_net.predict(X_test).flatten(),index=X_test.index)\n",
        "#Visualization of the accuracy:\n",
        "a = plt.axes(aspect='equal')\n",
        "plt.scatter(y_test, Y_test_predictions)\n",
        "plt.xlabel('True Pressure Values')\n",
        "plt.ylabel('Predicted Pressures')\n",
        "lims = [100, 140]\n",
        "plt.xlim(lims), plt.ylim(lims)\n",
        "plt.plot(lims, lims)"
      ],
      "metadata": {
        "colab": {
          "base_uri": "https://localhost:8080/",
          "height": 301
        },
        "outputId": "d3778818-80b4-42ae-81c9-6f0e63b011ea",
        "id": "QxnGGnsWPUac"
      },
      "execution_count": 241,
      "outputs": [
        {
          "output_type": "execute_result",
          "data": {
            "text/plain": [
              "[<matplotlib.lines.Line2D at 0x7f629816c090>]"
            ]
          },
          "metadata": {},
          "execution_count": 241
        },
        {
          "output_type": "display_data",
          "data": {
            "text/plain": [
              "<Figure size 432x288 with 1 Axes>"
            ],
            "image/png": "[encoded data removed]"
          },
          "metadata": {
            "needs_background": "light"
          }
        }
      ]
    },
    {
      "cell_type": "code",
      "source": [
        " # Calculating the error variations:\n",
        "error_en = (Y_test_predictions - y_test)/y_test*100\n",
        "plt.hist(error_en, bins=20)\n",
        "plt.xlabel('Predicted Relative % Error')\n",
        "plt.ylabel('Count')"
      ],
      "metadata": {
        "colab": {
          "base_uri": "https://localhost:8080/",
          "height": 297
        },
        "outputId": "ae93917a-e0fa-4f6f-ed83-5f33b4e2a45b",
        "id": "KgPqFsiaPUad"
      },
      "execution_count": 242,
      "outputs": [
        {
          "output_type": "execute_result",
          "data": {
            "text/plain": [
              "Text(0, 0.5, 'Count')"
            ]
          },
          "metadata": {},
          "execution_count": 242
        },
        {
          "output_type": "display_data",
          "data": {
            "text/plain": [
              "<Figure size 432x288 with 1 Axes>"
            ],
            "image/png": "[encoded data removed]"
          },
          "metadata": {
            "needs_background": "light"
          }
        }
      ]
    },
    {
      "cell_type": "markdown",
      "metadata": {
        "id": "6H906e3LyVRk"
      },
      "source": [
        "## Heat map as a visualisation tool for grid search"
      ]
    },
    {
      "cell_type": "markdown",
      "metadata": {
        "id": "i5WG2XU5xT3T"
      },
      "source": [
        "Now lets look closer to the grid search results and analyze the landscape via a heat map, as now we have 2 hyperparameters to play with."
      ]
    },
    {
      "cell_type": "code",
      "metadata": {
        "id": "2iPq8ou_qyMN",
        "colab": {
          "base_uri": "https://localhost:8080/",
          "height": 409
        },
        "outputId": "c9cdb682-fb75-45cf-9313-e7a88983347b"
      },
      "source": [
        "# It is good practice to check how data is organized.\n",
        "# Lets convert the results into a dataframe first:\n",
        "results_overview = pd.DataFrame(results)\n",
        "# Now we can visualize the data to learn about column names and indices:\n",
        "display(results_overview.head())"
      ],
      "execution_count": 243,
      "outputs": [
        {
          "output_type": "display_data",
          "data": {
            "text/plain": [
              "   mean_fit_time  std_fit_time  mean_score_time  std_score_time param_alpha  \\\n",
              "0       0.002935      0.000898         0.001902        0.000693      0.0001   \n",
              "1       0.002503      0.000200         0.001676        0.000157      0.0001   \n",
              "2       0.002416      0.000037         0.001554        0.000029      0.0001   \n",
              "3       0.002488      0.000091         0.001551        0.000029      0.0001   \n",
              "4       0.002340      0.000017         0.001512        0.000015      0.0001   \n",
              "\n",
              "  param_l1_ratio                                             params  \\\n",
              "0          0.001               {'alpha': 0.0001, 'l1_ratio': 0.001}   \n",
              "1       0.002154  {'alpha': 0.0001, 'l1_ratio': 0.00215443469003...   \n",
              "2       0.004642  {'alpha': 0.0001, 'l1_ratio': 0.00464158883361...   \n",
              "3           0.01                {'alpha': 0.0001, 'l1_ratio': 0.01}   \n",
              "4       0.021544  {'alpha': 0.0001, 'l1_ratio': 0.02154434690031...   \n",
              "\n",
              "   split0_test_score  split1_test_score  split2_test_score  split3_test_score  \\\n",
              "0           0.516701           0.523127           0.471014           0.539493   \n",
              "1           0.516701           0.523127           0.471014           0.539493   \n",
              "2           0.516701           0.523127           0.471014           0.539493   \n",
              "3           0.516701           0.523127           0.471014           0.539493   \n",
              "4           0.516701           0.523127           0.471014           0.539492   \n",
              "\n",
              "   split4_test_score  mean_test_score  std_test_score  rank_test_score  \n",
              "0           0.516648         0.513397        0.022775               39  \n",
              "1           0.516648         0.513397        0.022775               40  \n",
              "2           0.516648         0.513397        0.022775               41  \n",
              "3           0.516648         0.513397        0.022775               42  \n",
              "4           0.516648         0.513397        0.022775               43  "
            ],
            "text/html": [
              "\n",
              "  <div id=\"df-993fa3a4-c272-47e4-a3ee-609670af9a90\">\n",
              "    <div class=\"colab-df-container\">\n",
              "      <div>\n",
              "<style scoped>\n",
              "    .dataframe tbody tr th:only-of-type {\n",
              "        vertical-align: middle;\n",
              "    }\n",
              "\n",
              "    .dataframe tbody tr th {\n",
              "        vertical-align: top;\n",
              "    }\n",
              "\n",
              "    .dataframe thead th {\n",
              "        text-align: right;\n",
              "    }\n",
              "</style>\n",
              "<table border=\"1\" class=\"dataframe\">\n",
              "  <thead>\n",
              "    <tr style=\"text-align: right;\">\n",
              "      <th></th>\n",
              "      <th>mean_fit_time</th>\n",
              "      <th>std_fit_time</th>\n",
              "      <th>mean_score_time</th>\n",
              "      <th>std_score_time</th>\n",
              "      <th>param_alpha</th>\n",
              "      <th>param_l1_ratio</th>\n",
              "      <th>params</th>\n",
              "      <th>split0_test_score</th>\n",
              "      <th>split1_test_score</th>\n",
              "      <th>split2_test_score</th>\n",
              "      <th>split3_test_score</th>\n",
              "      <th>split4_test_score</th>\n",
              "      <th>mean_test_score</th>\n",
              "      <th>std_test_score</th>\n",
              "      <th>rank_test_score</th>\n",
              "    </tr>\n",
              "  </thead>\n",
              "  <tbody>\n",
              "    <tr>\n",
              "      <th>0</th>\n",
              "      <td>0.002935</td>\n",
              "      <td>0.000898</td>\n",
              "      <td>0.001902</td>\n",
              "      <td>0.000693</td>\n",
              "      <td>0.0001</td>\n",
              "      <td>0.001</td>\n",
              "      <td>{'alpha': 0.0001, 'l1_ratio': 0.001}</td>\n",
              "      <td>0.516701</td>\n",
              "      <td>0.523127</td>\n",
              "      <td>0.471014</td>\n",
              "      <td>0.539493</td>\n",
              "      <td>0.516648</td>\n",
              "      <td>0.513397</td>\n",
              "      <td>0.022775</td>\n",
              "      <td>39</td>\n",
              "    </tr>\n",
              "    <tr>\n",
              "      <th>1</th>\n",
              "      <td>0.002503</td>\n",
              "      <td>0.000200</td>\n",
              "      <td>0.001676</td>\n",
              "      <td>0.000157</td>\n",
              "      <td>0.0001</td>\n",
              "      <td>0.002154</td>\n",
              "      <td>{'alpha': 0.0001, 'l1_ratio': 0.00215443469003...</td>\n",
              "      <td>0.516701</td>\n",
              "      <td>0.523127</td>\n",
              "      <td>0.471014</td>\n",
              "      <td>0.539493</td>\n",
              "      <td>0.516648</td>\n",
              "      <td>0.513397</td>\n",
              "      <td>0.022775</td>\n",
              "      <td>40</td>\n",
              "    </tr>\n",
              "    <tr>\n",
              "      <th>2</th>\n",
              "      <td>0.002416</td>\n",
              "      <td>0.000037</td>\n",
              "      <td>0.001554</td>\n",
              "      <td>0.000029</td>\n",
              "      <td>0.0001</td>\n",
              "      <td>0.004642</td>\n",
              "      <td>{'alpha': 0.0001, 'l1_ratio': 0.00464158883361...</td>\n",
              "      <td>0.516701</td>\n",
              "      <td>0.523127</td>\n",
              "      <td>0.471014</td>\n",
              "      <td>0.539493</td>\n",
              "      <td>0.516648</td>\n",
              "      <td>0.513397</td>\n",
              "      <td>0.022775</td>\n",
              "      <td>41</td>\n",
              "    </tr>\n",
              "    <tr>\n",
              "      <th>3</th>\n",
              "      <td>0.002488</td>\n",
              "      <td>0.000091</td>\n",
              "      <td>0.001551</td>\n",
              "      <td>0.000029</td>\n",
              "      <td>0.0001</td>\n",
              "      <td>0.01</td>\n",
              "      <td>{'alpha': 0.0001, 'l1_ratio': 0.01}</td>\n",
              "      <td>0.516701</td>\n",
              "      <td>0.523127</td>\n",
              "      <td>0.471014</td>\n",
              "      <td>0.539493</td>\n",
              "      <td>0.516648</td>\n",
              "      <td>0.513397</td>\n",
              "      <td>0.022775</td>\n",
              "      <td>42</td>\n",
              "    </tr>\n",
              "    <tr>\n",
              "      <th>4</th>\n",
              "      <td>0.002340</td>\n",
              "      <td>0.000017</td>\n",
              "      <td>0.001512</td>\n",
              "      <td>0.000015</td>\n",
              "      <td>0.0001</td>\n",
              "      <td>0.021544</td>\n",
              "      <td>{'alpha': 0.0001, 'l1_ratio': 0.02154434690031...</td>\n",
              "      <td>0.516701</td>\n",
              "      <td>0.523127</td>\n",
              "      <td>0.471014</td>\n",
              "      <td>0.539492</td>\n",
              "      <td>0.516648</td>\n",
              "      <td>0.513397</td>\n",
              "      <td>0.022775</td>\n",
              "      <td>43</td>\n",
              "    </tr>\n",
              "  </tbody>\n",
              "</table>\n",
              "</div>\n",
              "      <button class=\"colab-df-convert\" onclick=\"convertToInteractive('df-993fa3a4-c272-47e4-a3ee-609670af9a90')\"\n",
              "              title=\"Convert this dataframe to an interactive table.\"\n",
              "              style=\"display:none;\">\n",
              "        \n",
              "  <svg xmlns=\"http://www.w3.org/2000/svg\" height=\"24px\"viewBox=\"0 0 24 24\"\n",
              "       width=\"24px\">\n",
              "    <path d=\"M0 0h24v24H0V0z\" fill=\"none\"/>\n",
              "    <path d=\"M18.56 5.44l.94 2.06.94-2.06 2.06-.94-2.06-.94-.94-2.06-.94 2.06-2.06.94zm-11 1L8.5 8.5l.94-2.06 2.06-.94-2.06-.94L8.5 2.5l-.94 2.06-2.06.94zm10 10l.94 2.06.94-2.06 2.06-.94-2.06-.94-.94-2.06-.94 2.06-2.06.94z\"/><path d=\"M17.41 7.96l-1.37-1.37c-.4-.4-.92-.59-1.43-.59-.52 0-1.04.2-1.43.59L10.3 9.45l-7.72 7.72c-.78.78-.78 2.05 0 2.83L4 21.41c.39.39.9.59 1.41.59.51 0 1.02-.2 1.41-.59l7.78-7.78 2.81-2.81c.8-.78.8-2.07 0-2.86zM5.41 20L4 18.59l7.72-7.72 1.47 1.35L5.41 20z\"/>\n",
              "  </svg>\n",
              "      </button>\n",
              "      \n",
              "  <style>\n",
              "    .colab-df-container {\n",
              "      display:flex;\n",
              "      flex-wrap:wrap;\n",
              "      gap: 12px;\n",
              "    }\n",
              "\n",
              "    .colab-df-convert {\n",
              "      background-color: #E8F0FE;\n",
              "      border: none;\n",
              "      border-radius: 50%;\n",
              "      cursor: pointer;\n",
              "      display: none;\n",
              "      fill: #1967D2;\n",
              "      height: 32px;\n",
              "      padding: 0 0 0 0;\n",
              "      width: 32px;\n",
              "    }\n",
              "\n",
              "    .colab-df-convert:hover {\n",
              "      background-color: #E2EBFA;\n",
              "      box-shadow: 0px 1px 2px rgba(60, 64, 67, 0.3), 0px 1px 3px 1px rgba(60, 64, 67, 0.15);\n",
              "      fill: #174EA6;\n",
              "    }\n",
              "\n",
              "    [theme=dark] .colab-df-convert {\n",
              "      background-color: #3B4455;\n",
              "      fill: #D2E3FC;\n",
              "    }\n",
              "\n",
              "    [theme=dark] .colab-df-convert:hover {\n",
              "      background-color: #434B5C;\n",
              "      box-shadow: 0px 1px 3px 1px rgba(0, 0, 0, 0.15);\n",
              "      filter: drop-shadow(0px 1px 2px rgba(0, 0, 0, 0.3));\n",
              "      fill: #FFFFFF;\n",
              "    }\n",
              "  </style>\n",
              "\n",
              "      <script>\n",
              "        const buttonEl =\n",
              "          document.querySelector('#df-993fa3a4-c272-47e4-a3ee-609670af9a90 button.colab-df-convert');\n",
              "        buttonEl.style.display =\n",
              "          google.colab.kernel.accessAllowed ? 'block' : 'none';\n",
              "\n",
              "        async function convertToInteractive(key) {\n",
              "          const element = document.querySelector('#df-993fa3a4-c272-47e4-a3ee-609670af9a90');\n",
              "          const dataTable =\n",
              "            await google.colab.kernel.invokeFunction('convertToInteractive',\n",
              "                                                     [key], {});\n",
              "          if (!dataTable) return;\n",
              "\n",
              "          const docLinkHtml = 'Like what you see? Visit the ' +\n",
              "            '<a target=\"_blank\" href=https://colab.research.google.com/notebooks/data_table.ipynb>data table notebook</a>'\n",
              "            + ' to learn more about interactive tables.';\n",
              "          element.innerHTML = '';\n",
              "          dataTable['output_type'] = 'display_data';\n",
              "          await google.colab.output.renderOutput(dataTable, element);\n",
              "          const docLink = document.createElement('div');\n",
              "          docLink.innerHTML = docLinkHtml;\n",
              "          element.appendChild(docLink);\n",
              "        }\n",
              "      </script>\n",
              "    </div>\n",
              "  </div>\n",
              "  "
            ]
          },
          "metadata": {}
        }
      ]
    },
    {
      "cell_type": "code",
      "metadata": {
        "id": "pCn7xJ8pqgfh",
        "colab": {
          "base_uri": "https://localhost:8080/",
          "height": 433
        },
        "outputId": "2b70f2a0-10b8-4147-ad4e-5d91d0bd0f96"
      },
      "source": [
        "# plot the mean cross-validation scores:\n",
        "# Since we know the column names, it is easier to read and further manuplate the data.\n",
        "# Lets create an array 10 x 10, which is the # combinations we tested with hyperparameters.\n",
        "scores = np.array(results_overview.mean_test_score).reshape(10, 10)\n",
        "\n",
        "#Simple Drawing\n",
        "sns.heatmap(scores,cmap='viridis',xticklabels=grid['alpha'],yticklabels=grid['l1_ratio'])\n",
        "\n",
        "#A bit makeup:\n",
        "plt.xlabel(\"alpha\"), plt.ylabel(\"l1_ratio\")\n",
        "plt.title(\"Heat Map of R2 scores as a fucntion of l1_ratio and alpha\")"
      ],
      "execution_count": 244,
      "outputs": [
        {
          "output_type": "execute_result",
          "data": {
            "text/plain": [
              "Text(0.5, 1.0, 'Heat Map of R2 scores as a fucntion of l1_ratio and alpha')"
            ]
          },
          "metadata": {},
          "execution_count": 244
        },
        {
          "output_type": "display_data",
          "data": {
            "text/plain": [
              "<Figure size 432x288 with 2 Axes>"
            ],
            "image/png": "[encoded data removed]"
          },
          "metadata": {
            "needs_background": "light"
          }
        }
      ]
    },
    {
      "cell_type": "markdown",
      "metadata": {
        "id": "R63MK6R9zWmd"
      },
      "source": [
        "Heat maps are good to see the influence of hyperparameters on the error space. In our case, it is good to focus on top right corner. \n",
        "\n",
        "Note that our problem is nonlinear so these linear models can not describe its behaviour. That is, even if you optimize the hyperparameters, the model seems to underfit the data. \n",
        "\n",
        "Lets check that idea with **learning curves.**"
      ]
    },
    {
      "cell_type": "markdown",
      "metadata": {
        "id": "M9fiM4AVE0hM"
      },
      "source": [
        "## Learning Curve\n",
        "\n",
        "In previous exercises, we have used cross-validation to get an idea about the generalization performance of the model. If the performance is much worse for CV, then it is overfitting. If they are both bad, then it is probably underfitting the data and we need more complex models.\n",
        "\n",
        "We can also visualize how the model is learning via 'Learning Plots'. The idea is simple: you need to train the model with growing size of training data and see its performance. Let's do that by defining a function for us:"
      ]
    },
    {
      "cell_type": "code",
      "metadata": {
        "id": "WC937SxZFuwF",
        "colab": {
          "base_uri": "https://localhost:8080/",
          "height": 335
        },
        "outputId": "f69dc3c2-d8ff-4b21-da66-953423a0d907"
      },
      "source": [
        "# Defining our function to run the model and see the evolution of error>\n",
        "def plot_learning_curves(model, X_train, X_test, y_train, y_test):\n",
        "  #Empty lists for data storage:\n",
        "  train_errors, val_errors = [], []\n",
        "  # Remember, we will look at the error as model is trained with more data.\n",
        "  # So we will make predictions with increasing instance sizes for both the training set and test set.\n",
        "  for m in range(1, len(X_train)):\n",
        "    #Model fitting:\n",
        "    model.fit(X_train[:m], y_train[:m])\n",
        "    #Predicting for the training data:\n",
        "    y_train_predict = model.predict(X_train[:m])\n",
        "    #Predicting for the test data:\n",
        "    y_test_predict = model.predict(X_test)\n",
        "    #Saving the errors for the plot for a given data size:\n",
        "    train_errors.append(mean_squared_error(y_train[:m], y_train_predict))\n",
        "    val_errors.append(mean_squared_error(y_test, y_test_predict))\n",
        "  \n",
        "  # Plotting the results:\n",
        "  plt.plot(np.sqrt(train_errors), \"k--\", linewidth=1.5, label=\"train\")\n",
        "  plt.plot(np.sqrt(val_errors), \"b-.\", linewidth=1.5, label=\"test\")\n",
        "  plt.legend()\n",
        "  plt.xlim(0, 50),  plt.ylim(0.01,50)\n",
        "  plt.yscale(\"log\")\n",
        "  plt.xlabel(\"Instances\"),  plt.ylabel(\"MSE\")\n",
        "  \n",
        "# Calling our function to draw the learning curve for elastic net:\n",
        "plot_learning_curves(elastic_net,X_train, X_test, y_train, y_test)"
      ],
      "execution_count": 245,
      "outputs": [
        {
          "output_type": "stream",
          "name": "stderr",
          "text": [
            "/usr/local/lib/python3.7/dist-packages/sklearn/linear_model/_coordinate_descent.py:648: ConvergenceWarning: Objective did not converge. You might want to increase the number of iterations, check the scale of the features or consider increasing regularisation. Duality gap: 0.000e+00, tolerance: 0.000e+00\n",
            "  coef_, l1_reg, l2_reg, X, y, max_iter, tol, rng, random, positive\n"
          ]
        },
        {
          "output_type": "display_data",
          "data": {
            "text/plain": [
              "<Figure size 432x288 with 1 Axes>"
            ],
            "image/png": "[encoded data removed]"
          },
          "metadata": {
            "needs_background": "light"
          }
        }
      ]
    },
    {
      "cell_type": "markdown",
      "metadata": {
        "id": "hxovjFV2sHp0"
      },
      "source": [
        "What does this plot tell us? As the # instances increases, the error in the training set increases as the model cannot fit very well to the increasing volume of data. After around 30 instances, we reach a plateau, after which the mean error does not change much. If we look at the blueline, at few examples, model fails to predict the test data as it has little experience to generalize. **As model learns**, the error goes down and eventually reaches the same plateau. Yet the **error** is too **high** and the **model is too simple** to capture the nonlinearity. "
      ]
    },
    {
      "cell_type": "markdown",
      "metadata": {
        "id": "IoaqPNvetnoJ"
      },
      "source": [
        "# Support Vector Machines\n",
        "\n",
        "Lets try a better approach: SVM. It is a popular method and can be used for classification, regression and even outliers detection. Model is versitile: different Kernel functions can be implemented for the decision function. In SVM, we construct a hyperplane via these Kernel functions in a higher dimensional space and we look for the optimal hyperplane that best separates the data with the highest margin. Linear approach is the fastest but performs poorer for nonlinear datasets. \n",
        "\n",
        "In sci-kit learn, we have three options to implement and you can check the details from here:\n",
        "https://scikit-learn.org/stable/modules/generated/sklearn.svm.SVR.html#\n",
        "\n",
        "\n",
        "Lets try SVM for our dataset!"
      ]
    },
    {
      "cell_type": "markdown",
      "metadata": {
        "id": "issz4ZXW14cI"
      },
      "source": [
        "The next step is to divide the data as the training set and the test set. We will use the same ratio of 3 to 1: "
      ]
    },
    {
      "cell_type": "code",
      "metadata": {
        "id": "TU7vTzsaR6aS"
      },
      "source": [
        "#After the normalization, we need to update the splitted arrays again:\n",
        "X_train, X_test, y_train, y_test = train_test_split(dataX, dataY, test_size=0.25, random_state=2022)"
      ],
      "execution_count": 246,
      "outputs": []
    },
    {
      "cell_type": "markdown",
      "metadata": {
        "id": "151sdEYPESfg"
      },
      "source": [
        "## Model Training and Predictions\n",
        "\n",
        "As we have seen in the lecture, there are 3 important hyperparameters to decide: C, epsilon and kernel. We also need to feed the tol value as we are solving a convex optimization problem."
      ]
    },
    {
      "cell_type": "code",
      "metadata": {
        "id": "iSHteOJ_SVth"
      },
      "source": [
        "# Hyperparameters:\n",
        "# https://scikit-learn.org/stable/modules/generated/sklearn.svm.SVR.html#\n",
        "\n",
        "#__________________________________________________________________________________________\n",
        "#___Notes__________________________________________________________________________________\n",
        "#Radial Basis Function (RBF) kernel, two parameters must be considered: C and gamma. \n",
        "\n",
        "#The parameter C, common to all SVM kernels, trades off misclassification of training examples \n",
        "#against simplicity of the decision surface. \n",
        "#A low C makes the decision surface smooth, while a high C aims at classifying all training examples correctly. \n",
        "#The strength of the regularization is inversely proportional to C. Large C => little regularization; Low C => higher regularization\n",
        "\n",
        "#gamma defines how much influence a single training example has. The larger gamma is, the closer other examples must be to be affected.\n",
        "#__________________________________________________________________________________________\n",
        "\n",
        "kernel='linear' \n",
        "gamma='scale' #Kernel coefficient for ‘rbf’, ‘poly’ and ‘sigmoid’. When scaled, uses 1 / (n_features * X.var()) as value of gamma.\n",
        "C=1.0\n",
        "epsilon=0.1    # Default\n",
        "shrinking=True # Whether to use the shrinking heuristic. \n",
        "tol=0.00001\n",
        "\n",
        "#Setting the model:\n",
        "svr = SVR(kernel= kernel, gamma=gamma, tol=tol, C=C, epsilon=epsilon, shrinking=shrinking)\n",
        "\n",
        " "
      ],
      "execution_count": 247,
      "outputs": []
    },
    {
      "cell_type": "code",
      "metadata": {
        "id": "exJFBJKpEN1C",
        "colab": {
          "base_uri": "https://localhost:8080/"
        },
        "outputId": "b4d57a66-e6e5-40ac-f5cd-c6738f58e5ca"
      },
      "source": [
        "# Model Training:\n",
        "#-----------------------------------------------------------------------------\n",
        "#Lists for storing scores\n",
        "trainingScores = []\n",
        "cvScores = []\n",
        "\n",
        "#DataFrame is a 2-dimensional labeled data structure. You can think of it like a spreadsheet.\n",
        "#Indexing in pandas means simply selecting particular rows and columns of data from a DataFrame.\n",
        "#It is  also known as Subset Selection.\n",
        "predictionsBasedOnKFolds = pd.DataFrame(data=[],index=y_train.index,columns=[0,1])\n",
        "\n",
        "####Modified###\n",
        "model = svr\n",
        "\n",
        "#kfold.split will generate indices to split data into training and test set (cv):\n",
        "for train_index, cv_index in k_fold.split(np.zeros(len(X_train)),y_train.ravel()):\n",
        "\n",
        "  #'iloc' can be used when the user doesn’t know the index label:\n",
        "  #Here we are filtering the data based on indices. Data is divided as 902/225.\n",
        "  X_train_fold, X_cv_fold = X_train.iloc[train_index,:], X_train.iloc[cv_index,:]\n",
        "  y_train_fold, y_cv_fold = y_train.iloc[train_index], y_train.iloc[cv_index]\n",
        "\n",
        "  #Fitting the model according to given data:\n",
        "  #Note that model refers to Lasso.\n",
        "  model.fit(X_train_fold, y_train_fold)\n",
        "\n",
        "  #Lets check how good is the fitting.\n",
        "  #'score' returns the coefficient of determination R^2 of the prediction. It is defined as (1 - u/v), \n",
        "  # where u is the residual sum of squares ((y_true - y_pred) ** 2).sum() and v is the total sum of squares ((y_true - y_true.mean()) ** 2).sum(). \n",
        "  #The best possible score is 1.0 and it can be negative (because the model can be arbitrarily worse). \n",
        "  \n",
        "  # We will first look in the training dataset:\n",
        "  scoreTraining = model.score(X_train_fold, y_train_fold)\n",
        "  #Saving our analysis on the list:\n",
        "  trainingScores.append(scoreTraining)\n",
        "\n",
        "  #Lets see how good it is on CV dataset:\n",
        "  scoreCV = model.score(X_cv_fold, y_cv_fold)\n",
        "  #Saving our analysis on the list:\n",
        "  cvScores.append(scoreCV)\n",
        "\n",
        "  #printing the results:\n",
        "  print('Training Score: ', scoreTraining)\n",
        "  print('CV Score: ', scoreCV)\n",
        "\n",
        "#Lets see the overall score for the entire training set (1127)\n",
        "\n",
        "####Modified###\n",
        "scoreSVM = model.score(X_train,y_train)\n",
        "print('-----------------------------------')\n",
        "print('SVM Regression Score: ', scoreSVM)\n",
        "print('-----------------------------------')"
      ],
      "execution_count": 248,
      "outputs": [
        {
          "output_type": "stream",
          "name": "stdout",
          "text": [
            "Training Score:  0.5022186695768325\n",
            "CV Score:  0.5045206358244514\n",
            "Training Score:  0.501552407194697\n",
            "CV Score:  0.495093485279529\n",
            "Training Score:  0.5152729551035611\n",
            "CV Score:  0.44523465797937245\n",
            "Training Score:  0.49724248896141277\n",
            "CV Score:  0.5200373545888177\n",
            "Training Score:  0.5069984381184225\n",
            "CV Score:  0.5133707386337453\n",
            "-----------------------------------\n",
            "SVM Regression Score:  0.5082296843745604\n",
            "-----------------------------------\n"
          ]
        }
      ]
    },
    {
      "cell_type": "markdown",
      "metadata": {
        "id": "_BVLMnE8GJS5"
      },
      "source": [
        "## Tuning SVM Hyperparameters with Grid Search\n",
        "\n"
      ]
    },
    {
      "cell_type": "markdown",
      "metadata": {
        "id": "m7_H-YriFCLo"
      },
      "source": [
        "The model prediction is not good. So we need to play with the hyper parameters! As an example, here we can play with the kernel and C values. \n",
        "\n",
        "Try yourselves with the epsilon and gamma as well."
      ]
    },
    {
      "cell_type": "code",
      "metadata": {
        "id": "4OQGJWLvGKHw",
        "colab": {
          "base_uri": "https://localhost:8080/"
        },
        "outputId": "125f985f-2a7c-47ec-bb9b-f0098ce8e85a"
      },
      "source": [
        "kernels = ['poly','rbf','sigmoid']\n",
        "Cs = np.logspace(0, 3, 25)\n",
        "#Setting up the grid:\n",
        "grid = {'kernel': kernels,'C':Cs}\n",
        "\n",
        "#Setting the search:\n",
        "# For scoring: https://scikit-learn.org/stable/modules/model_evaluation.html#scoring-parameter\n",
        "\n",
        "gridSearch = GridSearchCV(svr, grid, scoring='r2', cv=k_fold, refit=True)\n",
        "gridSearch.fit(X_train, y_train)\n",
        "results = gridSearch.cv_results_\n",
        "\n",
        "print('Best R^2 obtained:', gridSearch.best_score_)\n",
        "print('gamma value for the best case:', gridSearch.best_estimator_.gamma)\n",
        "print('kernel value for the best case:', gridSearch.best_estimator_.kernel)\n",
        "print('C value for the best case:', gridSearch.best_estimator_.C)"
      ],
      "execution_count": 249,
      "outputs": [
        {
          "output_type": "stream",
          "name": "stdout",
          "text": [
            "Best R^2 obtained: 0.8595650039316972\n",
            "gamma value for the best case: scale\n",
            "kernel value for the best case: rbf\n",
            "C value for the best case: 1000.0\n"
          ]
        }
      ]
    },
    {
      "cell_type": "code",
      "metadata": {
        "id": "12sDwi1ZHr3P",
        "colab": {
          "base_uri": "https://localhost:8080/"
        },
        "outputId": "848519c1-7557-4e86-ff7e-48edff61a447"
      },
      "source": [
        "#Saving the best parameters back to model:\n",
        "svr = gridSearch.best_estimator_\n",
        "#Alpha and l1 values of the model:\n",
        "svr.kernel, svr.C, svr.gamma"
      ],
      "execution_count": 250,
      "outputs": [
        {
          "output_type": "execute_result",
          "data": {
            "text/plain": [
              "('rbf', 1000.0, 'scale')"
            ]
          },
          "metadata": {},
          "execution_count": 250
        }
      ]
    },
    {
      "cell_type": "code",
      "source": [
        "test_sample_y =y_test.sample(1,random_state=11).copy()\n",
        "print(test_sample_y)"
      ],
      "metadata": {
        "colab": {
          "base_uri": "https://localhost:8080/"
        },
        "outputId": "cb807be2-a954-4838-c6be-77e2190e5290",
        "id": "2NoHRVTdP22m"
      },
      "execution_count": 251,
      "outputs": [
        {
          "output_type": "stream",
          "name": "stdout",
          "text": [
            "39    123.689\n",
            "Name: sound_pressure, dtype: float64\n"
          ]
        }
      ]
    },
    {
      "cell_type": "code",
      "metadata": {
        "colab": {
          "base_uri": "https://localhost:8080/"
        },
        "outputId": "8a8476a1-45e5-4876-ec47-248f6065c47b",
        "id": "Z2O3gmlXP22o"
      },
      "source": [
        "# Calling model for the prediction:\n",
        "svr.predict(test_data)"
      ],
      "execution_count": 252,
      "outputs": [
        {
          "output_type": "execute_result",
          "data": {
            "text/plain": [
              "array([123.85740897])"
            ]
          },
          "metadata": {},
          "execution_count": 252
        }
      ]
    },
    {
      "cell_type": "code",
      "source": [
        " # Calling trained model for predictions:\n",
        "Y_test_predictions = pd.Series(svr.predict(X_test).flatten(),index=X_test.index)\n",
        "#Visualization of the accuracy:\n",
        "a = plt.axes(aspect='equal')\n",
        "plt.scatter(y_test, Y_test_predictions)\n",
        "plt.xlabel('True Pressure Values')\n",
        "plt.ylabel('Predicted Pressures')\n",
        "lims = [100, 140]\n",
        "plt.xlim(lims), plt.ylim(lims)\n",
        "plt.plot(lims, lims)"
      ],
      "metadata": {
        "colab": {
          "base_uri": "https://localhost:8080/",
          "height": 301
        },
        "id": "oAG8GRrjMOIb",
        "outputId": "fa65dc1e-4c81-4006-8242-645ef17481a8"
      },
      "execution_count": 253,
      "outputs": [
        {
          "output_type": "execute_result",
          "data": {
            "text/plain": [
              "[<matplotlib.lines.Line2D at 0x7f6298a13150>]"
            ]
          },
          "metadata": {},
          "execution_count": 253
        },
        {
          "output_type": "display_data",
          "data": {
            "text/plain": [
              "<Figure size 432x288 with 1 Axes>"
            ],
            "image/png": "[encoded data removed]"
          },
          "metadata": {
            "needs_background": "light"
          }
        }
      ]
    },
    {
      "cell_type": "code",
      "source": [
        " # Calculating the error variations:\n",
        "error_svm = (Y_test_predictions - y_test)/y_test*100\n",
        "plt.hist(error_svm, bins=20)\n",
        "plt.xlabel('Predicted Relative % Error')\n",
        "plt.ylabel('Count')"
      ],
      "metadata": {
        "colab": {
          "base_uri": "https://localhost:8080/",
          "height": 297
        },
        "id": "BcWiM9t-MZNh",
        "outputId": "b013466d-7388-493f-c010-213e26b3a02c"
      },
      "execution_count": 254,
      "outputs": [
        {
          "output_type": "execute_result",
          "data": {
            "text/plain": [
              "Text(0, 0.5, 'Count')"
            ]
          },
          "metadata": {},
          "execution_count": 254
        },
        {
          "output_type": "display_data",
          "data": {
            "text/plain": [
              "<Figure size 432x288 with 1 Axes>"
            ],
            "image/png": "[encoded data removed]"
          },
          "metadata": {
            "needs_background": "light"
          }
        }
      ]
    },
    {
      "cell_type": "code",
      "metadata": {
        "id": "j4B6uKgMaCiA",
        "colab": {
          "base_uri": "https://localhost:8080/"
        },
        "outputId": "fab45d54-87b3-45b0-f807-10727a507f99"
      },
      "source": [
        "#Lets try a self-defined error for this instance:\n",
        "relative_error = abs(svr.predict(test_data)-y_test[test_data.index])/y_test[test_data.index]*100\n",
        "print('Relative percentage error is:',round(relative_error.values[0],2),'%')"
      ],
      "execution_count": 255,
      "outputs": [
        {
          "output_type": "stream",
          "name": "stdout",
          "text": [
            "Relative percentage error is: 0.14 %\n"
          ]
        }
      ]
    },
    {
      "cell_type": "markdown",
      "metadata": {
        "id": "lmH6K9yI4IKX"
      },
      "source": [
        "## Visualizing the learning curve for SVM"
      ]
    },
    {
      "cell_type": "code",
      "metadata": {
        "colab": {
          "base_uri": "https://localhost:8080/",
          "height": 285
        },
        "outputId": "689b5cb6-031e-465d-bedd-f279eef7fd47",
        "id": "pY2r2sEnRT_I"
      },
      "source": [
        "def plot_learning_curves(model, X_train, X_test, y_train, y_test):\n",
        "  train_errors, val_errors = [], []\n",
        "  for m in range(1, 300):\n",
        "    model.fit(X_train[:m], y_train[:m])\n",
        "    y_train_predict = model.predict(X_train[:m])\n",
        "    y_test_predict = model.predict(X_test)\n",
        "    train_errors.append(mean_squared_error(y_train[:m], y_train_predict))\n",
        "    val_errors.append(mean_squared_error(y_test, y_test_predict))\n",
        "  plt.plot(np.sqrt(train_errors), \"k--\", linewidth=1.5, label=\"train\")\n",
        "  plt.plot(np.sqrt(val_errors), \"b-.\", linewidth=1.5, label=\"test\")\n",
        "  plt.legend()\n",
        "  plt.xlim(0, 300),  plt.ylim(0.001,10)\n",
        "  plt.yscale(\"log\")\n",
        "  plt.xlabel(\"Instances\"),  plt.ylabel(\"MSE\")\n",
        "  \n",
        "\n",
        "plot_learning_curves(svr,X_train, X_test, y_train, y_test)"
      ],
      "execution_count": 273,
      "outputs": [
        {
          "output_type": "display_data",
          "data": {
            "text/plain": [
              "<Figure size 432x288 with 1 Axes>"
            ],
            "image/png": "[encoded data removed]"
          },
          "metadata": {
            "needs_background": "light"
          }
        }
      ]
    },
    {
      "cell_type": "markdown",
      "metadata": {
        "id": "zJeQHrXCPLe9"
      },
      "source": [
        "# An Alternative Linear Approach: Bayesian Regression\n",
        "\n",
        "This is a self-study exercise for you! Look into the explainations in the scikit learn user guides if needed.\n",
        "\n",
        "https://scikit-learn.org/stable/modules/linear_model.html#bayesian-regression\n",
        "\n",
        "https://scikit-learn.org/stable/modules/generated/sklearn.linear_model.BayesianRidge.html\n",
        "\n",
        "\n",
        "A good exercise would be the implementation of the grid search for this method as well. Follow the above examples and repeat the procedure here!\n",
        "\n",
        "Check also:\n",
        "\n",
        "https://scikit-learn.org/stable/auto_examples/linear_model/plot_bayesian_ridge.html\n",
        "\n",
        "https://scikit-learn.org/stable/auto_examples/linear_model/plot_bayesian_ridge_curvefit.html\n",
        "\n",
        "\n",
        "\n"
      ]
    },
    {
      "cell_type": "code",
      "metadata": {
        "id": "_Vay3yl0PTmr"
      },
      "source": [
        "# Hyperparameters:\n",
        "\n",
        "alpha_1 = 1e-06\n",
        "alpha_2 = 1e-06 \n",
        "lambda_1 = 1e-06\n",
        "lambda_2 = 1e-06\n",
        "normalize = False\n",
        "\n",
        "brr = BayesianRidge(alpha_1=alpha_1,alpha_2=alpha_2, lambda_1=lambda_1, lambda_2=lambda_2)"
      ],
      "execution_count": 256,
      "outputs": []
    },
    {
      "cell_type": "code",
      "metadata": {
        "id": "kRJgIGaBUlEI",
        "colab": {
          "base_uri": "https://localhost:8080/"
        },
        "outputId": "31acf491-6f64-4819-bd45-b54d2f26bfcf"
      },
      "source": [
        "# Model Training:\n",
        "#-----------------------------------------------------------------------------\n",
        "#Lists for storing scores\n",
        "trainingScores = []\n",
        "cvScores = []\n",
        "\n",
        "#DataFrame is a 2-dimensional labeled data structure. You can think of it like a spreadsheet.\n",
        "#Indexing in pandas means simply selecting particular rows and columns of data from a DataFrame.\n",
        "#It is  also known as Subset Selection.\n",
        "predictionsBasedOnKFolds = pd.DataFrame(data=[],index=y_train.index,columns=[0,1])\n",
        "\n",
        "####Modified###\n",
        "model = brr\n",
        "\n",
        "#kfold.split will generate indices to split data into training and test set (cv):\n",
        "for train_index, cv_index in k_fold.split(np.zeros(len(X_train)),y_train.ravel()):\n",
        "\n",
        "  #'iloc' can be used when the user doesn’t know the index label:\n",
        "  #Here we are filtering the data based on indices. Data is divided as 902/225.\n",
        "  X_train_fold, X_cv_fold = X_train.iloc[train_index,:], X_train.iloc[cv_index,:]\n",
        "  y_train_fold, y_cv_fold = y_train.iloc[train_index], y_train.iloc[cv_index]\n",
        "\n",
        "  #Fitting the model according to given data:\n",
        "  #Note that model refers to Lasso.\n",
        "  model.fit(X_train_fold, y_train_fold)\n",
        "\n",
        "  #Lets check how good is the fitting.\n",
        "  #'score' returns the coefficient of determination R^2 of the prediction. It is defined as (1 - u/v), \n",
        "  # where u is the residual sum of squares ((y_true - y_pred) ** 2).sum() and v is the total sum of squares ((y_true - y_true.mean()) ** 2).sum(). \n",
        "  #The best possible score is 1.0 and it can be negative (because the model can be arbitrarily worse). \n",
        "  \n",
        "  # We will first look in the training dataset:\n",
        "  scoreTraining = model.score(X_train_fold, y_train_fold)\n",
        "  #Saving our analysis on the list:\n",
        "  trainingScores.append(scoreTraining)\n",
        "\n",
        "  #Lets see how good it is on CV dataset:\n",
        "  scoreCV = model.score(X_cv_fold, y_cv_fold)\n",
        "  #Saving our analysis on the list:\n",
        "  cvScores.append(scoreCV)\n",
        "\n",
        "  #printing the results:\n",
        "  print('Training Score: ', scoreTraining)\n",
        "  print('CV Score: ', scoreCV)\n",
        "\n",
        "#Lets see the overall score for the entire training set (1127)\n",
        "\n",
        "####Modified###\n",
        "scoreBRR = model.score(X_train,y_train)\n",
        "print('-----------------------------------')\n",
        "print('BR Regression Score: ', scoreBRR)\n",
        "print('-----------------------------------')"
      ],
      "execution_count": 257,
      "outputs": [
        {
          "output_type": "stream",
          "name": "stdout",
          "text": [
            "Training Score:  0.5207293700061766\n",
            "CV Score:  0.516217821030102\n",
            "Training Score:  0.5173007249514598\n",
            "CV Score:  0.5230850110350342\n",
            "Training Score:  0.5319485017066251\n",
            "CV Score:  0.47149758493694616\n",
            "Training Score:  0.5160528128051349\n",
            "CV Score:  0.5396552937054842\n",
            "Training Score:  0.5202856477982818\n",
            "CV Score:  0.5166470746888896\n",
            "-----------------------------------\n",
            "BR Regression Score:  0.5195832373902491\n",
            "-----------------------------------\n"
          ]
        }
      ]
    },
    {
      "cell_type": "code",
      "metadata": {
        "id": "qbpu6p8zcddP",
        "colab": {
          "base_uri": "https://localhost:8080/",
          "height": 81
        },
        "outputId": "737afd82-7b9f-4e40-eec7-1a4855093e8c"
      },
      "source": [
        "# Test Problem:\n",
        "test_data = X_test.sample(1,random_state=121).copy()\n",
        "test_data"
      ],
      "execution_count": 258,
      "outputs": [
        {
          "output_type": "execute_result",
          "data": {
            "text/plain": [
              "     frequency  angle_attack  chord_length  Free-stream_velocity  \\\n",
              "802  -0.281255      0.273437     -0.916999              1.312935   \n",
              "\n",
              "     displacement_thickness  \n",
              "802               -0.444607  "
            ],
            "text/html": [
              "\n",
              "  <div id=\"df-ca68d6fd-7b90-4311-87d0-136baf992745\">\n",
              "    <div class=\"colab-df-container\">\n",
              "      <div>\n",
              "<style scoped>\n",
              "    .dataframe tbody tr th:only-of-type {\n",
              "        vertical-align: middle;\n",
              "    }\n",
              "\n",
              "    .dataframe tbody tr th {\n",
              "        vertical-align: top;\n",
              "    }\n",
              "\n",
              "    .dataframe thead th {\n",
              "        text-align: right;\n",
              "    }\n",
              "</style>\n",
              "<table border=\"1\" class=\"dataframe\">\n",
              "  <thead>\n",
              "    <tr style=\"text-align: right;\">\n",
              "      <th></th>\n",
              "      <th>frequency</th>\n",
              "      <th>angle_attack</th>\n",
              "      <th>chord_length</th>\n",
              "      <th>Free-stream_velocity</th>\n",
              "      <th>displacement_thickness</th>\n",
              "    </tr>\n",
              "  </thead>\n",
              "  <tbody>\n",
              "    <tr>\n",
              "      <th>802</th>\n",
              "      <td>-0.281255</td>\n",
              "      <td>0.273437</td>\n",
              "      <td>-0.916999</td>\n",
              "      <td>1.312935</td>\n",
              "      <td>-0.444607</td>\n",
              "    </tr>\n",
              "  </tbody>\n",
              "</table>\n",
              "</div>\n",
              "      <button class=\"colab-df-convert\" onclick=\"convertToInteractive('df-ca68d6fd-7b90-4311-87d0-136baf992745')\"\n",
              "              title=\"Convert this dataframe to an interactive table.\"\n",
              "              style=\"display:none;\">\n",
              "        \n",
              "  <svg xmlns=\"http://www.w3.org/2000/svg\" height=\"24px\"viewBox=\"0 0 24 24\"\n",
              "       width=\"24px\">\n",
              "    <path d=\"M0 0h24v24H0V0z\" fill=\"none\"/>\n",
              "    <path d=\"M18.56 5.44l.94 2.06.94-2.06 2.06-.94-2.06-.94-.94-2.06-.94 2.06-2.06.94zm-11 1L8.5 8.5l.94-2.06 2.06-.94-2.06-.94L8.5 2.5l-.94 2.06-2.06.94zm10 10l.94 2.06.94-2.06 2.06-.94-2.06-.94-.94-2.06-.94 2.06-2.06.94z\"/><path d=\"M17.41 7.96l-1.37-1.37c-.4-.4-.92-.59-1.43-.59-.52 0-1.04.2-1.43.59L10.3 9.45l-7.72 7.72c-.78.78-.78 2.05 0 2.83L4 21.41c.39.39.9.59 1.41.59.51 0 1.02-.2 1.41-.59l7.78-7.78 2.81-2.81c.8-.78.8-2.07 0-2.86zM5.41 20L4 18.59l7.72-7.72 1.47 1.35L5.41 20z\"/>\n",
              "  </svg>\n",
              "      </button>\n",
              "      \n",
              "  <style>\n",
              "    .colab-df-container {\n",
              "      display:flex;\n",
              "      flex-wrap:wrap;\n",
              "      gap: 12px;\n",
              "    }\n",
              "\n",
              "    .colab-df-convert {\n",
              "      background-color: #E8F0FE;\n",
              "      border: none;\n",
              "      border-radius: 50%;\n",
              "      cursor: pointer;\n",
              "      display: none;\n",
              "      fill: #1967D2;\n",
              "      height: 32px;\n",
              "      padding: 0 0 0 0;\n",
              "      width: 32px;\n",
              "    }\n",
              "\n",
              "    .colab-df-convert:hover {\n",
              "      background-color: #E2EBFA;\n",
              "      box-shadow: 0px 1px 2px rgba(60, 64, 67, 0.3), 0px 1px 3px 1px rgba(60, 64, 67, 0.15);\n",
              "      fill: #174EA6;\n",
              "    }\n",
              "\n",
              "    [theme=dark] .colab-df-convert {\n",
              "      background-color: #3B4455;\n",
              "      fill: #D2E3FC;\n",
              "    }\n",
              "\n",
              "    [theme=dark] .colab-df-convert:hover {\n",
              "      background-color: #434B5C;\n",
              "      box-shadow: 0px 1px 3px 1px rgba(0, 0, 0, 0.15);\n",
              "      filter: drop-shadow(0px 1px 2px rgba(0, 0, 0, 0.3));\n",
              "      fill: #FFFFFF;\n",
              "    }\n",
              "  </style>\n",
              "\n",
              "      <script>\n",
              "        const buttonEl =\n",
              "          document.querySelector('#df-ca68d6fd-7b90-4311-87d0-136baf992745 button.colab-df-convert');\n",
              "        buttonEl.style.display =\n",
              "          google.colab.kernel.accessAllowed ? 'block' : 'none';\n",
              "\n",
              "        async function convertToInteractive(key) {\n",
              "          const element = document.querySelector('#df-ca68d6fd-7b90-4311-87d0-136baf992745');\n",
              "          const dataTable =\n",
              "            await google.colab.kernel.invokeFunction('convertToInteractive',\n",
              "                                                     [key], {});\n",
              "          if (!dataTable) return;\n",
              "\n",
              "          const docLinkHtml = 'Like what you see? Visit the ' +\n",
              "            '<a target=\"_blank\" href=https://colab.research.google.com/notebooks/data_table.ipynb>data table notebook</a>'\n",
              "            + ' to learn more about interactive tables.';\n",
              "          element.innerHTML = '';\n",
              "          dataTable['output_type'] = 'display_data';\n",
              "          await google.colab.output.renderOutput(dataTable, element);\n",
              "          const docLink = document.createElement('div');\n",
              "          docLink.innerHTML = docLinkHtml;\n",
              "          element.appendChild(docLink);\n",
              "        }\n",
              "      </script>\n",
              "    </div>\n",
              "  </div>\n",
              "  "
            ]
          },
          "metadata": {},
          "execution_count": 258
        }
      ]
    },
    {
      "cell_type": "code",
      "metadata": {
        "id": "5BdCZRbGb9Hn",
        "colab": {
          "base_uri": "https://localhost:8080/"
        },
        "outputId": "2ef99fa6-a583-4a0a-dea7-f7c7f15345a0"
      },
      "source": [
        "y_mean, y_std = brr.predict(test_data, return_std=True)\n",
        "print ('Predicted value is  %5.2f' %y_mean[0], ' with a SD of  %5.2f' %y_std)"
      ],
      "execution_count": 262,
      "outputs": [
        {
          "output_type": "stream",
          "name": "stdout",
          "text": [
            "Predicted value is  131.48  with a SD of   4.84\n"
          ]
        }
      ]
    },
    {
      "cell_type": "code",
      "metadata": {
        "id": "tLrpuh0HcSQf",
        "colab": {
          "base_uri": "https://localhost:8080/"
        },
        "outputId": "2eb74d26-05da-4954-d9bf-4a04b6efe19c"
      },
      "source": [
        "print ('Test value is  %5.2f' %y_test._get_value(test_data.index.ravel()[0]))"
      ],
      "execution_count": 263,
      "outputs": [
        {
          "output_type": "stream",
          "name": "stdout",
          "text": [
            "Test value is  134.48\n"
          ]
        },
        {
          "output_type": "stream",
          "name": "stderr",
          "text": [
            "/usr/local/lib/python3.7/dist-packages/ipykernel_launcher.py:1: FutureWarning: Index.ravel returning ndarray is deprecated; in a future version this will return a view on self.\n",
            "  \"\"\"Entry point for launching an IPython kernel.\n"
          ]
        }
      ]
    },
    {
      "cell_type": "code",
      "metadata": {
        "id": "S2cJDOj3cS1u",
        "colab": {
          "base_uri": "https://localhost:8080/"
        },
        "outputId": "227ccabf-3800-45ea-8157-8d5ea578d0f7"
      },
      "source": [
        "relative_error = abs(brr.predict(test_data)-y_test[test_data.index])/y_test[test_data.index]*100\n",
        "print('Relative percentage error is:',round(relative_error.values[0],2),'%')"
      ],
      "execution_count": 264,
      "outputs": [
        {
          "output_type": "stream",
          "name": "stdout",
          "text": [
            "Relative percentage error is: 2.22 %\n"
          ]
        }
      ]
    },
    {
      "cell_type": "markdown",
      "metadata": {
        "id": "1yivOgiD7hI9"
      },
      "source": [
        "The prediction is within 2 $\\sigma$ interval!"
      ]
    },
    {
      "cell_type": "code",
      "source": [
        " # Calling trained model for predictions:\n",
        "Y_test_predictions = pd.Series(brr.predict(X_test).flatten(),index=X_test.index)\n",
        "#Visualization of the accuracy:\n",
        "a = plt.axes(aspect='equal')\n",
        "plt.scatter(y_test, Y_test_predictions)\n",
        "plt.xlabel('True Pressure Values')\n",
        "plt.ylabel('Predicted Pressures')\n",
        "lims = [100, 140]\n",
        "plt.xlim(lims), plt.ylim(lims)\n",
        "plt.plot(lims, lims)"
      ],
      "metadata": {
        "colab": {
          "base_uri": "https://localhost:8080/",
          "height": 301
        },
        "outputId": "60c81002-0f7f-4da4-8ab0-1b68c1bfce0e",
        "id": "DzVmWEjvREZ9"
      },
      "execution_count": 265,
      "outputs": [
        {
          "output_type": "execute_result",
          "data": {
            "text/plain": [
              "[<matplotlib.lines.Line2D at 0x7f629889aed0>]"
            ]
          },
          "metadata": {},
          "execution_count": 265
        },
        {
          "output_type": "display_data",
          "data": {
            "text/plain": [
              "<Figure size 432x288 with 1 Axes>"
            ],
            "image/png": "[encoded data removed]"
          },
          "metadata": {
            "needs_background": "light"
          }
        }
      ]
    },
    {
      "cell_type": "code",
      "source": [
        " # Calculating the error variations:\n",
        "error_svm = (Y_test_predictions - y_test)/y_test*100\n",
        "plt.hist(error_svm, bins=20)\n",
        "plt.xlabel('Predicted Relative % Error')\n",
        "plt.ylabel('Count')"
      ],
      "metadata": {
        "colab": {
          "base_uri": "https://localhost:8080/",
          "height": 297
        },
        "outputId": "980a84f4-62ce-4998-a2fc-2053e1a924a8",
        "id": "D-Zo9NZeREZ_"
      },
      "execution_count": 266,
      "outputs": [
        {
          "output_type": "execute_result",
          "data": {
            "text/plain": [
              "Text(0, 0.5, 'Count')"
            ]
          },
          "metadata": {},
          "execution_count": 266
        },
        {
          "output_type": "display_data",
          "data": {
            "text/plain": [
              "<Figure size 432x288 with 1 Axes>"
            ],
            "image/png": "[encoded data removed]"
          },
          "metadata": {
            "needs_background": "light"
          }
        }
      ]
    },
    {
      "cell_type": "markdown",
      "metadata": {
        "id": "gp0chkF-7p7U"
      },
      "source": [
        "## Learning Curve"
      ]
    },
    {
      "cell_type": "code",
      "metadata": {
        "id": "RaVYDHztdR3W",
        "colab": {
          "base_uri": "https://localhost:8080/",
          "height": 285
        },
        "outputId": "8073e31e-d857-4ff7-83f7-57334c450d51"
      },
      "source": [
        "def plot_learning_curves(model, X_train, X_test, y_train, y_test):\n",
        "  train_errors, val_errors = [], []\n",
        "  for m in range(1, 100):\n",
        "    model.fit(X_train[:m], y_train[:m])\n",
        "    y_train_predict = model.predict(X_train[:m])\n",
        "    y_test_predict = model.predict(X_test)\n",
        "    train_errors.append(mean_squared_error(y_train[:m], y_train_predict))\n",
        "    val_errors.append(mean_squared_error(y_test, y_test_predict))\n",
        "  plt.plot(np.sqrt(train_errors), \"k--\", linewidth=1.5, label=\"train\")\n",
        "  plt.plot(np.sqrt(val_errors), \"b-.\", linewidth=1.5, label=\"test\")\n",
        "  plt.legend()\n",
        "  plt.xlim(0, 100),  plt.ylim(1,10)\n",
        "  plt.yscale(\"log\")\n",
        "  plt.xlabel(\"Instances\"),  plt.ylabel(\"MSE\")\n",
        "  \n",
        "\n",
        "plot_learning_curves(brr,X_train, X_test, y_train, y_test)"
      ],
      "execution_count": 267,
      "outputs": [
        {
          "output_type": "display_data",
          "data": {
            "text/plain": [
              "<Figure size 432x288 with 1 Axes>"
            ],
            "image/png": "[encoded data removed]"
          },
          "metadata": {
            "needs_background": "light"
          }
        }
      ]
    },
    {
      "cell_type": "markdown",
      "metadata": {
        "id": "2NLjv7MBlkmK"
      },
      "source": [
        "# Reading Material\n",
        "\n",
        "[Summary of lecture notes with specific useful links](https://git.scc.kit.edu/em0787/data-driven-engineering/-/wikis/DDE-1/Regression)\n",
        "\n",
        "Christopher M. Bishop: Pattern Recognition and Machine Learning, Chapter 3, 7\n",
        "\n",
        "Mehryar Mohri, Foundations of Machine Learning, second edition, Chapter 5, 11\n",
        "\n",
        "https://www.jmlr.org/papers/volume1/tipping01a/tipping01a.pdf"
      ]
    }
  ]
}